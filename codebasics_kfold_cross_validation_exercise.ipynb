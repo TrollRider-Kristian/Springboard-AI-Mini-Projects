{
  "nbformat": 4,
  "nbformat_minor": 0,
  "metadata": {
    "colab": {
      "provenance": [],
      "authorship_tag": "ABX9TyOBp7rZGnSEwlH2RjPJteY5",
      "include_colab_link": true
    },
    "kernelspec": {
      "name": "python3",
      "display_name": "Python 3"
    },
    "language_info": {
      "name": "python"
    }
  },
  "cells": [
    {
      "cell_type": "markdown",
      "metadata": {
        "id": "view-in-github",
        "colab_type": "text"
      },
      "source": [
        "<a href=\"https://colab.research.google.com/github/TrollRider-Kristian/Springboard-AI-Mini-Projects/blob/main/codebasics_kfold_cross_validation_exercise.ipynb\" target=\"_parent\"><img src=\"https://colab.research.google.com/assets/colab-badge.svg\" alt=\"Open In Colab\"/></a>"
      ]
    },
    {
      "cell_type": "code",
      "execution_count": 13,
      "metadata": {
        "id": "bP_J277HZ1r6"
      },
      "outputs": [],
      "source": [
        "from sklearn.datasets import load_iris\n",
        "from sklearn.ensemble import RandomForestClassifier\n",
        "from sklearn.linear_model import LogisticRegression\n",
        "from sklearn.model_selection import train_test_split, KFold, StratifiedKFold\n",
        "from sklearn.svm import SVC"
      ]
    },
    {
      "cell_type": "code",
      "source": [
        "iris_features, iris_target = load_iris(return_X_y = True, as_frame = True)"
      ],
      "metadata": {
        "id": "IOIjGIDKmJmH"
      },
      "execution_count": 2,
      "outputs": []
    },
    {
      "cell_type": "code",
      "source": [
        "print (iris_features.head(10))"
      ],
      "metadata": {
        "colab": {
          "base_uri": "https://localhost:8080/"
        },
        "id": "kno5Q1J8mWEU",
        "outputId": "04bba5be-6dd9-48d0-c43b-9a5c5cdc33b5"
      },
      "execution_count": 3,
      "outputs": [
        {
          "output_type": "stream",
          "name": "stdout",
          "text": [
            "   sepal length (cm)  sepal width (cm)  petal length (cm)  petal width (cm)\n",
            "0                5.1               3.5                1.4               0.2\n",
            "1                4.9               3.0                1.4               0.2\n",
            "2                4.7               3.2                1.3               0.2\n",
            "3                4.6               3.1                1.5               0.2\n",
            "4                5.0               3.6                1.4               0.2\n",
            "5                5.4               3.9                1.7               0.4\n",
            "6                4.6               3.4                1.4               0.3\n",
            "7                5.0               3.4                1.5               0.2\n",
            "8                4.4               2.9                1.4               0.2\n",
            "9                4.9               3.1                1.5               0.1\n"
          ]
        }
      ]
    },
    {
      "cell_type": "code",
      "source": [
        "print (iris_target.head(10))"
      ],
      "metadata": {
        "colab": {
          "base_uri": "https://localhost:8080/"
        },
        "id": "z2P_q5N4mZQe",
        "outputId": "c418601a-0213-41b8-d371-6dd6eb449b40"
      },
      "execution_count": 4,
      "outputs": [
        {
          "output_type": "stream",
          "name": "stdout",
          "text": [
            "0    0\n",
            "1    0\n",
            "2    0\n",
            "3    0\n",
            "4    0\n",
            "5    0\n",
            "6    0\n",
            "7    0\n",
            "8    0\n",
            "9    0\n",
            "Name: target, dtype: int64\n"
          ]
        }
      ]
    },
    {
      "cell_type": "code",
      "source": [
        "print (iris_features.isnull().sum())"
      ],
      "metadata": {
        "colab": {
          "base_uri": "https://localhost:8080/"
        },
        "id": "5dLI1h25mbVw",
        "outputId": "7ab89c9e-2d4e-45a0-88f1-1f422966adc4"
      },
      "execution_count": 5,
      "outputs": [
        {
          "output_type": "stream",
          "name": "stdout",
          "text": [
            "sepal length (cm)    0\n",
            "sepal width (cm)     0\n",
            "petal length (cm)    0\n",
            "petal width (cm)     0\n",
            "dtype: int64\n"
          ]
        }
      ]
    },
    {
      "cell_type": "code",
      "source": [
        "# Play with KFold.  Note that it returns indices, not values.\n",
        "play_with_kfold = KFold (n_splits = 4)\n",
        "\n",
        "split_1d = [(i+1) for i in range (10)]\n",
        "print (split_1d)\n",
        "for partition_train, partition_test in play_with_kfold.split(split_1d):\n",
        "  # https://scikit-learn.org/stable/modules/generated/sklearn.model_selection.KFold.html\n",
        "  # From the docs, n_samples = 10 because the array is of size 10, and n_splits is 4.\n",
        "  # The first 10 % 4 partitions have fold length 10 // 4 + 1 = 2 + 1 = 3.  The rest of length 2.\n",
        "  print (f\"Training Partition: {partition_train}\")\n",
        "  print (f\"Test Partition: {partition_test}\")\n",
        "\n",
        "print (\"-----------------------------------------------------------\")\n",
        "\n",
        "split_2d = [[(i+1) * (j+1) for i in range(4)] for j in range (5)]\n",
        "print (split_2d)\n",
        "for partition_train, partition_test in play_with_kfold.split(split_2d):\n",
        "  # In this case, n_samples = 5 because it's a 5x4 matrix.  We'd need to k-fold the inner arrays separately.\n",
        "  # The first 5 % 4 = 1 partition has fold length 5 // 4 + 1 = 1 + 1 = 2.  The rest are of length 1.\n",
        "  print (f\"Training Partition: {partition_train}\")\n",
        "  print (f\"Test Partition: {partition_test}\")"
      ],
      "metadata": {
        "colab": {
          "base_uri": "https://localhost:8080/"
        },
        "id": "V9l8Ht68nXZ1",
        "outputId": "6317f889-f0f4-421d-c9b0-5494ddacd00f"
      },
      "execution_count": 11,
      "outputs": [
        {
          "output_type": "stream",
          "name": "stdout",
          "text": [
            "[1, 2, 3, 4, 5, 6, 7, 8, 9, 10]\n",
            "Training Partition: [3 4 5 6 7 8 9]\n",
            "Test Partition: [0 1 2]\n",
            "Training Partition: [0 1 2 6 7 8 9]\n",
            "Test Partition: [3 4 5]\n",
            "Training Partition: [0 1 2 3 4 5 8 9]\n",
            "Test Partition: [6 7]\n",
            "Training Partition: [0 1 2 3 4 5 6 7]\n",
            "Test Partition: [8 9]\n",
            "-----------------------------------------------------------\n",
            "[[1, 2, 3, 4], [2, 4, 6, 8], [3, 6, 9, 12], [4, 8, 12, 16], [5, 10, 15, 20]]\n",
            "Training Partition: [2 3 4]\n",
            "Test Partition: [0 1]\n",
            "Training Partition: [0 1 3 4]\n",
            "Test Partition: [2]\n",
            "Training Partition: [0 1 2 4]\n",
            "Test Partition: [3]\n",
            "Training Partition: [0 1 2 3]\n",
            "Test Partition: [4]\n"
          ]
        }
      ]
    },
    {
      "cell_type": "code",
      "source": [
        "# Default is 5 splits, but \"n_splits cannot be greater than the number of members in each class.\"\n",
        "play_with_stratified_kfold = StratifiedKFold (n_splits = 2)\n",
        "test_arr = [\"Fire\", \"Ice\", \"Lightning\", \"Red\", \"Blue\", \"Black\", \"White\", \"Green\"]\n",
        "print (test_arr)\n",
        "# 2 members each in 4 classes, so only 2 splits is ok, can also change i % 4 to i % 2 and n_splits from 2 to 4\n",
        "# note also that test_target must have same length as test_arr\n",
        "test_target = [i % 4 for i in range (len(test_arr))]\n",
        "print (test_target)\n",
        "for partition_train, partition_test in play_with_stratified_kfold.split(test_arr, test_target):\n",
        "  print (f\"Training Partition: {partition_train}\")\n",
        "  print (f\"Test Partition: {partition_test}\")"
      ],
      "metadata": {
        "colab": {
          "base_uri": "https://localhost:8080/"
        },
        "id": "0ULCKo3G8mOe",
        "outputId": "333e5c7d-db19-4545-b163-ad3dfea23eea"
      },
      "execution_count": 31,
      "outputs": [
        {
          "output_type": "stream",
          "name": "stdout",
          "text": [
            "['Fire', 'Ice', 'Lightning', 'Red', 'Blue', 'Black', 'White', 'Green']\n",
            "[0, 1, 2, 3, 0, 1, 2, 3]\n",
            "Training Partition: [4 5 6 7]\n",
            "Test Partition: [0 1 2 3]\n",
            "Training Partition: [0 1 2 3]\n",
            "Test Partition: [4 5 6 7]\n"
          ]
        }
      ]
    },
    {
      "cell_type": "code",
      "source": [
        "features_train, features_test, targets_train, targets_test = train_test_split(\\\n",
        "  iris_features, iris_target, test_size = 0.2, random_state = 9)"
      ],
      "metadata": {
        "id": "-Fzrw9Fmme3I"
      },
      "execution_count": 7,
      "outputs": []
    }
  ]
}