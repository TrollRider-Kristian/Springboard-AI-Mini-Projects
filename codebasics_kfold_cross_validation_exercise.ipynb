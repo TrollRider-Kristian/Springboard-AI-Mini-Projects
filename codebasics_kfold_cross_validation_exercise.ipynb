{
  "nbformat": 4,
  "nbformat_minor": 0,
  "metadata": {
    "colab": {
      "provenance": [],
      "authorship_tag": "ABX9TyMxOp9mrsaWEVP3CrkaG2dF",
      "include_colab_link": true
    },
    "kernelspec": {
      "name": "python3",
      "display_name": "Python 3"
    },
    "language_info": {
      "name": "python"
    }
  },
  "cells": [
    {
      "cell_type": "markdown",
      "metadata": {
        "id": "view-in-github",
        "colab_type": "text"
      },
      "source": [
        "<a href=\"https://colab.research.google.com/github/TrollRider-Kristian/Springboard-AI-Mini-Projects/blob/main/codebasics_kfold_cross_validation_exercise.ipynb\" target=\"_parent\"><img src=\"https://colab.research.google.com/assets/colab-badge.svg\" alt=\"Open In Colab\"/></a>"
      ]
    },
    {
      "cell_type": "code",
      "execution_count": 34,
      "metadata": {
        "id": "bP_J277HZ1r6"
      },
      "outputs": [],
      "source": [
        "from sklearn import tree\n",
        "from sklearn.datasets import load_iris\n",
        "from sklearn.ensemble import RandomForestClassifier\n",
        "from sklearn.linear_model import LogisticRegression\n",
        "from sklearn.model_selection import cross_val_score, KFold, StratifiedKFold\n",
        "from sklearn.svm import SVC"
      ]
    },
    {
      "cell_type": "code",
      "source": [
        "iris_features, iris_target = load_iris(return_X_y = True, as_frame = True)"
      ],
      "metadata": {
        "id": "IOIjGIDKmJmH"
      },
      "execution_count": 35,
      "outputs": []
    },
    {
      "cell_type": "code",
      "source": [
        "print (iris_features.head(10))"
      ],
      "metadata": {
        "colab": {
          "base_uri": "https://localhost:8080/"
        },
        "id": "kno5Q1J8mWEU",
        "outputId": "d3af65a4-607b-4a5e-f926-e318f6edc59c"
      },
      "execution_count": 36,
      "outputs": [
        {
          "output_type": "stream",
          "name": "stdout",
          "text": [
            "   sepal length (cm)  sepal width (cm)  petal length (cm)  petal width (cm)\n",
            "0                5.1               3.5                1.4               0.2\n",
            "1                4.9               3.0                1.4               0.2\n",
            "2                4.7               3.2                1.3               0.2\n",
            "3                4.6               3.1                1.5               0.2\n",
            "4                5.0               3.6                1.4               0.2\n",
            "5                5.4               3.9                1.7               0.4\n",
            "6                4.6               3.4                1.4               0.3\n",
            "7                5.0               3.4                1.5               0.2\n",
            "8                4.4               2.9                1.4               0.2\n",
            "9                4.9               3.1                1.5               0.1\n"
          ]
        }
      ]
    },
    {
      "cell_type": "code",
      "source": [
        "print (iris_target.head(10))"
      ],
      "metadata": {
        "colab": {
          "base_uri": "https://localhost:8080/"
        },
        "id": "z2P_q5N4mZQe",
        "outputId": "abc26249-6f58-49a6-e346-ec8d71a666fa"
      },
      "execution_count": 37,
      "outputs": [
        {
          "output_type": "stream",
          "name": "stdout",
          "text": [
            "0    0\n",
            "1    0\n",
            "2    0\n",
            "3    0\n",
            "4    0\n",
            "5    0\n",
            "6    0\n",
            "7    0\n",
            "8    0\n",
            "9    0\n",
            "Name: target, dtype: int64\n"
          ]
        }
      ]
    },
    {
      "cell_type": "code",
      "source": [
        "print (iris_features.isnull().sum())"
      ],
      "metadata": {
        "colab": {
          "base_uri": "https://localhost:8080/"
        },
        "id": "5dLI1h25mbVw",
        "outputId": "ff2cde38-5c73-48a7-af9e-1f2eaa4b51c5"
      },
      "execution_count": 38,
      "outputs": [
        {
          "output_type": "stream",
          "name": "stdout",
          "text": [
            "sepal length (cm)    0\n",
            "sepal width (cm)     0\n",
            "petal length (cm)    0\n",
            "petal width (cm)     0\n",
            "dtype: int64\n"
          ]
        }
      ]
    },
    {
      "cell_type": "code",
      "source": [
        "# Play with KFold.  Note that it returns indices, not values.\n",
        "play_with_kfold = KFold (n_splits = 4)\n",
        "\n",
        "split_1d = [(i+1) for i in range (10)]\n",
        "print (split_1d)\n",
        "for partition_train, partition_test in play_with_kfold.split(split_1d):\n",
        "  # https://scikit-learn.org/stable/modules/generated/sklearn.model_selection.KFold.html\n",
        "  # From the docs, n_samples = 10 because the array is of size 10, and n_splits is 4.\n",
        "  # The first 10 % 4 partitions have fold length 10 // 4 + 1 = 2 + 1 = 3.  The rest of length 2.\n",
        "  print (f\"Training Partition: {partition_train}\")\n",
        "  print (f\"Test Partition: {partition_test}\")\n",
        "\n",
        "print (\"-----------------------------------------------------------\")\n",
        "\n",
        "split_2d = [[(i+1) * (j+1) for i in range(4)] for j in range (5)]\n",
        "print (split_2d)\n",
        "for partition_train, partition_test in play_with_kfold.split(split_2d):\n",
        "  # In this case, n_samples = 5 because it's a 5x4 matrix.  We'd need to k-fold the inner arrays separately.\n",
        "  # The first 5 % 4 = 1 partition has fold length 5 // 4 + 1 = 1 + 1 = 2.  The rest are of length 1.\n",
        "  print (f\"Training Partition: {partition_train}\")\n",
        "  print (f\"Test Partition: {partition_test}\")"
      ],
      "metadata": {
        "colab": {
          "base_uri": "https://localhost:8080/"
        },
        "id": "V9l8Ht68nXZ1",
        "outputId": "be825b2f-0d3d-4f66-f93f-3efe96fb7dca"
      },
      "execution_count": 39,
      "outputs": [
        {
          "output_type": "stream",
          "name": "stdout",
          "text": [
            "[1, 2, 3, 4, 5, 6, 7, 8, 9, 10]\n",
            "Training Partition: [3 4 5 6 7 8 9]\n",
            "Test Partition: [0 1 2]\n",
            "Training Partition: [0 1 2 6 7 8 9]\n",
            "Test Partition: [3 4 5]\n",
            "Training Partition: [0 1 2 3 4 5 8 9]\n",
            "Test Partition: [6 7]\n",
            "Training Partition: [0 1 2 3 4 5 6 7]\n",
            "Test Partition: [8 9]\n",
            "-----------------------------------------------------------\n",
            "[[1, 2, 3, 4], [2, 4, 6, 8], [3, 6, 9, 12], [4, 8, 12, 16], [5, 10, 15, 20]]\n",
            "Training Partition: [2 3 4]\n",
            "Test Partition: [0 1]\n",
            "Training Partition: [0 1 3 4]\n",
            "Test Partition: [2]\n",
            "Training Partition: [0 1 2 4]\n",
            "Test Partition: [3]\n",
            "Training Partition: [0 1 2 3]\n",
            "Test Partition: [4]\n"
          ]
        }
      ]
    },
    {
      "cell_type": "code",
      "source": [
        "NUM_SPLITS = 4\n",
        "NUM_CLASSES = 2\n",
        "# KRISTIAN_NOTE - Default is 5 splits, but \"n_splits cannot be greater than the number of members in each class.\"\n",
        "play_with_stratified_kfold = StratifiedKFold (n_splits = NUM_SPLITS)\n",
        "test_arr = [\"Fire\", \"Red\", \"Water\", \"Blue\", \"Air\", \"White\", \"Earth\", \"Green\"]\n",
        "print (test_arr)\n",
        "# 4 members each in 2 classes [0:3], so only 2 splits is ok and so is 4 splits, but not 3.\n",
        "# KRISTIAN_NOTE - test_target must have same length as test_arr\n",
        "test_target = [i % NUM_CLASSES for i in range (len(test_arr))]\n",
        "print (test_target)\n",
        "if (len (test_arr) % NUM_SPLITS * NUM_CLASSES == 0):\n",
        "  # The \"Stratified\" part of Stratified KFold will attempt to evenly distribute the members of each\n",
        "  # class in the target evenly among the training and test partitions.  For example, when there are\n",
        "  # 2 members each among 4 classes, one member of each class will go into the training set and one member\n",
        "  # in the test set.  When there are 4 memebers each among 2 classes, two members of each class will\n",
        "  # each go into the training and test sets.  This even division of data points by class is the reason\n",
        "  # Stratified Kfold requires both data AND a target; it's not just dividing data among a random \"fold\".\n",
        "  for partition_train, partition_test in play_with_stratified_kfold.split(test_arr, test_target):\n",
        "    print (f\"Training Partition: {partition_train}\")\n",
        "    print (f\"Test Partition: {partition_test}\")\n",
        "else:\n",
        "  print (\"Sorry, can't divide the data points evenly among the number of distinct classes in test_target.\")"
      ],
      "metadata": {
        "colab": {
          "base_uri": "https://localhost:8080/"
        },
        "id": "0ULCKo3G8mOe",
        "outputId": "0ba47f32-e774-44c7-db9c-d55e606fae8f"
      },
      "execution_count": 40,
      "outputs": [
        {
          "output_type": "stream",
          "name": "stdout",
          "text": [
            "['Fire', 'Red', 'Water', 'Blue', 'Air', 'White', 'Earth', 'Green']\n",
            "[0, 1, 0, 1, 0, 1, 0, 1]\n",
            "Training Partition: [2 3 4 5 6 7]\n",
            "Test Partition: [0 1]\n",
            "Training Partition: [0 1 4 5 6 7]\n",
            "Test Partition: [2 3]\n",
            "Training Partition: [0 1 2 3 6 7]\n",
            "Test Partition: [4 5]\n",
            "Training Partition: [0 1 2 3 4 5]\n",
            "Test Partition: [6 7]\n"
          ]
        }
      ]
    },
    {
      "cell_type": "code",
      "source": [
        "logistic_regression_model = LogisticRegression (solver = 'newton-cg')\n",
        "scores_logistic_regression = []\n",
        "\n",
        "svc_model = SVC ()\n",
        "scores_SVC = []\n",
        "\n",
        "decision_tree_model = tree.DecisionTreeClassifier()\n",
        "scores_decision_tree = []\n",
        "\n",
        "random_forest_model = RandomForestClassifier ()\n",
        "scores_random_forest = []\n",
        "\n",
        "# Here, we use the Stratified Kfold library to split our dataset into training and test sets rather\n",
        "# than train_test_split.  Once our dataset is split, we fit and score the model as always.\n",
        "stratified_kfold_models = StratifiedKFold (n_splits = 5)\n",
        "for partition_train, partition_test in stratified_kfold_models.split (iris_features, iris_target):\n",
        "  features_train = iris_features.loc [partition_train]\n",
        "  features_test = iris_features.loc [partition_test]\n",
        "  targets_train = iris_target.loc [partition_train]\n",
        "  targets_test = iris_target.loc [partition_test]\n",
        "\n",
        "  logistic_regression_model.fit (features_train, targets_train)\n",
        "  scores_logistic_regression.append (logistic_regression_model.score (features_test, targets_test))\n",
        "\n",
        "  svc_model.fit (features_train, targets_train)\n",
        "  scores_SVC.append (svc_model.score (features_test, targets_test))\n",
        "\n",
        "  decision_tree_model.fit (features_train, targets_train)\n",
        "  scores_decision_tree.append (decision_tree_model.score (features_test, targets_test))\n",
        "\n",
        "  random_forest_model.fit (features_train, targets_train)\n",
        "  scores_random_forest.append (random_forest_model.score (features_test, targets_test))\n",
        "\n",
        "print (f\"Logistic Regression Scores: {scores_logistic_regression}\")\n",
        "print (f\"SVC Scores: {scores_SVC}\")\n",
        "print (f\"Decision Tree Scores: {scores_decision_tree}\")\n",
        "print (f\"Random Forest Scores: {scores_random_forest}\")"
      ],
      "metadata": {
        "colab": {
          "base_uri": "https://localhost:8080/"
        },
        "id": "o18kCJV5kC6w",
        "outputId": "5b655dde-3a0b-4231-9af3-4e09b133cfe9"
      },
      "execution_count": 44,
      "outputs": [
        {
          "output_type": "stream",
          "name": "stdout",
          "text": [
            "Logistic Regression Scores: [0.9666666666666667, 1.0, 0.9333333333333333, 0.9666666666666667, 1.0]\n",
            "SVC Scores: [0.9666666666666667, 0.9666666666666667, 0.9666666666666667, 0.9333333333333333, 1.0]\n",
            "Decision Tree Scores: [0.9666666666666667, 0.9666666666666667, 0.9, 0.9666666666666667, 1.0]\n",
            "Random Forest Scores: [0.9666666666666667, 0.9666666666666667, 0.9333333333333333, 0.9666666666666667, 1.0]\n"
          ]
        }
      ]
    },
    {
      "cell_type": "code",
      "source": [
        "# Cross validation is just a one-line shortcut for splitting a dataset's features / target via Stratified Kfold into\n",
        "# training and testing sets, fitting the specified model, and scoring it accordingly.\n",
        "print (f\"Cross-Val Logistic Regression: {cross_val_score (logistic_regression_model, iris_features, iris_target, cv = 5)}\")\n",
        "print (f\"Cross-Val SVC: {cross_val_score (svc_model, iris_features, iris_target, cv = 5)}\")\n",
        "print (f\"Cross-Val Decision Tree: {cross_val_score (decision_tree_model, iris_features, iris_target, cv = 5)}\")\n",
        "print (f\"Cross-Val Random Forest: {cross_val_score (random_forest_model, iris_features, iris_target, cv = 5)}\")"
      ],
      "metadata": {
        "colab": {
          "base_uri": "https://localhost:8080/"
        },
        "id": "pMts4g6Z-P-w",
        "outputId": "4132eb87-604e-47ae-f46e-1ebe56892dc4"
      },
      "execution_count": 45,
      "outputs": [
        {
          "output_type": "stream",
          "name": "stdout",
          "text": [
            "Cross-Val Logistic Regression: [0.96666667 1.         0.93333333 0.96666667 1.        ]\n",
            "Cross-Val SVC: [0.96666667 0.96666667 0.96666667 0.93333333 1.        ]\n",
            "Cross-Val Decision Tree: [0.96666667 0.96666667 0.9        0.96666667 1.        ]\n",
            "Cross-Val Random Forest: [0.96666667 0.96666667 0.93333333 0.93333333 1.        ]\n"
          ]
        }
      ]
    }
  ]
}