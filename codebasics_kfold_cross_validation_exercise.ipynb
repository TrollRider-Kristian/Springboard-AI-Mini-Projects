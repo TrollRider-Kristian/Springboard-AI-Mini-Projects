{
  "nbformat": 4,
  "nbformat_minor": 0,
  "metadata": {
    "colab": {
      "provenance": [],
      "authorship_tag": "ABX9TyO5fCkSAPrhKxboj2oydOmK",
      "include_colab_link": true
    },
    "kernelspec": {
      "name": "python3",
      "display_name": "Python 3"
    },
    "language_info": {
      "name": "python"
    }
  },
  "cells": [
    {
      "cell_type": "markdown",
      "metadata": {
        "id": "view-in-github",
        "colab_type": "text"
      },
      "source": [
        "<a href=\"https://colab.research.google.com/github/TrollRider-Kristian/Springboard-AI-Mini-Projects/blob/main/codebasics_kfold_cross_validation_exercise.ipynb\" target=\"_parent\"><img src=\"https://colab.research.google.com/assets/colab-badge.svg\" alt=\"Open In Colab\"/></a>"
      ]
    },
    {
      "cell_type": "code",
      "execution_count": 2,
      "metadata": {
        "id": "bP_J277HZ1r6"
      },
      "outputs": [],
      "source": [
        "from sklearn.datasets import load_iris\n",
        "from sklearn.ensemble import RandomForestClassifier\n",
        "from sklearn.linear_model import LogisticRegression\n",
        "from sklearn.model_selection import train_test_split, KFold\n",
        "from sklearn.svm import SVC"
      ]
    },
    {
      "cell_type": "code",
      "source": [
        "iris_features, iris_target = load_iris(return_X_y = True, as_frame = True)"
      ],
      "metadata": {
        "id": "IOIjGIDKmJmH"
      },
      "execution_count": 3,
      "outputs": []
    },
    {
      "cell_type": "code",
      "source": [
        "print (iris_features.head(10))"
      ],
      "metadata": {
        "colab": {
          "base_uri": "https://localhost:8080/"
        },
        "id": "kno5Q1J8mWEU",
        "outputId": "04ea9d26-1d73-4938-f27a-55b74fe19d4d"
      },
      "execution_count": 4,
      "outputs": [
        {
          "output_type": "stream",
          "name": "stdout",
          "text": [
            "   sepal length (cm)  sepal width (cm)  petal length (cm)  petal width (cm)\n",
            "0                5.1               3.5                1.4               0.2\n",
            "1                4.9               3.0                1.4               0.2\n",
            "2                4.7               3.2                1.3               0.2\n",
            "3                4.6               3.1                1.5               0.2\n",
            "4                5.0               3.6                1.4               0.2\n",
            "5                5.4               3.9                1.7               0.4\n",
            "6                4.6               3.4                1.4               0.3\n",
            "7                5.0               3.4                1.5               0.2\n",
            "8                4.4               2.9                1.4               0.2\n",
            "9                4.9               3.1                1.5               0.1\n"
          ]
        }
      ]
    },
    {
      "cell_type": "code",
      "source": [
        "print (iris_target.head(10))"
      ],
      "metadata": {
        "colab": {
          "base_uri": "https://localhost:8080/"
        },
        "id": "z2P_q5N4mZQe",
        "outputId": "55a8b65d-7d70-4e71-97e3-b91f9fca8c29"
      },
      "execution_count": 5,
      "outputs": [
        {
          "output_type": "stream",
          "name": "stdout",
          "text": [
            "0    0\n",
            "1    0\n",
            "2    0\n",
            "3    0\n",
            "4    0\n",
            "5    0\n",
            "6    0\n",
            "7    0\n",
            "8    0\n",
            "9    0\n",
            "Name: target, dtype: int64\n"
          ]
        }
      ]
    },
    {
      "cell_type": "code",
      "source": [
        "print (iris_features.isnull().sum())"
      ],
      "metadata": {
        "colab": {
          "base_uri": "https://localhost:8080/"
        },
        "id": "5dLI1h25mbVw",
        "outputId": "139a9888-2169-4bed-9430-25847a86ee5c"
      },
      "execution_count": 6,
      "outputs": [
        {
          "output_type": "stream",
          "name": "stdout",
          "text": [
            "sepal length (cm)    0\n",
            "sepal width (cm)     0\n",
            "petal length (cm)    0\n",
            "petal width (cm)     0\n",
            "dtype: int64\n"
          ]
        }
      ]
    },
    {
      "cell_type": "code",
      "source": [
        "# Play with KFold.\n",
        "play_with_kfold = KFold (n_splits = 4)\n",
        "\n",
        "split_1d = [(i+1) for i in range (10)]\n",
        "print (split_1d)\n",
        "for partition_train, partition_test in play_with_kfold.split(split_1d):\n",
        "  print (partition_train, partition_test)\n",
        "\n",
        "split_2d = [[(i+1) * (j+1) for i in range(4)] for j in range (4)]\n",
        "print (split_2d)\n",
        "for partition_train, partition_test in play_with_kfold.split(split_2d):\n",
        "  print (partition_train, partition_test)"
      ],
      "metadata": {
        "colab": {
          "base_uri": "https://localhost:8080/"
        },
        "id": "V9l8Ht68nXZ1",
        "outputId": "5a91ea50-cd6d-4136-86d4-4fd757f4e28f"
      },
      "execution_count": 13,
      "outputs": [
        {
          "output_type": "stream",
          "name": "stdout",
          "text": [
            "[1, 2, 3, 4, 5, 6, 7, 8, 9, 10]\n",
            "[3 4 5 6 7 8 9] [0 1 2]\n",
            "[0 1 2 6 7 8 9] [3 4 5]\n",
            "[0 1 2 3 4 5 8 9] [6 7]\n",
            "[0 1 2 3 4 5 6 7] [8 9]\n",
            "[[1, 2, 3, 4], [2, 4, 6, 8], [3, 6, 9, 12], [4, 8, 12, 16]]\n",
            "[1 2 3] [0]\n",
            "[0 2 3] [1]\n",
            "[0 1 3] [2]\n",
            "[0 1 2] [3]\n"
          ]
        }
      ]
    },
    {
      "cell_type": "code",
      "source": [
        "features_train, features_test, targets_train, targets_test = train_test_split(\\\n",
        "  iris_features, iris_target, test_size = 0.2, random_state = 9)"
      ],
      "metadata": {
        "id": "-Fzrw9Fmme3I"
      },
      "execution_count": 7,
      "outputs": []
    },
    {
      "cell_type": "code",
      "source": [],
      "metadata": {
        "id": "M74wxBF4m3Cr"
      },
      "execution_count": null,
      "outputs": []
    }
  ]
}