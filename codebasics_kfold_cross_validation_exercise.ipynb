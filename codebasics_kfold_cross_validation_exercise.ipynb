{
  "nbformat": 4,
  "nbformat_minor": 0,
  "metadata": {
    "colab": {
      "provenance": [],
      "authorship_tag": "ABX9TyMFPFnc406bh5H5hgEUjyko",
      "include_colab_link": true
    },
    "kernelspec": {
      "name": "python3",
      "display_name": "Python 3"
    },
    "language_info": {
      "name": "python"
    }
  },
  "cells": [
    {
      "cell_type": "markdown",
      "metadata": {
        "id": "view-in-github",
        "colab_type": "text"
      },
      "source": [
        "<a href=\"https://colab.research.google.com/github/TrollRider-Kristian/Springboard-AI-Mini-Projects/blob/main/codebasics_kfold_cross_validation_exercise.ipynb\" target=\"_parent\"><img src=\"https://colab.research.google.com/assets/colab-badge.svg\" alt=\"Open In Colab\"/></a>"
      ]
    },
    {
      "cell_type": "code",
      "execution_count": 2,
      "metadata": {
        "id": "bP_J277HZ1r6"
      },
      "outputs": [],
      "source": [
        "from sklearn.datasets import load_iris\n",
        "from sklearn.ensemble import RandomForestClassifier\n",
        "from sklearn.linear_model import LogisticRegression\n",
        "from sklearn.model_selection import train_test_split, KFold, StratifiedKFold\n",
        "from sklearn.svm import SVC"
      ]
    },
    {
      "cell_type": "code",
      "source": [
        "iris_features, iris_target = load_iris(return_X_y = True, as_frame = True)"
      ],
      "metadata": {
        "id": "IOIjGIDKmJmH"
      },
      "execution_count": 3,
      "outputs": []
    },
    {
      "cell_type": "code",
      "source": [
        "print (iris_features.head(10))"
      ],
      "metadata": {
        "colab": {
          "base_uri": "https://localhost:8080/"
        },
        "id": "kno5Q1J8mWEU",
        "outputId": "8c48cb2f-fcc2-4b6a-ec05-cfaee5281a83"
      },
      "execution_count": 4,
      "outputs": [
        {
          "output_type": "stream",
          "name": "stdout",
          "text": [
            "   sepal length (cm)  sepal width (cm)  petal length (cm)  petal width (cm)\n",
            "0                5.1               3.5                1.4               0.2\n",
            "1                4.9               3.0                1.4               0.2\n",
            "2                4.7               3.2                1.3               0.2\n",
            "3                4.6               3.1                1.5               0.2\n",
            "4                5.0               3.6                1.4               0.2\n",
            "5                5.4               3.9                1.7               0.4\n",
            "6                4.6               3.4                1.4               0.3\n",
            "7                5.0               3.4                1.5               0.2\n",
            "8                4.4               2.9                1.4               0.2\n",
            "9                4.9               3.1                1.5               0.1\n"
          ]
        }
      ]
    },
    {
      "cell_type": "code",
      "source": [
        "print (iris_target.head(10))"
      ],
      "metadata": {
        "colab": {
          "base_uri": "https://localhost:8080/"
        },
        "id": "z2P_q5N4mZQe",
        "outputId": "1793dd32-c193-45c3-cf69-9baca7ac8307"
      },
      "execution_count": 5,
      "outputs": [
        {
          "output_type": "stream",
          "name": "stdout",
          "text": [
            "0    0\n",
            "1    0\n",
            "2    0\n",
            "3    0\n",
            "4    0\n",
            "5    0\n",
            "6    0\n",
            "7    0\n",
            "8    0\n",
            "9    0\n",
            "Name: target, dtype: int64\n"
          ]
        }
      ]
    },
    {
      "cell_type": "code",
      "source": [
        "print (iris_features.isnull().sum())"
      ],
      "metadata": {
        "colab": {
          "base_uri": "https://localhost:8080/"
        },
        "id": "5dLI1h25mbVw",
        "outputId": "4e98c8f8-0655-48f5-fdb5-c108be4c82c5"
      },
      "execution_count": 6,
      "outputs": [
        {
          "output_type": "stream",
          "name": "stdout",
          "text": [
            "sepal length (cm)    0\n",
            "sepal width (cm)     0\n",
            "petal length (cm)    0\n",
            "petal width (cm)     0\n",
            "dtype: int64\n"
          ]
        }
      ]
    },
    {
      "cell_type": "code",
      "source": [
        "# Play with KFold.  Note that it returns indices, not values.\n",
        "play_with_kfold = KFold (n_splits = 4)\n",
        "\n",
        "split_1d = [(i+1) for i in range (10)]\n",
        "print (split_1d)\n",
        "for partition_train, partition_test in play_with_kfold.split(split_1d):\n",
        "  # https://scikit-learn.org/stable/modules/generated/sklearn.model_selection.KFold.html\n",
        "  # From the docs, n_samples = 10 because the array is of size 10, and n_splits is 4.\n",
        "  # The first 10 % 4 partitions have fold length 10 // 4 + 1 = 2 + 1 = 3.  The rest of length 2.\n",
        "  print (f\"Training Partition: {partition_train}\")\n",
        "  print (f\"Test Partition: {partition_test}\")\n",
        "\n",
        "print (\"-----------------------------------------------------------\")\n",
        "\n",
        "split_2d = [[(i+1) * (j+1) for i in range(4)] for j in range (5)]\n",
        "print (split_2d)\n",
        "for partition_train, partition_test in play_with_kfold.split(split_2d):\n",
        "  # In this case, n_samples = 5 because it's a 5x4 matrix.  We'd need to k-fold the inner arrays separately.\n",
        "  # The first 5 % 4 = 1 partition has fold length 5 // 4 + 1 = 1 + 1 = 2.  The rest are of length 1.\n",
        "  print (f\"Training Partition: {partition_train}\")\n",
        "  print (f\"Test Partition: {partition_test}\")"
      ],
      "metadata": {
        "colab": {
          "base_uri": "https://localhost:8080/"
        },
        "id": "V9l8Ht68nXZ1",
        "outputId": "a5b79c00-2f69-4f06-e609-f58cfcce5879"
      },
      "execution_count": 7,
      "outputs": [
        {
          "output_type": "stream",
          "name": "stdout",
          "text": [
            "[1, 2, 3, 4, 5, 6, 7, 8, 9, 10]\n",
            "Training Partition: [3 4 5 6 7 8 9]\n",
            "Test Partition: [0 1 2]\n",
            "Training Partition: [0 1 2 6 7 8 9]\n",
            "Test Partition: [3 4 5]\n",
            "Training Partition: [0 1 2 3 4 5 8 9]\n",
            "Test Partition: [6 7]\n",
            "Training Partition: [0 1 2 3 4 5 6 7]\n",
            "Test Partition: [8 9]\n",
            "-----------------------------------------------------------\n",
            "[[1, 2, 3, 4], [2, 4, 6, 8], [3, 6, 9, 12], [4, 8, 12, 16], [5, 10, 15, 20]]\n",
            "Training Partition: [2 3 4]\n",
            "Test Partition: [0 1]\n",
            "Training Partition: [0 1 3 4]\n",
            "Test Partition: [2]\n",
            "Training Partition: [0 1 2 4]\n",
            "Test Partition: [3]\n",
            "Training Partition: [0 1 2 3]\n",
            "Test Partition: [4]\n"
          ]
        }
      ]
    },
    {
      "cell_type": "code",
      "source": [
        "NUM_SPLITS = 4\n",
        "NUM_CLASSES = 2\n",
        "# KRISTIAN_NOTE - Default is 5 splits, but \"n_splits cannot be greater than the number of members in each class.\"\n",
        "play_with_stratified_kfold = StratifiedKFold (n_splits = NUM_SPLITS)\n",
        "test_arr = [\"Fire\", \"Red\", \"Water\", \"Blue\", \"Air\", \"White\", \"Earth\", \"Green\"]\n",
        "print (test_arr)\n",
        "# 4 members each in 2 classes [0:3], so only 2 splits is ok and so is 4 splits, but not 3.\n",
        "# KRISTIAN_NOTE - test_target must have same length as test_arr\n",
        "test_target = [i % NUM_CLASSES for i in range (len(test_arr))]\n",
        "print (test_target)\n",
        "if (len (test_arr) % NUM_SPLITS * NUM_CLASSES == 0):\n",
        "  # The \"Stratified\" part of Stratified KFold will attempt to evenly distribute the members of each\n",
        "  # class in the target evenly among the training and test partitions.  For example, when there are\n",
        "  # 2 members each among 4 classes, one member of each class will go into the training set and one member\n",
        "  # in the test set.  When there are 4 memebers each among 2 classes, two members of each class will\n",
        "  # each go into the training and test sets.  This even division of data points by class is the reason\n",
        "  # Stratified Kfold requires both data AND a target; it's not just dividing data among a random \"fold\".\n",
        "  for partition_train, partition_test in play_with_stratified_kfold.split(test_arr, test_target):\n",
        "    print (f\"Training Partition: {partition_train}\")\n",
        "    print (f\"Test Partition: {partition_test}\")\n",
        "else:\n",
        "  print (\"Sorry, can't divide the data points evenly among the number of distinct classes in test_target.\")"
      ],
      "metadata": {
        "colab": {
          "base_uri": "https://localhost:8080/"
        },
        "id": "0ULCKo3G8mOe",
        "outputId": "6d33b16e-081b-4c28-eac0-f982acdcb82d"
      },
      "execution_count": 13,
      "outputs": [
        {
          "output_type": "stream",
          "name": "stdout",
          "text": [
            "['Fire', 'Red', 'Water', 'Blue', 'Air', 'White', 'Earth', 'Green']\n",
            "[0, 1, 0, 1, 0, 1, 0, 1]\n",
            "Training Partition: [2 3 4 5 6 7]\n",
            "Test Partition: [0 1]\n",
            "Training Partition: [0 1 4 5 6 7]\n",
            "Test Partition: [2 3]\n",
            "Training Partition: [0 1 2 3 6 7]\n",
            "Test Partition: [4 5]\n",
            "Training Partition: [0 1 2 3 4 5]\n",
            "Test Partition: [6 7]\n"
          ]
        }
      ]
    },
    {
      "cell_type": "code",
      "source": [
        "features_train, features_test, targets_train, targets_test = train_test_split(\\\n",
        "  iris_features, iris_target, test_size = 0.2, random_state = 9)"
      ],
      "metadata": {
        "id": "-Fzrw9Fmme3I"
      },
      "execution_count": 14,
      "outputs": []
    },
    {
      "cell_type": "code",
      "source": [
        "stratified_kfold_models = StratifiedKFold (n_splits = 3)"
      ],
      "metadata": {
        "id": "o18kCJV5kC6w"
      },
      "execution_count": 15,
      "outputs": []
    }
  ]
}