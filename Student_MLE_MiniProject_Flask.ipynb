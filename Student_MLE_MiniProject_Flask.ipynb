{
  "cells": [
    {
      "cell_type": "markdown",
      "metadata": {
        "id": "view-in-github",
        "colab_type": "text"
      },
      "source": [
        "<a href=\"https://colab.research.google.com/github/TrollRider-Kristian/Springboard-AI-Mini-Projects/blob/main/Student_MLE_MiniProject_Flask.ipynb\" target=\"_parent\"><img src=\"https://colab.research.google.com/assets/colab-badge.svg\" alt=\"Open In Colab\"/></a>"
      ]
    },
    {
      "cell_type": "markdown",
      "source": [
        "# Mini Project: Flask for ML Tasks\n",
        "\n",
        "Flask is a micro web framework for Python that simplifies the process of building web applications. It's designed to be lightweight, flexible, and easy to use, making it a popular choice for developing web applications, APIs, and microservices. Flask doesn't impose a lot of constraints on how you structure your application, giving you the freedom to design your application as needed.\n",
        "\n",
        "Here's how Flask works and how it can be used for machine learning engineering:\n",
        "\n",
        "**1. Web Application Basics:**\n",
        "Flask allows you to define routes (URLs) and associate them with Python functions. When a user visits a specific URL, the associated function is executed, and you can return HTML, JSON, images, or any other type of data as a response. This makes it great for building dynamic and interactive web applications.\n",
        "\n",
        "**2. Integration with Machine Learning:**\n",
        "Flask can be incredibly useful in the context of machine learning engineering for a variety of purposes:\n",
        "\n",
        "- **Model Deployment:** Flask can be used to deploy machine learning models as APIs. Once your model is trained, you can create a Flask app that exposes the model through a web API. This enables other applications, platforms, or services to easily interact with and use your trained models for making predictions.\n",
        "\n",
        "- **Data Visualization:** You can use Flask to create interactive visualizations of data and model predictions. This is particularly useful when you want to provide users with a graphical representation of your machine learning insights.\n",
        "\n",
        "- **Custom Preprocessing:** If your machine learning model requires preprocessing steps before making predictions, Flask can be used to create an interface where users can input data, and your app preprocesses the data and feeds it to the model for prediction.\n",
        "\n",
        "- **User Interface:** Flask can help you create user-friendly interfaces for your machine learning models, allowing non-technical users to interact with and utilize your models without writing code.\n",
        "\n",
        "- **A/B Testing and Experimentation:** Flask apps can be used to deploy different versions of your models for A/B testing or experimentation, allowing you to compare the performance of different models and make data-driven decisions.\n",
        "\n",
        "**3. Real-world Example:**\n",
        "Imagine you've trained a sentiment analysis model, and you want to allow users to input text and get predictions about the sentiment of the text. You can create a Flask app that provides a simple web interface where users can type in their text, and the app sends the text to your sentiment analysis model and displays the result."
      ],
      "metadata": {
        "id": "yPbWViOfnJFg"
      }
    },
    {
      "cell_type": "markdown",
      "source": [
        "A typical Flask application follows a specific structure that helps organize your code, templates, static files, and other resources. This structure is designed to keep your codebase organized and maintainable as your application grows. The layout typically consists of several key components:\n",
        "\n",
        "1. **Main Application File (`app.py` or similar):**\n",
        "   This is the entry point of your Flask application. It contains the core configuration, route definitions, and application setup. You define the routes (URLs) your application will respond to, and associate each route with a Python function that handles the logic for that route.\n",
        "\n",
        "2. **Templates Folder (`templates/`):**\n",
        "   This folder contains your HTML templates. Flask uses a templating engine (Jinja2 by default) to generate dynamic HTML content. Templates allow you to separate the presentation (HTML) from the logic (Python) in your application, making your code more organized and maintainable. Templates can also include placeholders for dynamic data that Flask fills in when rendering the template.\n",
        "\n",
        "3. **Static Folder (`static/`):**\n",
        "   The `static` folder holds static assets like CSS files, JavaScript files, images, fonts, and other resources that are directly served to the user's browser. These assets are typically used to style and enhance the appearance of your web application. By separating static assets from dynamic content, you can optimize the performance of your application.\n",
        "\n",
        "4. **Other Application Files and Modules:**\n",
        "   Depending on the complexity of your application, you might create additional modules or packages to handle different aspects of your application, such as database interactions, machine learning model deployment, authentication, and more. These modules help keep your codebase modular and maintainable.\n",
        "\n",
        "Here's a simplified example of the structure of a Flask application:\n",
        "\n",
        "```\n",
        "my_flask_app/\n",
        "├── app.py\n",
        "├── templates/\n",
        "│   ├── index.html\n",
        "│   ├── result.html\n",
        "├── static/\n",
        "│   ├── styles.css\n",
        "│   ├── script.js\n",
        "└── other_modules/\n",
        "    ├── database.py\n",
        "    ├── ml_model.py\n",
        "```\n",
        "\n",
        "In this example:\n",
        "\n",
        "- `app.py` is the main application file where you define routes, configure the app, and handle requests.\n",
        "- The `templates` folder contains HTML templates that define the structure of your web pages.\n",
        "- The `static` folder holds static assets like CSS and JavaScript files.\n",
        "- The `other_modules` folder might contain additional modules or packages for handling specific tasks, like interacting with a database (`database.py`) or deploying a machine learning model (`ml_model.py`).\n",
        "\n",
        "The separation of static files and templates helps you maintain clean and organized code. Static assets are served directly to users, while templates are used to dynamically generate HTML pages. This structure facilitates collaboration among team members and makes it easier to understand, maintain, and extend your Flask application."
      ],
      "metadata": {
        "id": "yHTfSly5qyjK"
      }
    },
    {
      "cell_type": "markdown",
      "source": [
        "In this mini-project you'll be introduced to Flask by developing an application where your render a bar plot based on user-input data through an API. Note, colab is not a natural place for API development. Colab is mainly used here to be consistent with other mini-projects.\n",
        "\n",
        "As such, we'll need to leverage a tool called [ngrok](https://ngrok.com/). Ngrok is a tool that allows you to create secure tunnels from a public endpoint to a locally running web service or application. It enables you to expose your local server to the internet, making it accessible to others even if it's running on your own computer behind firewalls or NAT (Network Address Translation) devices. In this mini-project, we'll use ngrok to expose your colab instance to the wider internet. Again, you'd never use something like this for production.\n",
        "\n",
        "Go ahead and sign up for an ngrok account [here](https://ngrok.com/). It's free and useful for a wide variety of tasks."
      ],
      "metadata": {
        "id": "ckZ-l9RTr_Ef"
      }
    },
    {
      "cell_type": "code",
      "execution_count": 1,
      "metadata": {
        "id": "Bc5p2nJfsxer",
        "outputId": "3e2752b1-1fa8-4f80-a2af-b2c254ab03c7",
        "colab": {
          "base_uri": "https://localhost:8080/"
        }
      },
      "outputs": [
        {
          "output_type": "stream",
          "name": "stdout",
          "text": [
            "Collecting pyngrok\n",
            "  Downloading pyngrok-7.4.0-py3-none-any.whl.metadata (8.1 kB)\n",
            "Requirement already satisfied: PyYAML>=5.1 in /usr/local/lib/python3.12/dist-packages (from pyngrok) (6.0.3)\n",
            "Downloading pyngrok-7.4.0-py3-none-any.whl (25 kB)\n",
            "Installing collected packages: pyngrok\n",
            "Successfully installed pyngrok-7.4.0\n",
            "Requirement already satisfied: flask in /usr/local/lib/python3.12/dist-packages (3.1.2)\n",
            "Requirement already satisfied: blinker>=1.9.0 in /usr/local/lib/python3.12/dist-packages (from flask) (1.9.0)\n",
            "Requirement already satisfied: click>=8.1.3 in /usr/local/lib/python3.12/dist-packages (from flask) (8.3.0)\n",
            "Requirement already satisfied: itsdangerous>=2.2.0 in /usr/local/lib/python3.12/dist-packages (from flask) (2.2.0)\n",
            "Requirement already satisfied: jinja2>=3.1.2 in /usr/local/lib/python3.12/dist-packages (from flask) (3.1.6)\n",
            "Requirement already satisfied: markupsafe>=2.1.1 in /usr/local/lib/python3.12/dist-packages (from flask) (3.0.3)\n",
            "Requirement already satisfied: werkzeug>=3.1.0 in /usr/local/lib/python3.12/dist-packages (from flask) (3.1.3)\n"
          ]
        }
      ],
      "source": [
        "!pip install pyngrok\n",
        "!pip install flask"
      ]
    },
    {
      "cell_type": "markdown",
      "source": [
        "Execute the cell below to authenticate to ngrok. Paste your authentication token after copying it from [https://dashboard.ngrok.com/auth](https://dashboard.ngrok.com/auth). This assumes you've already created an ngrok account.  "
      ],
      "metadata": {
        "id": "harGkq13JK9j"
      }
    },
    {
      "cell_type": "code",
      "execution_count": 2,
      "metadata": {
        "id": "t_CERy7auqz3",
        "outputId": "7017ec8a-fe5f-46dd-e86f-91fd69c1f6b0",
        "colab": {
          "base_uri": "https://localhost:8080/"
        }
      },
      "outputs": [
        {
          "name": "stdout",
          "output_type": "stream",
          "text": [
            "Enter your authtoken, which can be copied from https://dashboard.ngrok.com/auth\n",
            "··········\n"
          ]
        }
      ],
      "source": [
        "import getpass\n",
        "from pyngrok import ngrok, conf\n",
        "\n",
        "print(\"Enter your authtoken, which can be copied from https://dashboard.ngrok.com/auth\")\n",
        "conf.get_default().auth_token = getpass.getpass()"
      ]
    },
    {
      "cell_type": "markdown",
      "source": [
        "Time to create our Flask application. Here are your tasks:\n",
        "\n",
        "1. In your colab notebook create a new folder named `static`. In the folder create a file called `styles.css` and populate it with the following code:\n",
        "```css\n",
        ".chart-container {\n",
        "    width: 80%;\n",
        "    margin: 20px auto;\n",
        "}\n",
        "```\n",
        "This creates parameters for the bar chart we'll be creating. Note, the full directory of the file should be `/content/static/styles.css`.\n",
        "2. Create another folder named `templates`. Create a file called `index.html` and populate it with the following html code:\n",
        "```html\n",
        "<!DOCTYPE html>\n",
        "<html>\n",
        "<head>\n",
        "    <title>Data Visualization with Flask</title>\n",
        "    <link rel=\"stylesheet\" href=\"{{ url_for('static', filename='styles.css') }}\">\n",
        "</head>\n",
        "<body>\n",
        "    <h1>Data Visualization with Flask</h1>\n",
        "    <form method=\"POST\" action=\"/\">\n",
        "        <div>\n",
        "            <label for=\"categories\">Categories (comma-separated):</label>\n",
        "            <input type=\"text\" name=\"categories\" required>\n",
        "        </div>\n",
        "        <div>\n",
        "            <label for=\"values\">Values (comma-separated):</label>\n",
        "            <input type=\"text\" name=\"values\" required>\n",
        "        </div>\n",
        "        <button type=\"submit\">Generate Bar Chart</button>\n",
        "    </form>\n",
        "    <div class=\"chart-container\">\n",
        "        {% if chart_url %}\n",
        "            <img src=\"data:image/png;base64,{{ chart_url }}\" alt=\"Bar Chart\">\n",
        "        {% endif %}\n",
        "    </div>\n",
        "</body>\n",
        "</html>\n",
        "```\n",
        "Html is a pretty intuitive language to understand. Go through each line and make sure you understand what's happening. An extremely useful skill for an engineer is to be able to *understand* any kind of code, even if the engineer doesn't fully know how to write in the language."
      ],
      "metadata": {
        "id": "N3tXQyHOKORk"
      }
    },
    {
      "cell_type": "code",
      "source": [
        "# Mount the above HTML / CSS files above so I don't have to recopy them every\n",
        "# single time I disconnect the runtime.\n",
        "from google.colab import drive\n",
        "drive.mount ('/content/drive/', force_remount = True)"
      ],
      "metadata": {
        "colab": {
          "base_uri": "https://localhost:8080/"
        },
        "id": "Ch2VuVZ32S2N",
        "outputId": "20975a32-3223-4b1f-efe8-c8c931d0d69a"
      },
      "execution_count": 3,
      "outputs": [
        {
          "output_type": "stream",
          "name": "stdout",
          "text": [
            "Mounted at /content/drive/\n"
          ]
        }
      ]
    },
    {
      "cell_type": "markdown",
      "source": [
        "1. Write a function called `generate_bar_chart` that takes a list of category names and respective values and generates a bar chart using [plt.bar](https://matplotlib.org/stable/api/_as_gen/matplotlib.pyplot.bar.html). In the function, return your barplot as a UTF-8 encoded string. It may be useful to create a BytesIO object using [io.BytesIO](https://docs.python.org/3/library/io.html#io.BytesIO) to store the barplot and then [base64.b64encode](https://docs.python.org/3/library/base64.html#base64.b64encode) to create the encoding.\n",
        "2. Now, you'll be filling in the `index` function that serves as the landing page for our application. If you're not too familiar with how HTTP works, read this quick primer [here](https://jaimelightfoot.com/blog/how-http-works/). From the form defined in `index.html`, extract the input for the `categories` field and store it in a list. Also, extract the input for the `values` field and store it in a list as well.\n",
        "3. Pass the two lists from the previous step to your function `generate_bar_chart`.\n",
        "4. The output of `generate_bar_chart` in the index function should then be passed to Flask's [render_template](https://flask.palletsprojects.com/en/2.3.x/api/#flask.render_template) and returned by the function.\n",
        "5. Execute the cell below with your code and click on the link output by \"ngrok tunnel\". This is the application landing page. See if everything works.\n",
        "6. Have fun with the application built here. See if you can extend it in some way. Make sure you understand how the python code interacts with the html template.\n",
        "\n",
        "**If you rerun the cell below and get a port issue, go ahead and restart the colab runtime environment and try again.**"
      ],
      "metadata": {
        "id": "GC7RCUTzMOVs"
      }
    },
    {
      "cell_type": "code",
      "source": [
        "from flask import Flask, render_template, request\n",
        "import threading\n",
        "import matplotlib.pyplot as plt\n",
        "import io\n",
        "import os\n",
        "import base64\n",
        "\n",
        "import logging\n",
        "from logging import FileHandler\n",
        "\n",
        "os.environ[\"FLASK_DEBUG\"] = \"development\"\n",
        "\n",
        "# KRISTIAN_NOTE - Since I'm mounting my Google Drive, I'd like the app to\n",
        "# recognize my html and css files.\n",
        "root_project_folder = 'drive/MyDrive/Colab Notebooks/ai-ml-drive-files'\n",
        "styles_folder = root_project_folder + '/static'\n",
        "app = Flask(__name__,\\\n",
        "  template_folder = root_project_folder,\\\n",
        "  static_folder = styles_folder,\\\n",
        ")\n",
        "port = 5000\n",
        "\n",
        "# Open a ngrok tunnel to the HTTP server\n",
        "public_url = ngrok.connect(port).public_url\n",
        "print(\" * ngrok tunnel \\\"{}\\\" -> \\\"http://127.0.0.1:{}\\\"\".format(public_url, port))\n",
        "\n",
        "# Update any base URLs to use the public ngrok URL\n",
        "app.config[\"BASE_URL\"] = public_url\n",
        "\n",
        "def generate_bar_chart(categories, values):\n",
        "    # Write code here for a fuction that takes a list of category names and\n",
        "    # respective values and generates a bar chart using plt.bar.\n",
        "    figure, axes = plt.subplots()\n",
        "    axes.bar (categories, values)\n",
        "    # Save bar chart to ByteIO object instead of filepath.  Thanks Reddit and StackOverflow:\n",
        "    # https://www.reddit.com/r/learnpython/comments/109rec5/pandas_plot_to_bytes_without_writing_to_disk/\n",
        "    # https://stackoverflow.com/questions/38061267/matplotlib-graphic-image-to-base64\n",
        "    # Side note, we can return the actual png for debugging purposes to make sure it's right.\n",
        "    bytecode_bar = io.BytesIO()\n",
        "    plt.savefig(bytecode_bar, format='PNG')\n",
        "    bytecode_bar.seek(0)\n",
        "    # Return your barplot as a UTF-8 encoded string.\n",
        "    return base64.b64encode(bytecode_bar.read())\n",
        "\n",
        "def extract_stats_from_request_form (request):\n",
        "  # Extract categories from the request form and convert the string to a list.\n",
        "  # KRISTIAN_TODO - Trim spaces after commas.\n",
        "  bar_categories = request.form.to_dict()['categories'].split(',')\n",
        "  # Extract values from the request form and convert the input string to a\n",
        "  # list of integers.\n",
        "  # KRISTIAN_TODO - Trim spaces after commas.\n",
        "  bar_values = request.form.to_dict()['values'].split(',')\n",
        "  return {'categories': bar_categories, 'values': bar_values}\n",
        "\n",
        "def which_of_categories_and_values_has_fewer(stats):\n",
        "  if len(stats['categories']) < len(stats['values']):\n",
        "    return 'categories'\n",
        "  elif len(stats['categories']) > len(stats['values']):\n",
        "    return 'values'\n",
        "  else:\n",
        "    return None\n",
        "\n",
        "# KRISTIAN_NOTE - It's bad UX to delete user-specified information, even in the\n",
        "# case of a user-error.\n",
        "def equalize_categories_and_values_with_placeholders(stats):\n",
        "  # KRISTIAN_TODO - Finish this method.\n",
        "  return stats\n",
        "\n",
        "def compose_message_to_user(stats):\n",
        "  word = which_of_categories_and_values_has_fewer (stats)\n",
        "  diff = abs(len(stats['categories']) - len(stats['values']))\n",
        "  # KRISTIAN_TODO - If there are more categories than values, then the bar graph can crash.\n",
        "  # Should be fixable by implementing the equalize_categories_and_values_with_placeholders method.\n",
        "  if diff > 0:\n",
        "    return \"Bar graphs require an equal number of categories and values.  The user \"\\\n",
        "      \"has specified \" + str(diff) + ' ' + word + \" too few.  Missing values have been added.\"\n",
        "  else:\n",
        "    return None\n",
        "\n",
        "@app.route('/', methods=['GET', 'POST'])\n",
        "def index():\n",
        "    chart_url = None\n",
        "    use_plotly = None\n",
        "    user_message = None\n",
        "\n",
        "    # KRISTIAN_NOTE - Flask decided not to allow print to console, and writing to a\n",
        "    # logger is considered best practice:\n",
        "    # https://www.reddit.com/r/flask/comments/gecqww/how_do_you_print_to_console_and_why_is_it_so_hard/\n",
        "    # Used this StackOverflow article to create a separate debug.log file:\n",
        "    # https://stackoverflow.com/questions/28925451/flask-logging-not-working-at-all\n",
        "    file_handler = FileHandler ('debug.log')\n",
        "    app.logger.setLevel (logging.DEBUG)\n",
        "    app.logger.addHandler(file_handler)\n",
        "\n",
        "    # KRISTIAN_NOTE - Using pdb to set breakpoints leads to a BdbQuit error\n",
        "    # because the debugger blocks the web server from executing until the\n",
        "    # user hits \"continue\".  But I am the user and I cannot reach the server\n",
        "    # on my own, so it's forced to quit.  Leaving this here as a teaching moment for me.\n",
        "    # https://stackoverflow.com/questions/34914704/bdbquit-raised-when-debugging-python-with-pdb\n",
        "    # pdb.set_trace()\n",
        "\n",
        "    if request.method == 'POST':\n",
        "        # KRISTIAN_NOTE - Log the request into a file for troubleshoooting.\n",
        "        app.logger.debug (request.form.to_dict())\n",
        "        if ('use_plotly' in request.form.to_dict()):\n",
        "          use_plotly = request.form.to_dict()['use_plotly']\n",
        "        # The user may decide to submit another request form with \"use Plotly\" unchecked\n",
        "        # after having turned Plotly on from the first submission.  Hence the 'else' check.\n",
        "        else:\n",
        "          use_plotly = None\n",
        "        stats = extract_stats_from_request_form (request)\n",
        "        user_message = compose_message_to_user (stats)\n",
        "        fixed_stats = equalize_categories_and_values_with_placeholders (stats)\n",
        "        # Pass your categories and values to the generate_bar_chart function,\n",
        "        # decoding the return value of the given utf-8 string.\n",
        "        chart_url = generate_bar_chart(fixed_stats['categories'], fixed_stats['values']).decode()\n",
        "        # KRISTIAN_TODO - Don't forget the ACTUAL plotly graph!\n",
        "\n",
        "    # Return a render_template function, passing your bar plot as input.\n",
        "    # KRISTIAN_NOTE - The *context parameter is just any passed variable.\n",
        "    # We want to set the chart_url variable required by the HTML to equal the\n",
        "    # chart_url value we returned above.  This is data-binding in Flask.\n",
        "    return render_template ('templates/index.html',\\\n",
        "      chart_url = chart_url, use_plotly = use_plotly, user_message = user_message)\n",
        "\n",
        "if __name__ == '__main__':\n",
        "  # Start the Flask server in a new thread\n",
        "  threading.Thread(target=app.run, kwargs={\"use_reloader\": False, \"debug\": True}).start()"
      ],
      "metadata": {
        "id": "TvtkyveVy1No",
        "outputId": "f8fb771f-4ec4-42aa-abbd-0e8c02c57895",
        "colab": {
          "base_uri": "https://localhost:8080/"
        }
      },
      "execution_count": 4,
      "outputs": [
        {
          "output_type": "stream",
          "name": "stdout",
          "text": [
            " * ngrok tunnel \"https://phenotypic-jadwiga-soaringly.ngrok-free.dev\" -> \"http://127.0.0.1:5000\"\n"
          ]
        }
      ]
    },
    {
      "cell_type": "markdown",
      "source": [
        "After a discussion with my mentor about my struggles to display the bar chart, I was advised to use Plotly for this mini-project.  It's a great idea for addressing step 6 above.  But since it falls outside the scope of this mini-project, I made the Plotly graph optional and trigger-able by a checkbox, just in case.\n",
        "\n",
        "I also added some error handling for the form input because bar graphs struggle with an unequal number of categories and values.  Whichever of categories and values has fewer entries gains extra placeholder values and a message is sent to the user.\n",
        "\n",
        "To make this work, I had to edit the HTML to include templates for the Plotly graph, the checkbox, and the error-handling message sent to the user."
      ],
      "metadata": {
        "id": "DAQj-eyWtf44"
      }
    }
  ],
  "metadata": {
    "colab": {
      "provenance": [],
      "include_colab_link": true
    },
    "kernelspec": {
      "display_name": "Python 3",
      "name": "python3"
    },
    "language_info": {
      "name": "python"
    }
  },
  "nbformat": 4,
  "nbformat_minor": 0
}