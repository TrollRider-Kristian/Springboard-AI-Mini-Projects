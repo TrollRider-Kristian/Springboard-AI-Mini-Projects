{
  "nbformat": 4,
  "nbformat_minor": 0,
  "metadata": {
    "colab": {
      "provenance": [],
      "authorship_tag": "ABX9TyPMZQxMO+uiDDTP1Yqd+4+h",
      "include_colab_link": true
    },
    "kernelspec": {
      "name": "python3",
      "display_name": "Python 3"
    },
    "language_info": {
      "name": "python"
    }
  },
  "cells": [
    {
      "cell_type": "markdown",
      "metadata": {
        "id": "view-in-github",
        "colab_type": "text"
      },
      "source": [
        "<a href=\"https://colab.research.google.com/github/TrollRider-Kristian/Springboard-AI-Mini-Projects/blob/main/codebasics-decision-tree-exercise.ipynb\" target=\"_parent\"><img src=\"https://colab.research.google.com/assets/colab-badge.svg\" alt=\"Open In Colab\"/></a>"
      ]
    },
    {
      "cell_type": "code",
      "execution_count": 89,
      "metadata": {
        "colab": {
          "base_uri": "https://localhost:8080/"
        },
        "id": "hTnB9NVrux9A",
        "outputId": "0faad474-238d-43d5-c679-d59f1424ac8e"
      },
      "outputs": [
        {
          "output_type": "stream",
          "name": "stdout",
          "text": [
            "   PassengerId  Survived  Pclass  \\\n",
            "0            1         0       3   \n",
            "1            2         1       1   \n",
            "2            3         1       3   \n",
            "3            4         1       1   \n",
            "4            5         0       3   \n",
            "\n",
            "                                                Name     Sex   Age  SibSp  \\\n",
            "0                            Braund, Mr. Owen Harris    male  22.0      1   \n",
            "1  Cumings, Mrs. John Bradley (Florence Briggs Th...  female  38.0      1   \n",
            "2                             Heikkinen, Miss. Laina  female  26.0      0   \n",
            "3       Futrelle, Mrs. Jacques Heath (Lily May Peel)  female  35.0      1   \n",
            "4                           Allen, Mr. William Henry    male  35.0      0   \n",
            "\n",
            "   Parch            Ticket     Fare Cabin Embarked  \n",
            "0      0         A/5 21171   7.2500   NaN        S  \n",
            "1      0          PC 17599  71.2833   C85        C  \n",
            "2      0  STON/O2. 3101282   7.9250   NaN        S  \n",
            "3      0            113803  53.1000  C123        S  \n",
            "4      0            373450   8.0500   NaN        S  \n"
          ]
        }
      ],
      "source": [
        "import pandas\n",
        "import seaborn as sns\n",
        "from sklearn.preprocessing import LabelEncoder\n",
        "\n",
        "titanic_raw = pandas.read_csv ('titanic.csv')\n",
        "print (titanic_raw.head())"
      ]
    },
    {
      "cell_type": "code",
      "source": [
        "# We need to encode the Sex of our passengers for our Decision Tree.\n",
        "le_sex = LabelEncoder()\n",
        "titanic_raw['Sex_Id'] = le_sex.fit_transform(titanic_raw['Sex'])\n",
        "titanic_raw_sex_id = titanic_raw.drop('Sex', axis = 1)\n",
        "# Now, 0 = 'Female' and 1 = 'Male'\n",
        "print (titanic_raw_sex_id.head(10))"
      ],
      "metadata": {
        "colab": {
          "base_uri": "https://localhost:8080/"
        },
        "id": "R45D-_B9_D5l",
        "outputId": "7bed4fcb-c69e-4b4b-eaf8-fc5e5b606f21"
      },
      "execution_count": 90,
      "outputs": [
        {
          "output_type": "stream",
          "name": "stdout",
          "text": [
            "   PassengerId  Survived  Pclass  \\\n",
            "0            1         0       3   \n",
            "1            2         1       1   \n",
            "2            3         1       3   \n",
            "3            4         1       1   \n",
            "4            5         0       3   \n",
            "5            6         0       3   \n",
            "6            7         0       1   \n",
            "7            8         0       3   \n",
            "8            9         1       3   \n",
            "9           10         1       2   \n",
            "\n",
            "                                                Name   Age  SibSp  Parch  \\\n",
            "0                            Braund, Mr. Owen Harris  22.0      1      0   \n",
            "1  Cumings, Mrs. John Bradley (Florence Briggs Th...  38.0      1      0   \n",
            "2                             Heikkinen, Miss. Laina  26.0      0      0   \n",
            "3       Futrelle, Mrs. Jacques Heath (Lily May Peel)  35.0      1      0   \n",
            "4                           Allen, Mr. William Henry  35.0      0      0   \n",
            "5                                   Moran, Mr. James   NaN      0      0   \n",
            "6                            McCarthy, Mr. Timothy J  54.0      0      0   \n",
            "7                     Palsson, Master. Gosta Leonard   2.0      3      1   \n",
            "8  Johnson, Mrs. Oscar W (Elisabeth Vilhelmina Berg)  27.0      0      2   \n",
            "9                Nasser, Mrs. Nicholas (Adele Achem)  14.0      1      0   \n",
            "\n",
            "             Ticket     Fare Cabin Embarked  Sex_Id  \n",
            "0         A/5 21171   7.2500   NaN        S       1  \n",
            "1          PC 17599  71.2833   C85        C       0  \n",
            "2  STON/O2. 3101282   7.9250   NaN        S       0  \n",
            "3            113803  53.1000  C123        S       0  \n",
            "4            373450   8.0500   NaN        S       1  \n",
            "5            330877   8.4583   NaN        Q       1  \n",
            "6             17463  51.8625   E46        S       1  \n",
            "7            349909  21.0750   NaN        S       1  \n",
            "8            347742  11.1333   NaN        S       0  \n",
            "9            237736  30.0708   NaN        C       0  \n"
          ]
        }
      ]
    },
    {
      "cell_type": "code",
      "source": [
        "titanic_relevant_raw = titanic_raw_sex_id[['Pclass', 'Sex_Id', 'Age', 'Fare', 'Survived']]\n",
        "print (titanic_relevant_raw.head(10))"
      ],
      "metadata": {
        "colab": {
          "base_uri": "https://localhost:8080/"
        },
        "id": "LHouen8hA7Qc",
        "outputId": "5d720e70-c1b1-4e27-cdba-4232f26ea653"
      },
      "execution_count": 91,
      "outputs": [
        {
          "output_type": "stream",
          "name": "stdout",
          "text": [
            "   Pclass  Sex_Id   Age     Fare  Survived\n",
            "0       3       1  22.0   7.2500         0\n",
            "1       1       0  38.0  71.2833         1\n",
            "2       3       0  26.0   7.9250         1\n",
            "3       1       0  35.0  53.1000         1\n",
            "4       3       1  35.0   8.0500         0\n",
            "5       3       1   NaN   8.4583         0\n",
            "6       1       1  54.0  51.8625         0\n",
            "7       3       1   2.0  21.0750         0\n",
            "8       3       0  27.0  11.1333         1\n",
            "9       2       0  14.0  30.0708         1\n"
          ]
        }
      ]
    },
    {
      "cell_type": "code",
      "source": [
        "# https://www.dailymail.co.uk/news/article-2130003/Study-sea-disasters-men-better-survival-rate-ships-down.html\n",
        "# According to dailymail, 20-35% of people survive the average shipwreck.\n",
        "print (titanic_relevant_raw['Survived'].value_counts())\n",
        "# A comparably less deadly shipwreck, but still within the normal distribution.\n",
        "print (titanic_relevant_raw['Survived'].sum() / len (titanic_relevant_raw))"
      ],
      "metadata": {
        "colab": {
          "base_uri": "https://localhost:8080/"
        },
        "id": "cMZj040h99vJ",
        "outputId": "09899123-0a20-4dd0-ec9d-7b8e4bada131"
      },
      "execution_count": 92,
      "outputs": [
        {
          "output_type": "stream",
          "name": "stdout",
          "text": [
            "Survived\n",
            "0    549\n",
            "1    342\n",
            "Name: count, dtype: int64\n",
            "0.3838383838383838\n"
          ]
        }
      ]
    },
    {
      "cell_type": "code",
      "source": [
        "num_rows_missing_data = titanic_relevant_raw.isnull().sum()\n",
        "print (num_rows_missing_data)\n",
        "# 20% of the passengers do NOT have a documented age.  That's a bit much for my liking.\n",
        "# Fortunately, 'Age' is the ONLY relevant feature with missing values.\n",
        "print (num_rows_missing_data / len (titanic_relevant_raw))"
      ],
      "metadata": {
        "colab": {
          "base_uri": "https://localhost:8080/"
        },
        "id": "B9HFPje-B2b4",
        "outputId": "5cb6bb6f-f130-4181-9682-f163fa9e18fa"
      },
      "execution_count": 93,
      "outputs": [
        {
          "output_type": "stream",
          "name": "stdout",
          "text": [
            "Pclass        0\n",
            "Sex_Id        0\n",
            "Age         177\n",
            "Fare          0\n",
            "Survived      0\n",
            "dtype: int64\n",
            "Pclass      0.000000\n",
            "Sex_Id      0.000000\n",
            "Age         0.198653\n",
            "Fare        0.000000\n",
            "Survived    0.000000\n",
            "dtype: float64\n"
          ]
        }
      ]
    },
    {
      "cell_type": "code",
      "source": [
        "# Subset the passengers without a defined age and see if there is a pattern.\n",
        "passengers_wo_ages = titanic_relevant_raw.loc[titanic_relevant_raw['Age'].isnull()]\n",
        "print (passengers_wo_ages.head(10))"
      ],
      "metadata": {
        "colab": {
          "base_uri": "https://localhost:8080/"
        },
        "id": "Y4RaYWmRHAgw",
        "outputId": "a82d146d-b192-48bc-f5e2-07f019ad18e0"
      },
      "execution_count": 94,
      "outputs": [
        {
          "output_type": "stream",
          "name": "stdout",
          "text": [
            "    Pclass  Sex_Id  Age      Fare  Survived\n",
            "5        3       1  NaN    8.4583         0\n",
            "17       2       1  NaN   13.0000         1\n",
            "19       3       0  NaN    7.2250         1\n",
            "26       3       1  NaN    7.2250         0\n",
            "28       3       0  NaN    7.8792         1\n",
            "29       3       1  NaN    7.8958         0\n",
            "31       1       0  NaN  146.5208         1\n",
            "32       3       0  NaN    7.7500         1\n",
            "36       3       1  NaN    7.2292         1\n",
            "42       3       1  NaN    7.8958         0\n"
          ]
        }
      ]
    },
    {
      "cell_type": "code",
      "source": [
        "# I want to know if the data of passengers without a specified age\n",
        "# is lopsided in any particular feature.  Start with checking the ratio of survived\n",
        "# passengers to dead ones:\n",
        "print (passengers_wo_ages['Survived'].value_counts())\n",
        "# Around 29% of passengers without a specified age survived the shipwreck.\n",
        "# Not very disproportionate.  Unknown age is not really a factor to survival,\n",
        "# so I feel more comfortable dropping the rows now.\n",
        "print (passengers_wo_ages['Survived'].sum() / len (passengers_wo_ages))"
      ],
      "metadata": {
        "colab": {
          "base_uri": "https://localhost:8080/"
        },
        "id": "F7gO-1cQMkZQ",
        "outputId": "f103f7b5-5f9f-44f3-cdbd-634e0fc39511"
      },
      "execution_count": 95,
      "outputs": [
        {
          "output_type": "stream",
          "name": "stdout",
          "text": [
            "Survived\n",
            "0    125\n",
            "1     52\n",
            "Name: count, dtype: int64\n",
            "0.2937853107344633\n"
          ]
        }
      ]
    },
    {
      "cell_type": "code",
      "source": [
        "# But before I do, let's make a barplot showing the number of passengers without a\n",
        "# specified age by Pclass and by Sex_Id.  Turns out, over half of these passengers\n",
        "# are wealthy men.  Around 40 or 50 are wealthy women too.\n",
        "sns.countplot (data = passengers_wo_ages.loc[:, ['Pclass', 'Sex_Id']],\\\n",
        "  x = 'Pclass', hue = 'Sex_Id')"
      ],
      "metadata": {
        "colab": {
          "base_uri": "https://localhost:8080/",
          "height": 466
        },
        "id": "kwI8fWfZNtex",
        "outputId": "80639f30-2e26-435e-e02e-9cf036eb6839"
      },
      "execution_count": 96,
      "outputs": [
        {
          "output_type": "execute_result",
          "data": {
            "text/plain": [
              "<Axes: xlabel='Pclass', ylabel='count'>"
            ]
          },
          "metadata": {},
          "execution_count": 96
        },
        {
          "output_type": "display_data",
          "data": {
            "text/plain": [
              "<Figure size 640x480 with 1 Axes>"
            ],
            "image/png": "[encoded data removed]"
          },
          "metadata": {}
        }
      ]
    },
    {
      "cell_type": "code",
      "source": [
        "passengers_with_ages = titanic_relevant_raw.loc[titanic_relevant_raw['Age'].notnull()]\n",
        "print (passengers_with_ages.head(10))"
      ],
      "metadata": {
        "colab": {
          "base_uri": "https://localhost:8080/"
        },
        "id": "nIvw_NEXTGUZ",
        "outputId": "5468e1a3-0612-4b65-e386-2d6db6aca37b"
      },
      "execution_count": 97,
      "outputs": [
        {
          "output_type": "stream",
          "name": "stdout",
          "text": [
            "    Pclass  Sex_Id   Age     Fare  Survived\n",
            "0        3       1  22.0   7.2500         0\n",
            "1        1       0  38.0  71.2833         1\n",
            "2        3       0  26.0   7.9250         1\n",
            "3        1       0  35.0  53.1000         1\n",
            "4        3       1  35.0   8.0500         0\n",
            "6        1       1  54.0  51.8625         0\n",
            "7        3       1   2.0  21.0750         0\n",
            "8        3       0  27.0  11.1333         1\n",
            "9        2       0  14.0  30.0708         1\n",
            "10       3       0   4.0  16.7000         1\n"
          ]
        }
      ]
    },
    {
      "cell_type": "code",
      "source": [
        "# Fortunately for us, the countplot for passengers who DID provide their ages is also\n",
        "# lopsided in favor of wealthy men.  So I now feel more comfortable just using\n",
        "# the rows with a known age for the model and dropping the rest.\n",
        "# According to DataCamp, \"If you are confident that the missing data is occurring at random\"\n",
        "# \"then the most statistically sound strategy is to remove those rows.\"\n",
        "sns.countplot(data = passengers_with_ages.loc[:, ['Pclass', 'Sex_Id']],\\\n",
        "  x = 'Pclass', hue = 'Sex_Id')"
      ],
      "metadata": {
        "colab": {
          "base_uri": "https://localhost:8080/",
          "height": 466
        },
        "id": "LyOBSka6Trc4",
        "outputId": "909958ea-5430-468d-8fb2-e0304a932123"
      },
      "execution_count": 98,
      "outputs": [
        {
          "output_type": "execute_result",
          "data": {
            "text/plain": [
              "<Axes: xlabel='Pclass', ylabel='count'>"
            ]
          },
          "metadata": {},
          "execution_count": 98
        },
        {
          "output_type": "display_data",
          "data": {
            "text/plain": [
              "<Figure size 640x480 with 1 Axes>"
            ],
            "image/png": "[encoded data removed]"
          },
          "metadata": {}
        }
      ]
    },
    {
      "cell_type": "code",
      "source": [
        "titanic_features = passengers_with_ages.drop(['Survived'], axis = 'columns')\n",
        "print (titanic_features.head())\n",
        "titanic_targets = passengers_with_ages['Survived']\n",
        "print (titanic_targets.head())"
      ],
      "metadata": {
        "colab": {
          "base_uri": "https://localhost:8080/"
        },
        "id": "m-8-wzbKUf4M",
        "outputId": "3ab3383f-8471-4054-e3fe-0899bb01215c"
      },
      "execution_count": 99,
      "outputs": [
        {
          "output_type": "stream",
          "name": "stdout",
          "text": [
            "   Pclass  Sex_Id   Age     Fare\n",
            "0       3       1  22.0   7.2500\n",
            "1       1       0  38.0  71.2833\n",
            "2       3       0  26.0   7.9250\n",
            "3       1       0  35.0  53.1000\n",
            "4       3       1  35.0   8.0500\n",
            "0    0\n",
            "1    1\n",
            "2    1\n",
            "3    1\n",
            "4    0\n",
            "Name: Survived, dtype: int64\n"
          ]
        }
      ]
    }
  ]
}