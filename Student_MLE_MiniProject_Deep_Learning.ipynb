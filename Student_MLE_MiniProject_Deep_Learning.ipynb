{
  "nbformat": 4,
  "nbformat_minor": 0,
  "metadata": {
    "colab": {
      "provenance": [],
      "include_colab_link": true
    },
    "kernelspec": {
      "name": "python3",
      "display_name": "Python 3"
    },
    "language_info": {
      "name": "python"
    }
  },
  "cells": [
    {
      "cell_type": "markdown",
      "metadata": {
        "id": "view-in-github",
        "colab_type": "text"
      },
      "source": [
        "<a href=\"https://colab.research.google.com/github/TrollRider-Kristian/Springboard-AI-Mini-Projects/blob/main/Student_MLE_MiniProject_Deep_Learning.ipynb\" target=\"_parent\"><img src=\"https://colab.research.google.com/assets/colab-badge.svg\" alt=\"Open In Colab\"/></a>"
      ]
    },
    {
      "cell_type": "markdown",
      "source": [
        "# Mini Project: Deep Learning with Keras\n",
        "\n",
        "In this mini-project we'll be building a deep learning classifier using Keras to predict income from the popular [Adult Income dataset](http://www.cs.toronto.edu/~delve/data/adult/adultDetail.html).\n",
        "\n",
        "Predicting income from demographic and socio-economic information is an important task with real-world applications, such as financial planning, market research, and social policy analysis. The Adult dataset, sometimes referred to as the \"Census Income\" dataset, contains a vast amount of anonymized data on individuals, including features such as age, education, marital status, occupation, and more. Our objective is to leverage this data to train a deep learning model that can effectively predict whether an individual's income exceeds $50,000 annually or not.\n",
        "\n",
        "Throughout this Colab, we will walk you through the entire process of building a deep learning classifier using Keras, a high-level neural network API that runs on top of TensorFlow. Keras is known for its user-friendly and intuitive interface, making it an excellent choice for both beginners and experienced deep learning practitioners.\n",
        "\n",
        "Here's a brief outline of what we will cover in this mini-project:\n",
        "\n",
        "1. **Data Preprocessing:** We will start by loading and exploring the Adult dataset.\n",
        "\n",
        "2. **Building the Deep Learning Model:** We will construct a neural network using Keras, where we'll dive into understanding the key components of a neural network, including layers, activation functions, and optimization algorithms.\n",
        "\n",
        "3. **Model Training:** With our model architecture in place, we will split the data into training and validation sets and train the neural network on the training data. We will monitor the training process to prevent overfitting and enhance generalization.\n",
        "\n",
        "4. **Model Evaluation:** After training, we'll assess the performance of our model on the test dataset.\n",
        "\n",
        "By the end of this tutorial, you will not only have a functional deep learning classifier for income prediction but also gain valuable insights into how to leverage the power of neural networks for solving real-world classification tasks.\n"
      ],
      "metadata": {
        "id": "fyXucUekO19i"
      }
    },
    {
      "cell_type": "code",
      "source": [
        "!pip install --upgrade scikeras"
      ],
      "metadata": {
        "id": "rAGzXpBhHLPJ",
        "outputId": "f44a66f0-0d25-428a-af5d-7593d8273ea4",
        "colab": {
          "base_uri": "https://localhost:8080/"
        }
      },
      "execution_count": 1,
      "outputs": [
        {
          "output_type": "stream",
          "name": "stdout",
          "text": [
            "Collecting scikeras\n",
            "  Downloading scikeras-0.13.0-py3-none-any.whl.metadata (3.1 kB)\n",
            "Requirement already satisfied: keras>=3.2.0 in /usr/local/lib/python3.11/dist-packages (from scikeras) (3.8.0)\n",
            "Requirement already satisfied: scikit-learn>=1.4.2 in /usr/local/lib/python3.11/dist-packages (from scikeras) (1.6.1)\n",
            "Requirement already satisfied: absl-py in /usr/local/lib/python3.11/dist-packages (from keras>=3.2.0->scikeras) (1.4.0)\n",
            "Requirement already satisfied: numpy in /usr/local/lib/python3.11/dist-packages (from keras>=3.2.0->scikeras) (2.0.2)\n",
            "Requirement already satisfied: rich in /usr/local/lib/python3.11/dist-packages (from keras>=3.2.0->scikeras) (13.9.4)\n",
            "Requirement already satisfied: namex in /usr/local/lib/python3.11/dist-packages (from keras>=3.2.0->scikeras) (0.0.9)\n",
            "Requirement already satisfied: h5py in /usr/local/lib/python3.11/dist-packages (from keras>=3.2.0->scikeras) (3.13.0)\n",
            "Requirement already satisfied: optree in /usr/local/lib/python3.11/dist-packages (from keras>=3.2.0->scikeras) (0.15.0)\n",
            "Requirement already satisfied: ml-dtypes in /usr/local/lib/python3.11/dist-packages (from keras>=3.2.0->scikeras) (0.4.1)\n",
            "Requirement already satisfied: packaging in /usr/local/lib/python3.11/dist-packages (from keras>=3.2.0->scikeras) (24.2)\n",
            "Requirement already satisfied: scipy>=1.6.0 in /usr/local/lib/python3.11/dist-packages (from scikit-learn>=1.4.2->scikeras) (1.15.3)\n",
            "Requirement already satisfied: joblib>=1.2.0 in /usr/local/lib/python3.11/dist-packages (from scikit-learn>=1.4.2->scikeras) (1.5.0)\n",
            "Requirement already satisfied: threadpoolctl>=3.1.0 in /usr/local/lib/python3.11/dist-packages (from scikit-learn>=1.4.2->scikeras) (3.6.0)\n",
            "Requirement already satisfied: typing-extensions>=4.5.0 in /usr/local/lib/python3.11/dist-packages (from optree->keras>=3.2.0->scikeras) (4.13.2)\n",
            "Requirement already satisfied: markdown-it-py>=2.2.0 in /usr/local/lib/python3.11/dist-packages (from rich->keras>=3.2.0->scikeras) (3.0.0)\n",
            "Requirement already satisfied: pygments<3.0.0,>=2.13.0 in /usr/local/lib/python3.11/dist-packages (from rich->keras>=3.2.0->scikeras) (2.19.1)\n",
            "Requirement already satisfied: mdurl~=0.1 in /usr/local/lib/python3.11/dist-packages (from markdown-it-py>=2.2.0->rich->keras>=3.2.0->scikeras) (0.1.2)\n",
            "Downloading scikeras-0.13.0-py3-none-any.whl (26 kB)\n",
            "Installing collected packages: scikeras\n",
            "Successfully installed scikeras-0.13.0\n"
          ]
        }
      ]
    },
    {
      "cell_type": "code",
      "source": [
        "# KRISTIAN_NOTE - As of version 1.6.1, Scikit-learn changed their API to look\n",
        "# for tags from their provided ML algorithms.  Tags provide metadata about the\n",
        "# algorithm, such as its type (eg. regressor):\n",
        "# https://scikit-learn.org/stable/developers/develop.html#estimator-tags.\n",
        "# Here's a StackOverflow article about someone wrapping an XGBoostRegressor in\n",
        "# a hyperparameter tuning algorithm.  The XGBoostRegressor spits out an error\n",
        "# due to the lack of a scikit-learn tag:\n",
        "# https://stackoverflow.com/questions/79290968/super-object-has-no-attribute-sklearn-tags\n",
        "# Here's another article about someone wrapping a KerasClassifier into a\n",
        "# Grid Search Hyperparameter Tuning algorithm and getting the same error:\n",
        "# https://stackoverflow.com/questions/79410073/attributeerror-super-object-has-no-attribute-sklearn-tags-when-using-gridse\n",
        "# Lower versions of scikit-learn do not require the same tag, so the best solution\n",
        "# is to downgrade the scikit-learn version to 1.5.2:\n",
        "!pip uninstall -y scikit-learn\n",
        "!pip install scikit-learn==1.5.2"
      ],
      "metadata": {
        "id": "Clzr7F9bftvF",
        "outputId": "1ee8f1da-a4de-455e-ce40-9591bc12ad8d",
        "colab": {
          "base_uri": "https://localhost:8080/"
        }
      },
      "execution_count": 2,
      "outputs": [
        {
          "output_type": "stream",
          "name": "stdout",
          "text": [
            "Found existing installation: scikit-learn 1.6.1\n",
            "Uninstalling scikit-learn-1.6.1:\n",
            "  Successfully uninstalled scikit-learn-1.6.1\n",
            "Collecting scikit-learn==1.5.2\n",
            "  Downloading scikit_learn-1.5.2-cp311-cp311-manylinux_2_17_x86_64.manylinux2014_x86_64.whl.metadata (13 kB)\n",
            "Requirement already satisfied: numpy>=1.19.5 in /usr/local/lib/python3.11/dist-packages (from scikit-learn==1.5.2) (2.0.2)\n",
            "Requirement already satisfied: scipy>=1.6.0 in /usr/local/lib/python3.11/dist-packages (from scikit-learn==1.5.2) (1.15.3)\n",
            "Requirement already satisfied: joblib>=1.2.0 in /usr/local/lib/python3.11/dist-packages (from scikit-learn==1.5.2) (1.5.0)\n",
            "Requirement already satisfied: threadpoolctl>=3.1.0 in /usr/local/lib/python3.11/dist-packages (from scikit-learn==1.5.2) (3.6.0)\n",
            "Downloading scikit_learn-1.5.2-cp311-cp311-manylinux_2_17_x86_64.manylinux2014_x86_64.whl (13.3 MB)\n",
            "\u001b[2K   \u001b[90m━━━━━━━━━━━━━━━━━━━━━━━━━━━━━━━━━━━━━━━━\u001b[0m \u001b[32m13.3/13.3 MB\u001b[0m \u001b[31m59.8 MB/s\u001b[0m eta \u001b[36m0:00:00\u001b[0m\n",
            "\u001b[?25hInstalling collected packages: scikit-learn\n",
            "Successfully installed scikit-learn-1.5.2\n"
          ]
        }
      ]
    },
    {
      "cell_type": "code",
      "execution_count": 70,
      "metadata": {
        "id": "kLWR1DfQPakn"
      },
      "outputs": [],
      "source": [
        "import pandas as pd\n",
        "import numpy as np\n",
        "from sklearn.model_selection import train_test_split\n",
        "from sklearn.preprocessing import OneHotEncoder, LabelEncoder\n",
        "from sklearn.preprocessing import MinMaxScaler\n",
        "from sklearn.preprocessing import FunctionTransformer\n",
        "from sklearn.compose import ColumnTransformer\n",
        "from sklearn.model_selection import train_test_split\n",
        "from sklearn.metrics import auc\n",
        "from sklearn.metrics import roc_auc_score\n",
        "from sklearn.metrics import roc_curve\n",
        "from sklearn.metrics import RocCurveDisplay\n",
        "# KRISTIAN_NOTE - An 'unresolved imports' warning pops up if we import\n",
        "# from keras.models / keras.layers.  This is strange because the Google\n",
        "# Runtime comes bundled with Keras, and the code works accordingly.\n",
        "# Leave this code commented out for reference purposes:\n",
        "# from keras.models import Sequential\n",
        "# from keras.layers import Dense, Input\n",
        "from scikeras.wrappers import KerasClassifier\n",
        "from sklearn.pipeline import Pipeline\n",
        "# For visualization of neural network metrics\n",
        "import seaborn"
      ]
    },
    {
      "cell_type": "code",
      "source": [
        "# Strangely, if we just import keras, we get no warning.\n",
        "import keras\n",
        "print (keras.__version__)"
      ],
      "metadata": {
        "id": "OpWctWLIQ5dV",
        "outputId": "80c032ed-28da-4f6e-f379-159398945f3a",
        "colab": {
          "base_uri": "https://localhost:8080/"
        }
      },
      "execution_count": 4,
      "outputs": [
        {
          "output_type": "stream",
          "name": "stdout",
          "text": [
            "3.8.0\n"
          ]
        }
      ]
    },
    {
      "cell_type": "markdown",
      "source": [
        "You can download the Adult data from the link [here](https://archive.ics.uci.edu/ml/machine-learning-databases/adult/adult.data).\n",
        "\n",
        "Here are your tasks:\n",
        "\n",
        "  1. Load the Adult data into a Pandas Dataframe.\n",
        "  2. Ensure the dataset has properly named columns. If the columns are not read in, assign them by referencing the dataset documentation.\n",
        "  3. Display the first five rows of the dataset."
      ],
      "metadata": {
        "id": "5ymxgnyq86hE"
      }
    },
    {
      "cell_type": "code",
      "source": [
        "DATA_PATH = 'https://archive.ics.uci.edu/ml/machine-learning-databases/adult/adult.data'\n",
        "\n",
        "# Download the dataset and load it into a pandas DataFrame\n",
        "# KRISTIAN_NOTE - The dataset entries for each row are separated\n",
        "# by commas.  However, the column names are not included in the file,\n",
        "# but Pandas, by default, treats the first row of data as the column\n",
        "# names.  Pass header = None to circumvent this, per documentation:\n",
        "# https://pandas.pydata.org/docs/reference/api/pandas.read_csv.html\n",
        "adult_df = pd.read_csv (DATA_PATH, header = None)"
      ],
      "metadata": {
        "id": "QmwdQy7pShig"
      },
      "execution_count": 5,
      "outputs": []
    },
    {
      "cell_type": "code",
      "source": [
        "# KRISTIAN_NOTE - Unfortunately, there's no way to extract the column names from\n",
        "# the dataset itself.  These names are explicitly listed in the Stanford paper\n",
        "# that has introduced and discussed this dataset at length:\n",
        "# https://cseweb.ucsd.edu/classes/sp15/cse190-c/reports/sp15/048.pdf\n",
        "# 'fnlwgt' stands for 'final weight' or \"the number of people the census in the entry represents\"\n",
        "# I named the target column \"income-level\" because it's categorical (over or under $50K annually)\n",
        "# Our only option is to add hardcoded column names to this dataframe per\n",
        "# the ones listed in the dataset. StackOverflow article showing how to do this:\n",
        "# https://stackoverflow.com/questions/72863835/how-to-create-column-names-in-pandas-dataframe\n",
        "adult_feature_names = [\n",
        "    \"age\",\n",
        "    \"workclass\",\n",
        "    \"fnlwgt\",\n",
        "    \"education\",\n",
        "    \"education-num\",\n",
        "    \"marital-status\",\n",
        "    \"occupation\",\n",
        "    \"relationship\",\n",
        "    \"race\",\n",
        "    \"sex\",\n",
        "    \"capital-gain\",\n",
        "    \"capital-loss\",\n",
        "    \"hours-per-week\",\n",
        "    \"native-country\",\n",
        "    \"income-level\",\n",
        "]\n",
        "adult_df.columns = adult_feature_names"
      ],
      "metadata": {
        "id": "MXluUow0_u0K"
      },
      "execution_count": 6,
      "outputs": []
    },
    {
      "cell_type": "code",
      "source": [
        "# Display the first few rows of the DataFrame\n",
        "print (adult_df.head())"
      ],
      "metadata": {
        "id": "X1wSIzVtPrfL",
        "outputId": "8ea7d93a-81ba-44ac-a8ff-8f2293d90f59",
        "colab": {
          "base_uri": "https://localhost:8080/"
        }
      },
      "execution_count": 7,
      "outputs": [
        {
          "output_type": "stream",
          "name": "stdout",
          "text": [
            "   age          workclass  fnlwgt   education  education-num  \\\n",
            "0   39          State-gov   77516   Bachelors             13   \n",
            "1   50   Self-emp-not-inc   83311   Bachelors             13   \n",
            "2   38            Private  215646     HS-grad              9   \n",
            "3   53            Private  234721        11th              7   \n",
            "4   28            Private  338409   Bachelors             13   \n",
            "\n",
            "        marital-status          occupation    relationship    race      sex  \\\n",
            "0        Never-married        Adm-clerical   Not-in-family   White     Male   \n",
            "1   Married-civ-spouse     Exec-managerial         Husband   White     Male   \n",
            "2             Divorced   Handlers-cleaners   Not-in-family   White     Male   \n",
            "3   Married-civ-spouse   Handlers-cleaners         Husband   Black     Male   \n",
            "4   Married-civ-spouse      Prof-specialty            Wife   Black   Female   \n",
            "\n",
            "   capital-gain  capital-loss  hours-per-week  native-country income-level  \n",
            "0          2174             0              40   United-States        <=50K  \n",
            "1             0             0              13   United-States        <=50K  \n",
            "2             0             0              40   United-States        <=50K  \n",
            "3             0             0              40   United-States        <=50K  \n",
            "4             0             0              40            Cuba        <=50K  \n"
          ]
        }
      ]
    },
    {
      "cell_type": "markdown",
      "source": [
        "If you're not already familiar with the Adult dataset, it's important to do some exploratory data analysis.\n",
        "\n",
        "Here are your tasks:\n",
        "\n",
        "  1. Do exploratory data analysis to give you some better intuition for the dataset. This is a bit open-ended. How many rows/columns are there? How are NULL values represented? What's the percentage of positive cases in the dataset?\n",
        "\n",
        "  2. Drop all rows with NULL values.\n",
        "\n",
        "  3. Use Scikit-Learn's [LabelEncoder](https://scikit-learn.org/stable/modules/generated/sklearn.preprocessing.LabelEncoder.html) to convert the `income` column with a data type string to a binary variable."
      ],
      "metadata": {
        "id": "5fHLuKZl9ivm"
      }
    },
    {
      "cell_type": "code",
      "source": [
        "# Do some exploratory analysis. How many rows/columns are there? How are NULL\n",
        "# values represented? What's the percentrage of positive cases in the dataset?\n",
        "print (f\"There are: {adult_df.shape [0]} rows and {adult_df.shape [1]} columns in the Adult dataset.\")\n",
        "adult_df[\"income-level\"].value_counts()"
      ],
      "metadata": {
        "id": "fc_s4kRKTloe",
        "outputId": "e19910cc-2ae4-4c57-fd5c-b67027ae9a64",
        "colab": {
          "base_uri": "https://localhost:8080/",
          "height": 196
        }
      },
      "execution_count": 8,
      "outputs": [
        {
          "output_type": "stream",
          "name": "stdout",
          "text": [
            "There are: 32561 rows and 15 columns in the Adult dataset.\n"
          ]
        },
        {
          "output_type": "execute_result",
          "data": {
            "text/plain": [
              "income-level\n",
              "<=50K    24720\n",
              ">50K      7841\n",
              "Name: count, dtype: int64"
            ],
            "text/html": [
              "<div>\n",
              "<style scoped>\n",
              "    .dataframe tbody tr th:only-of-type {\n",
              "        vertical-align: middle;\n",
              "    }\n",
              "\n",
              "    .dataframe tbody tr th {\n",
              "        vertical-align: top;\n",
              "    }\n",
              "\n",
              "    .dataframe thead th {\n",
              "        text-align: right;\n",
              "    }\n",
              "</style>\n",
              "<table border=\"1\" class=\"dataframe\">\n",
              "  <thead>\n",
              "    <tr style=\"text-align: right;\">\n",
              "      <th></th>\n",
              "      <th>count</th>\n",
              "    </tr>\n",
              "    <tr>\n",
              "      <th>income-level</th>\n",
              "      <th></th>\n",
              "    </tr>\n",
              "  </thead>\n",
              "  <tbody>\n",
              "    <tr>\n",
              "      <th>&lt;=50K</th>\n",
              "      <td>24720</td>\n",
              "    </tr>\n",
              "    <tr>\n",
              "      <th>&gt;50K</th>\n",
              "      <td>7841</td>\n",
              "    </tr>\n",
              "  </tbody>\n",
              "</table>\n",
              "</div><br><label><b>dtype:</b> int64</label>"
            ]
          },
          "metadata": {},
          "execution_count": 8
        }
      ]
    },
    {
      "cell_type": "markdown",
      "source": [
        "24,720 adults, or approximately 76% of the adults, make $50K annually or less. while 7841 make more than this annually.\n",
        "\n",
        "Interestingly, this data does not handle null values as None or NULL or NaN, but rather as '?', which the isnull() function will not pick up below."
      ],
      "metadata": {
        "id": "fiiXDhzC9RJZ"
      }
    },
    {
      "cell_type": "code",
      "source": [
        "adult_df.isnull().sum()"
      ],
      "metadata": {
        "id": "PJq4x3fXQr5q",
        "outputId": "510d67a0-a270-42d5-a156-ddd6085a7c14",
        "colab": {
          "base_uri": "https://localhost:8080/",
          "height": 554
        }
      },
      "execution_count": 9,
      "outputs": [
        {
          "output_type": "execute_result",
          "data": {
            "text/plain": [
              "age               0\n",
              "workclass         0\n",
              "fnlwgt            0\n",
              "education         0\n",
              "education-num     0\n",
              "marital-status    0\n",
              "occupation        0\n",
              "relationship      0\n",
              "race              0\n",
              "sex               0\n",
              "capital-gain      0\n",
              "capital-loss      0\n",
              "hours-per-week    0\n",
              "native-country    0\n",
              "income-level      0\n",
              "dtype: int64"
            ],
            "text/html": [
              "<div>\n",
              "<style scoped>\n",
              "    .dataframe tbody tr th:only-of-type {\n",
              "        vertical-align: middle;\n",
              "    }\n",
              "\n",
              "    .dataframe tbody tr th {\n",
              "        vertical-align: top;\n",
              "    }\n",
              "\n",
              "    .dataframe thead th {\n",
              "        text-align: right;\n",
              "    }\n",
              "</style>\n",
              "<table border=\"1\" class=\"dataframe\">\n",
              "  <thead>\n",
              "    <tr style=\"text-align: right;\">\n",
              "      <th></th>\n",
              "      <th>0</th>\n",
              "    </tr>\n",
              "  </thead>\n",
              "  <tbody>\n",
              "    <tr>\n",
              "      <th>age</th>\n",
              "      <td>0</td>\n",
              "    </tr>\n",
              "    <tr>\n",
              "      <th>workclass</th>\n",
              "      <td>0</td>\n",
              "    </tr>\n",
              "    <tr>\n",
              "      <th>fnlwgt</th>\n",
              "      <td>0</td>\n",
              "    </tr>\n",
              "    <tr>\n",
              "      <th>education</th>\n",
              "      <td>0</td>\n",
              "    </tr>\n",
              "    <tr>\n",
              "      <th>education-num</th>\n",
              "      <td>0</td>\n",
              "    </tr>\n",
              "    <tr>\n",
              "      <th>marital-status</th>\n",
              "      <td>0</td>\n",
              "    </tr>\n",
              "    <tr>\n",
              "      <th>occupation</th>\n",
              "      <td>0</td>\n",
              "    </tr>\n",
              "    <tr>\n",
              "      <th>relationship</th>\n",
              "      <td>0</td>\n",
              "    </tr>\n",
              "    <tr>\n",
              "      <th>race</th>\n",
              "      <td>0</td>\n",
              "    </tr>\n",
              "    <tr>\n",
              "      <th>sex</th>\n",
              "      <td>0</td>\n",
              "    </tr>\n",
              "    <tr>\n",
              "      <th>capital-gain</th>\n",
              "      <td>0</td>\n",
              "    </tr>\n",
              "    <tr>\n",
              "      <th>capital-loss</th>\n",
              "      <td>0</td>\n",
              "    </tr>\n",
              "    <tr>\n",
              "      <th>hours-per-week</th>\n",
              "      <td>0</td>\n",
              "    </tr>\n",
              "    <tr>\n",
              "      <th>native-country</th>\n",
              "      <td>0</td>\n",
              "    </tr>\n",
              "    <tr>\n",
              "      <th>income-level</th>\n",
              "      <td>0</td>\n",
              "    </tr>\n",
              "  </tbody>\n",
              "</table>\n",
              "</div><br><label><b>dtype:</b> int64</label>"
            ]
          },
          "metadata": {},
          "execution_count": 9
        }
      ]
    },
    {
      "cell_type": "markdown",
      "source": [
        "To handle the '?' data, let's print out the column types first."
      ],
      "metadata": {
        "id": "NPX3HMgWA_al"
      }
    },
    {
      "cell_type": "code",
      "source": [
        "adult_df.dtypes"
      ],
      "metadata": {
        "id": "5dOpcOht2HLg",
        "outputId": "a66fcc3b-a0f9-4fd1-8e1d-ce196b72f12a",
        "colab": {
          "base_uri": "https://localhost:8080/",
          "height": 554
        }
      },
      "execution_count": 10,
      "outputs": [
        {
          "output_type": "execute_result",
          "data": {
            "text/plain": [
              "age                int64\n",
              "workclass         object\n",
              "fnlwgt             int64\n",
              "education         object\n",
              "education-num      int64\n",
              "marital-status    object\n",
              "occupation        object\n",
              "relationship      object\n",
              "race              object\n",
              "sex               object\n",
              "capital-gain       int64\n",
              "capital-loss       int64\n",
              "hours-per-week     int64\n",
              "native-country    object\n",
              "income-level      object\n",
              "dtype: object"
            ],
            "text/html": [
              "<div>\n",
              "<style scoped>\n",
              "    .dataframe tbody tr th:only-of-type {\n",
              "        vertical-align: middle;\n",
              "    }\n",
              "\n",
              "    .dataframe tbody tr th {\n",
              "        vertical-align: top;\n",
              "    }\n",
              "\n",
              "    .dataframe thead th {\n",
              "        text-align: right;\n",
              "    }\n",
              "</style>\n",
              "<table border=\"1\" class=\"dataframe\">\n",
              "  <thead>\n",
              "    <tr style=\"text-align: right;\">\n",
              "      <th></th>\n",
              "      <th>0</th>\n",
              "    </tr>\n",
              "  </thead>\n",
              "  <tbody>\n",
              "    <tr>\n",
              "      <th>age</th>\n",
              "      <td>int64</td>\n",
              "    </tr>\n",
              "    <tr>\n",
              "      <th>workclass</th>\n",
              "      <td>object</td>\n",
              "    </tr>\n",
              "    <tr>\n",
              "      <th>fnlwgt</th>\n",
              "      <td>int64</td>\n",
              "    </tr>\n",
              "    <tr>\n",
              "      <th>education</th>\n",
              "      <td>object</td>\n",
              "    </tr>\n",
              "    <tr>\n",
              "      <th>education-num</th>\n",
              "      <td>int64</td>\n",
              "    </tr>\n",
              "    <tr>\n",
              "      <th>marital-status</th>\n",
              "      <td>object</td>\n",
              "    </tr>\n",
              "    <tr>\n",
              "      <th>occupation</th>\n",
              "      <td>object</td>\n",
              "    </tr>\n",
              "    <tr>\n",
              "      <th>relationship</th>\n",
              "      <td>object</td>\n",
              "    </tr>\n",
              "    <tr>\n",
              "      <th>race</th>\n",
              "      <td>object</td>\n",
              "    </tr>\n",
              "    <tr>\n",
              "      <th>sex</th>\n",
              "      <td>object</td>\n",
              "    </tr>\n",
              "    <tr>\n",
              "      <th>capital-gain</th>\n",
              "      <td>int64</td>\n",
              "    </tr>\n",
              "    <tr>\n",
              "      <th>capital-loss</th>\n",
              "      <td>int64</td>\n",
              "    </tr>\n",
              "    <tr>\n",
              "      <th>hours-per-week</th>\n",
              "      <td>int64</td>\n",
              "    </tr>\n",
              "    <tr>\n",
              "      <th>native-country</th>\n",
              "      <td>object</td>\n",
              "    </tr>\n",
              "    <tr>\n",
              "      <th>income-level</th>\n",
              "      <td>object</td>\n",
              "    </tr>\n",
              "  </tbody>\n",
              "</table>\n",
              "</div><br><label><b>dtype:</b> object</label>"
            ]
          },
          "metadata": {},
          "execution_count": 10
        }
      ]
    },
    {
      "cell_type": "markdown",
      "source": [
        "Now, we get the value_counts for each of the non-integer columns.  We do this because we want to understand ALL the indicators of unknonwn data ('known unknowns' as Rumsfeld would say).\n",
        "The int64 columns don't have null values because NaN is a null value that the isnull() function above would have picked up.  See the docs: https://pandas.pydata.org/docs/reference/api/pandas.isnull.html"
      ],
      "metadata": {
        "id": "Ur8DCpTWD0et"
      }
    },
    {
      "cell_type": "code",
      "source": [
        "# KRISTIAN_NOTE - Fortunately, all categorical columns except education-num for\n",
        "# this dataset have a datatype of object.  Therefore, we don't need to\n",
        "# explicitly state each and every categorical column in a hardcoded array.\n",
        "for col in adult_df.select_dtypes (include = 'object').columns:\n",
        "  print (adult_df[col].value_counts())"
      ],
      "metadata": {
        "id": "jSVWT9tf5LIx",
        "outputId": "f8ad235a-821a-4770-897b-b822b5b3c337",
        "colab": {
          "base_uri": "https://localhost:8080/"
        }
      },
      "execution_count": 11,
      "outputs": [
        {
          "output_type": "stream",
          "name": "stdout",
          "text": [
            "workclass\n",
            "Private             22696\n",
            "Self-emp-not-inc     2541\n",
            "Local-gov            2093\n",
            "?                    1836\n",
            "State-gov            1298\n",
            "Self-emp-inc         1116\n",
            "Federal-gov           960\n",
            "Without-pay            14\n",
            "Never-worked            7\n",
            "Name: count, dtype: int64\n",
            "education\n",
            "HS-grad         10501\n",
            "Some-college     7291\n",
            "Bachelors        5355\n",
            "Masters          1723\n",
            "Assoc-voc        1382\n",
            "11th             1175\n",
            "Assoc-acdm       1067\n",
            "10th              933\n",
            "7th-8th           646\n",
            "Prof-school       576\n",
            "9th               514\n",
            "12th              433\n",
            "Doctorate         413\n",
            "5th-6th           333\n",
            "1st-4th           168\n",
            "Preschool          51\n",
            "Name: count, dtype: int64\n",
            "marital-status\n",
            "Married-civ-spouse       14976\n",
            "Never-married            10683\n",
            "Divorced                  4443\n",
            "Separated                 1025\n",
            "Widowed                    993\n",
            "Married-spouse-absent      418\n",
            "Married-AF-spouse           23\n",
            "Name: count, dtype: int64\n",
            "occupation\n",
            "Prof-specialty       4140\n",
            "Craft-repair         4099\n",
            "Exec-managerial      4066\n",
            "Adm-clerical         3770\n",
            "Sales                3650\n",
            "Other-service        3295\n",
            "Machine-op-inspct    2002\n",
            "?                    1843\n",
            "Transport-moving     1597\n",
            "Handlers-cleaners    1370\n",
            "Farming-fishing       994\n",
            "Tech-support          928\n",
            "Protective-serv       649\n",
            "Priv-house-serv       149\n",
            "Armed-Forces            9\n",
            "Name: count, dtype: int64\n",
            "relationship\n",
            "Husband           13193\n",
            "Not-in-family      8305\n",
            "Own-child          5068\n",
            "Unmarried          3446\n",
            "Wife               1568\n",
            "Other-relative      981\n",
            "Name: count, dtype: int64\n",
            "race\n",
            "White                 27816\n",
            "Black                  3124\n",
            "Asian-Pac-Islander     1039\n",
            "Amer-Indian-Eskimo      311\n",
            "Other                   271\n",
            "Name: count, dtype: int64\n",
            "sex\n",
            "Male      21790\n",
            "Female    10771\n",
            "Name: count, dtype: int64\n",
            "native-country\n",
            "United-States                 29170\n",
            "Mexico                          643\n",
            "?                               583\n",
            "Philippines                     198\n",
            "Germany                         137\n",
            "Canada                          121\n",
            "Puerto-Rico                     114\n",
            "El-Salvador                     106\n",
            "India                           100\n",
            "Cuba                             95\n",
            "England                          90\n",
            "Jamaica                          81\n",
            "South                            80\n",
            "China                            75\n",
            "Italy                            73\n",
            "Dominican-Republic               70\n",
            "Vietnam                          67\n",
            "Guatemala                        64\n",
            "Japan                            62\n",
            "Poland                           60\n",
            "Columbia                         59\n",
            "Taiwan                           51\n",
            "Haiti                            44\n",
            "Iran                             43\n",
            "Portugal                         37\n",
            "Nicaragua                        34\n",
            "Peru                             31\n",
            "France                           29\n",
            "Greece                           29\n",
            "Ecuador                          28\n",
            "Ireland                          24\n",
            "Hong                             20\n",
            "Trinadad&Tobago                  19\n",
            "Cambodia                         19\n",
            "Thailand                         18\n",
            "Laos                             18\n",
            "Yugoslavia                       16\n",
            "Outlying-US(Guam-USVI-etc)       14\n",
            "Honduras                         13\n",
            "Hungary                          13\n",
            "Scotland                         12\n",
            "Holand-Netherlands                1\n",
            "Name: count, dtype: int64\n",
            "income-level\n",
            "<=50K    24720\n",
            ">50K      7841\n",
            "Name: count, dtype: int64\n"
          ]
        }
      ]
    },
    {
      "cell_type": "markdown",
      "source": [
        "The code above indicates that the only indeterminate value in this dataset is '?'.  Had there been other indeterminate values, like 'N/A' or 'Preferred not to disclose', value_counts() would have picked those up too.\n",
        "\n",
        "We need to replace every instance of '?' with None and then rerun the isnull() function from above, but we hit a snag in that replacing non-null values with None will not actually change the value to None.  In our case, it just doesn't replace the '?' at all.  See this StackOverflow article: https://stackoverflow.com/questions/17097236/replace-invalid-values-with-none-in-pandas-dataframe"
      ],
      "metadata": {
        "id": "RyLIqKAwFCoa"
      }
    },
    {
      "cell_type": "code",
      "source": [
        "# Leaving in this commented code as a lesson on Pandas replace.\n",
        "# adult_df.replace (to_replace = '?', value = np.nan, inplace = True)\n",
        "# print (adult_df.isnull().sum())\n",
        "# print (adult_df['workclass'].value_counts())"
      ],
      "metadata": {
        "id": "Ss1UF9qGFydF"
      },
      "execution_count": 12,
      "outputs": []
    },
    {
      "cell_type": "markdown",
      "source": [
        "Fortunately the aforementnioned StackOverflow article mentioned another solution.  The read_csv() method can be assigned values to treated as null, so we'll pass '?' and ' ?' as parameters and give this another go."
      ],
      "metadata": {
        "id": "COqGrKa_JANO"
      }
    },
    {
      "cell_type": "code",
      "source": [
        "# Reload the dataset, but pass the na_values parameter to force it to treat '?' as NULL.\n",
        "# Don't forget to check for leading spaces: https://stackoverflow.com/questions/56825958/why-does-not-work-properly-na-values-in-pandas\n",
        "adult_df = pd.read_csv (DATA_PATH, header = None, na_values = ['?', ' ?'])\n",
        "adult_df.columns = adult_feature_names\n",
        "adult_df.isnull().sum()"
      ],
      "metadata": {
        "id": "K7fRe-tIJgW2",
        "outputId": "5aa6cab4-0fa7-415b-c7bb-d152eac1dab0",
        "colab": {
          "base_uri": "https://localhost:8080/",
          "height": 554
        }
      },
      "execution_count": 13,
      "outputs": [
        {
          "output_type": "execute_result",
          "data": {
            "text/plain": [
              "age                  0\n",
              "workclass         1836\n",
              "fnlwgt               0\n",
              "education            0\n",
              "education-num        0\n",
              "marital-status       0\n",
              "occupation        1843\n",
              "relationship         0\n",
              "race                 0\n",
              "sex                  0\n",
              "capital-gain         0\n",
              "capital-loss         0\n",
              "hours-per-week       0\n",
              "native-country     583\n",
              "income-level         0\n",
              "dtype: int64"
            ],
            "text/html": [
              "<div>\n",
              "<style scoped>\n",
              "    .dataframe tbody tr th:only-of-type {\n",
              "        vertical-align: middle;\n",
              "    }\n",
              "\n",
              "    .dataframe tbody tr th {\n",
              "        vertical-align: top;\n",
              "    }\n",
              "\n",
              "    .dataframe thead th {\n",
              "        text-align: right;\n",
              "    }\n",
              "</style>\n",
              "<table border=\"1\" class=\"dataframe\">\n",
              "  <thead>\n",
              "    <tr style=\"text-align: right;\">\n",
              "      <th></th>\n",
              "      <th>0</th>\n",
              "    </tr>\n",
              "  </thead>\n",
              "  <tbody>\n",
              "    <tr>\n",
              "      <th>age</th>\n",
              "      <td>0</td>\n",
              "    </tr>\n",
              "    <tr>\n",
              "      <th>workclass</th>\n",
              "      <td>1836</td>\n",
              "    </tr>\n",
              "    <tr>\n",
              "      <th>fnlwgt</th>\n",
              "      <td>0</td>\n",
              "    </tr>\n",
              "    <tr>\n",
              "      <th>education</th>\n",
              "      <td>0</td>\n",
              "    </tr>\n",
              "    <tr>\n",
              "      <th>education-num</th>\n",
              "      <td>0</td>\n",
              "    </tr>\n",
              "    <tr>\n",
              "      <th>marital-status</th>\n",
              "      <td>0</td>\n",
              "    </tr>\n",
              "    <tr>\n",
              "      <th>occupation</th>\n",
              "      <td>1843</td>\n",
              "    </tr>\n",
              "    <tr>\n",
              "      <th>relationship</th>\n",
              "      <td>0</td>\n",
              "    </tr>\n",
              "    <tr>\n",
              "      <th>race</th>\n",
              "      <td>0</td>\n",
              "    </tr>\n",
              "    <tr>\n",
              "      <th>sex</th>\n",
              "      <td>0</td>\n",
              "    </tr>\n",
              "    <tr>\n",
              "      <th>capital-gain</th>\n",
              "      <td>0</td>\n",
              "    </tr>\n",
              "    <tr>\n",
              "      <th>capital-loss</th>\n",
              "      <td>0</td>\n",
              "    </tr>\n",
              "    <tr>\n",
              "      <th>hours-per-week</th>\n",
              "      <td>0</td>\n",
              "    </tr>\n",
              "    <tr>\n",
              "      <th>native-country</th>\n",
              "      <td>583</td>\n",
              "    </tr>\n",
              "    <tr>\n",
              "      <th>income-level</th>\n",
              "      <td>0</td>\n",
              "    </tr>\n",
              "  </tbody>\n",
              "</table>\n",
              "</div><br><label><b>dtype:</b> int64</label>"
            ]
          },
          "metadata": {},
          "execution_count": 13
        }
      ]
    },
    {
      "cell_type": "code",
      "source": [
        "# Find all NULL values and drop them\n",
        "# Now that we've reloaded the dataset with the '?' value being treated as NULL,\n",
        "# we can remove those rows in the standard way.\n",
        "adult_df.dropna (how = 'any', inplace = True)"
      ],
      "metadata": {
        "id": "pZW7GRw3P0dT"
      },
      "execution_count": 14,
      "outputs": []
    },
    {
      "cell_type": "code",
      "source": [
        "print (f\"There are: {adult_df.shape [0]} rows and {adult_df.shape [1]} columns in the Adult dataset.\")\n",
        "adult_df.isnull().sum()"
      ],
      "metadata": {
        "id": "wuWLu5HvNdG-",
        "outputId": "8832d359-716d-48b1-cb35-60411dbf0ee3",
        "colab": {
          "base_uri": "https://localhost:8080/",
          "height": 572
        }
      },
      "execution_count": 15,
      "outputs": [
        {
          "output_type": "stream",
          "name": "stdout",
          "text": [
            "There are: 30162 rows and 15 columns in the Adult dataset.\n"
          ]
        },
        {
          "output_type": "execute_result",
          "data": {
            "text/plain": [
              "age               0\n",
              "workclass         0\n",
              "fnlwgt            0\n",
              "education         0\n",
              "education-num     0\n",
              "marital-status    0\n",
              "occupation        0\n",
              "relationship      0\n",
              "race              0\n",
              "sex               0\n",
              "capital-gain      0\n",
              "capital-loss      0\n",
              "hours-per-week    0\n",
              "native-country    0\n",
              "income-level      0\n",
              "dtype: int64"
            ],
            "text/html": [
              "<div>\n",
              "<style scoped>\n",
              "    .dataframe tbody tr th:only-of-type {\n",
              "        vertical-align: middle;\n",
              "    }\n",
              "\n",
              "    .dataframe tbody tr th {\n",
              "        vertical-align: top;\n",
              "    }\n",
              "\n",
              "    .dataframe thead th {\n",
              "        text-align: right;\n",
              "    }\n",
              "</style>\n",
              "<table border=\"1\" class=\"dataframe\">\n",
              "  <thead>\n",
              "    <tr style=\"text-align: right;\">\n",
              "      <th></th>\n",
              "      <th>0</th>\n",
              "    </tr>\n",
              "  </thead>\n",
              "  <tbody>\n",
              "    <tr>\n",
              "      <th>age</th>\n",
              "      <td>0</td>\n",
              "    </tr>\n",
              "    <tr>\n",
              "      <th>workclass</th>\n",
              "      <td>0</td>\n",
              "    </tr>\n",
              "    <tr>\n",
              "      <th>fnlwgt</th>\n",
              "      <td>0</td>\n",
              "    </tr>\n",
              "    <tr>\n",
              "      <th>education</th>\n",
              "      <td>0</td>\n",
              "    </tr>\n",
              "    <tr>\n",
              "      <th>education-num</th>\n",
              "      <td>0</td>\n",
              "    </tr>\n",
              "    <tr>\n",
              "      <th>marital-status</th>\n",
              "      <td>0</td>\n",
              "    </tr>\n",
              "    <tr>\n",
              "      <th>occupation</th>\n",
              "      <td>0</td>\n",
              "    </tr>\n",
              "    <tr>\n",
              "      <th>relationship</th>\n",
              "      <td>0</td>\n",
              "    </tr>\n",
              "    <tr>\n",
              "      <th>race</th>\n",
              "      <td>0</td>\n",
              "    </tr>\n",
              "    <tr>\n",
              "      <th>sex</th>\n",
              "      <td>0</td>\n",
              "    </tr>\n",
              "    <tr>\n",
              "      <th>capital-gain</th>\n",
              "      <td>0</td>\n",
              "    </tr>\n",
              "    <tr>\n",
              "      <th>capital-loss</th>\n",
              "      <td>0</td>\n",
              "    </tr>\n",
              "    <tr>\n",
              "      <th>hours-per-week</th>\n",
              "      <td>0</td>\n",
              "    </tr>\n",
              "    <tr>\n",
              "      <th>native-country</th>\n",
              "      <td>0</td>\n",
              "    </tr>\n",
              "    <tr>\n",
              "      <th>income-level</th>\n",
              "      <td>0</td>\n",
              "    </tr>\n",
              "  </tbody>\n",
              "</table>\n",
              "</div><br><label><b>dtype:</b> int64</label>"
            ]
          },
          "metadata": {},
          "execution_count": 15
        }
      ]
    },
    {
      "cell_type": "code",
      "source": [
        "adult_df[\"income-level\"].value_counts()"
      ],
      "metadata": {
        "id": "KaHvhqv5-Evk",
        "outputId": "78b79b29-10c0-4bd2-83e2-8cc150ac14e5",
        "colab": {
          "base_uri": "https://localhost:8080/",
          "height": 178
        }
      },
      "execution_count": 16,
      "outputs": [
        {
          "output_type": "execute_result",
          "data": {
            "text/plain": [
              "income-level\n",
              "<=50K    22654\n",
              ">50K      7508\n",
              "Name: count, dtype: int64"
            ],
            "text/html": [
              "<div>\n",
              "<style scoped>\n",
              "    .dataframe tbody tr th:only-of-type {\n",
              "        vertical-align: middle;\n",
              "    }\n",
              "\n",
              "    .dataframe tbody tr th {\n",
              "        vertical-align: top;\n",
              "    }\n",
              "\n",
              "    .dataframe thead th {\n",
              "        text-align: right;\n",
              "    }\n",
              "</style>\n",
              "<table border=\"1\" class=\"dataframe\">\n",
              "  <thead>\n",
              "    <tr style=\"text-align: right;\">\n",
              "      <th></th>\n",
              "      <th>count</th>\n",
              "    </tr>\n",
              "    <tr>\n",
              "      <th>income-level</th>\n",
              "      <th></th>\n",
              "    </tr>\n",
              "  </thead>\n",
              "  <tbody>\n",
              "    <tr>\n",
              "      <th>&lt;=50K</th>\n",
              "      <td>22654</td>\n",
              "    </tr>\n",
              "    <tr>\n",
              "      <th>&gt;50K</th>\n",
              "      <td>7508</td>\n",
              "    </tr>\n",
              "  </tbody>\n",
              "</table>\n",
              "</div><br><label><b>dtype:</b> int64</label>"
            ]
          },
          "metadata": {},
          "execution_count": 16
        }
      ]
    },
    {
      "cell_type": "markdown",
      "source": [
        "Note that there were 32,561 rows when we loaded the Adult dataset the first time.  There are now 30,162 rows total, and the isnull() method no longer catches any rows including a '?'.  Of these rows, 22,654 people, or roughly 75%, make less than or equal to $50k.\n",
        "\n",
        "Before we split the training and test data, more EDA is required to understand the distribution of categorical variables.  This allows us to determine how feasible it is to stratify our train-test split so that every member of our test set belongs to categories already taken into account in the training set."
      ],
      "metadata": {
        "id": "YGcyUQi6OQMN"
      }
    },
    {
      "cell_type": "code",
      "source": [
        "# Use Scikit-Learn's LabelEncoder to convert the income column with a data type\n",
        "# string to a binary variable.\n",
        "le_income = LabelEncoder()\n",
        "adult_df[\"income-over-50k\"] = le_income.fit_transform (adult_df[\"income-level\"])\n",
        "adult_df_encoded_target = adult_df.drop (labels = \"income-level\", axis = 1)\n",
        "print (adult_df_encoded_target.head(10))"
      ],
      "metadata": {
        "id": "BZ_mJT_DLZ-L",
        "outputId": "e5362f35-6681-4d17-9dc3-c7c2311387f4",
        "colab": {
          "base_uri": "https://localhost:8080/"
        }
      },
      "execution_count": 17,
      "outputs": [
        {
          "output_type": "stream",
          "name": "stdout",
          "text": [
            "   age          workclass  fnlwgt   education  education-num  \\\n",
            "0   39          State-gov   77516   Bachelors             13   \n",
            "1   50   Self-emp-not-inc   83311   Bachelors             13   \n",
            "2   38            Private  215646     HS-grad              9   \n",
            "3   53            Private  234721        11th              7   \n",
            "4   28            Private  338409   Bachelors             13   \n",
            "5   37            Private  284582     Masters             14   \n",
            "6   49            Private  160187         9th              5   \n",
            "7   52   Self-emp-not-inc  209642     HS-grad              9   \n",
            "8   31            Private   45781     Masters             14   \n",
            "9   42            Private  159449   Bachelors             13   \n",
            "\n",
            "           marital-status          occupation    relationship    race  \\\n",
            "0           Never-married        Adm-clerical   Not-in-family   White   \n",
            "1      Married-civ-spouse     Exec-managerial         Husband   White   \n",
            "2                Divorced   Handlers-cleaners   Not-in-family   White   \n",
            "3      Married-civ-spouse   Handlers-cleaners         Husband   Black   \n",
            "4      Married-civ-spouse      Prof-specialty            Wife   Black   \n",
            "5      Married-civ-spouse     Exec-managerial            Wife   White   \n",
            "6   Married-spouse-absent       Other-service   Not-in-family   Black   \n",
            "7      Married-civ-spouse     Exec-managerial         Husband   White   \n",
            "8           Never-married      Prof-specialty   Not-in-family   White   \n",
            "9      Married-civ-spouse     Exec-managerial         Husband   White   \n",
            "\n",
            "       sex  capital-gain  capital-loss  hours-per-week  native-country  \\\n",
            "0     Male          2174             0              40   United-States   \n",
            "1     Male             0             0              13   United-States   \n",
            "2     Male             0             0              40   United-States   \n",
            "3     Male             0             0              40   United-States   \n",
            "4   Female             0             0              40            Cuba   \n",
            "5   Female             0             0              40   United-States   \n",
            "6   Female             0             0              16         Jamaica   \n",
            "7     Male             0             0              45   United-States   \n",
            "8   Female         14084             0              50   United-States   \n",
            "9     Male          5178             0              40   United-States   \n",
            "\n",
            "   income-over-50k  \n",
            "0                0  \n",
            "1                0  \n",
            "2                0  \n",
            "3                0  \n",
            "4                0  \n",
            "5                0  \n",
            "6                0  \n",
            "7                1  \n",
            "8                1  \n",
            "9                1  \n"
          ]
        }
      ]
    },
    {
      "cell_type": "markdown",
      "source": [
        "In the previous mini-project (please see Student_MLE_MiniProject_ML.ipynb), I dealt with a dataset of taxi records including id's for locations to pick up and drop off passengers.  When splitting that data, there were three taxi rides in the test set featuring pickup location id's not present in the training set.  Because there were so many distinct location id's, it was impossible to stratify the data.  However, there were so few of these unaccounted offenders that removing them from the test set left almost zero impact on the model.\n",
        "\n",
        "But I do not find this approach satisfactory.  This test set has only a fraction of the number of rows as the Taxicab dataset from the previous project.  I'd rather deal with this problem a different way.  After having discussed this issue with my mentor, I now know it is common practice to apply one-hot encoding to the dataset before the train-test split step.\n",
        "\n",
        "However, the ColumnTransformer portion of this project will need to be integrated into the same Pipeline as the Keras model I will be building later in the project, and that Pipeline only takes \"transformer\" type operations.  Unfortunately, scikit-learn's train-test-split operation is NOT a \"transformer\" type operation, thereby creating a \"chicken and the egg\" situation between data splitting and one-hot-encoding.\n",
        "\n",
        "After a discussion with my mentor, I have decided to do the following:\n",
        "\n",
        "1. I will use the get_dummies function from Pandas first because it returns a DataFrame that's easy to split.\n",
        "\n",
        "2. Then, I will train-test-split the dataset.\n",
        "\n",
        "3. Then, I will measure the effectiveness of a baseline model.\n",
        "\n",
        "4. Then, I will create the ColumnTransformer, but the OneHotEncoding step will not perform on any columns.  The encoded columns created from step 1) will be preserved as they are."
      ],
      "metadata": {
        "id": "DQYzcxY_dzFy"
      }
    },
    {
      "cell_type": "code",
      "source": [
        "# KRISTIAN_NOTE - Fortunately, all categorical columns except education-num for\n",
        "# this dataset have a datatype of object.  Therefore, we don't need to\n",
        "# explicitly state each and every categorical column in a hardcoded array.\n",
        "# We need only remove 'income-level' since that's our target before label-encoding.\n",
        "categorical_feature_cols = list(adult_df.select_dtypes (include = 'object').columns[0:-1])\n",
        "print (categorical_feature_cols)\n",
        "\n",
        "# Again, remove 'income-over-50k' since that's our target after label-encoding.\n",
        "quanitative_feature_columns = list (adult_df.select_dtypes (include = 'int64').columns[0:-1])\n",
        "print (quanitative_feature_columns)"
      ],
      "metadata": {
        "id": "NEw0HNJ7XPUU",
        "outputId": "fd7d9562-86a1-440a-b553-c4e8fa448fde",
        "colab": {
          "base_uri": "https://localhost:8080/"
        }
      },
      "execution_count": 18,
      "outputs": [
        {
          "output_type": "stream",
          "name": "stdout",
          "text": [
            "['workclass', 'education', 'marital-status', 'occupation', 'relationship', 'race', 'sex', 'native-country']\n",
            "['age', 'fnlwgt', 'education-num', 'capital-gain', 'capital-loss', 'hours-per-week']\n"
          ]
        }
      ]
    },
    {
      "cell_type": "markdown",
      "source": [
        "STEP 1. Use get_dummies to one-hot encode the data.\n",
        "Docs: https://pandas.pydata.org/docs/reference/api/pandas.get_dummies.html"
      ],
      "metadata": {
        "id": "gIn-h-gwSyuJ"
      }
    },
    {
      "cell_type": "code",
      "source": [
        "# List out the columns explicitly.\n",
        "# StackOverflow article for this: https://stackoverflow.com/questions/36285155/pandas-get-dummies\n",
        "adult_df_converted_cols = pd.get_dummies (adult_df_encoded_target, columns = categorical_feature_cols)\n",
        "print (adult_df_converted_cols.head())"
      ],
      "metadata": {
        "id": "Hx5UMwI6S8hL",
        "outputId": "0e22ecbf-91af-4e5b-aa9f-a4118cd0d24f",
        "colab": {
          "base_uri": "https://localhost:8080/"
        }
      },
      "execution_count": 19,
      "outputs": [
        {
          "output_type": "stream",
          "name": "stdout",
          "text": [
            "   age  fnlwgt  education-num  capital-gain  capital-loss  hours-per-week  \\\n",
            "0   39   77516             13          2174             0              40   \n",
            "1   50   83311             13             0             0              13   \n",
            "2   38  215646              9             0             0              40   \n",
            "3   53  234721              7             0             0              40   \n",
            "4   28  338409             13             0             0              40   \n",
            "\n",
            "   income-over-50k  workclass_ Federal-gov  workclass_ Local-gov  \\\n",
            "0                0                   False                 False   \n",
            "1                0                   False                 False   \n",
            "2                0                   False                 False   \n",
            "3                0                   False                 False   \n",
            "4                0                   False                 False   \n",
            "\n",
            "   workclass_ Private  ...  native-country_ Portugal  \\\n",
            "0               False  ...                     False   \n",
            "1               False  ...                     False   \n",
            "2                True  ...                     False   \n",
            "3                True  ...                     False   \n",
            "4                True  ...                     False   \n",
            "\n",
            "   native-country_ Puerto-Rico  native-country_ Scotland  \\\n",
            "0                        False                     False   \n",
            "1                        False                     False   \n",
            "2                        False                     False   \n",
            "3                        False                     False   \n",
            "4                        False                     False   \n",
            "\n",
            "   native-country_ South  native-country_ Taiwan  native-country_ Thailand  \\\n",
            "0                  False                   False                     False   \n",
            "1                  False                   False                     False   \n",
            "2                  False                   False                     False   \n",
            "3                  False                   False                     False   \n",
            "4                  False                   False                     False   \n",
            "\n",
            "   native-country_ Trinadad&Tobago  native-country_ United-States  \\\n",
            "0                            False                           True   \n",
            "1                            False                           True   \n",
            "2                            False                           True   \n",
            "3                            False                           True   \n",
            "4                            False                          False   \n",
            "\n",
            "   native-country_ Vietnam  native-country_ Yugoslavia  \n",
            "0                    False                       False  \n",
            "1                    False                       False  \n",
            "2                    False                       False  \n",
            "3                    False                       False  \n",
            "4                    False                       False  \n",
            "\n",
            "[5 rows x 105 columns]\n"
          ]
        }
      ]
    },
    {
      "cell_type": "markdown",
      "source": [
        "Now, the DataFrame has 105 columns total: 104 feature columns and our label-encoded target column 'income-over-50k'.\n",
        "\n",
        "Note that get_dummies one-hot encodes datasets to have boolean columns (eg. True for 'native-country_ Thailand' if the adult is from Thailand and False for the other countries).  Therefore, we can obtain a list of these columns with our trusty 'dtypes' and 'select_dtypes' methods as before."
      ],
      "metadata": {
        "id": "8N6sqh98W3ta"
      }
    },
    {
      "cell_type": "code",
      "source": [
        "print (list (adult_df_converted_cols.select_dtypes (include = 'bool')))"
      ],
      "metadata": {
        "colab": {
          "base_uri": "https://localhost:8080/"
        },
        "id": "UPdjJv6SeDtI",
        "outputId": "ff9ca8cf-392f-4791-cb32-05974d360de9"
      },
      "execution_count": 20,
      "outputs": [
        {
          "output_type": "stream",
          "name": "stdout",
          "text": [
            "['workclass_ Federal-gov', 'workclass_ Local-gov', 'workclass_ Private', 'workclass_ Self-emp-inc', 'workclass_ Self-emp-not-inc', 'workclass_ State-gov', 'workclass_ Without-pay', 'education_ 10th', 'education_ 11th', 'education_ 12th', 'education_ 1st-4th', 'education_ 5th-6th', 'education_ 7th-8th', 'education_ 9th', 'education_ Assoc-acdm', 'education_ Assoc-voc', 'education_ Bachelors', 'education_ Doctorate', 'education_ HS-grad', 'education_ Masters', 'education_ Preschool', 'education_ Prof-school', 'education_ Some-college', 'marital-status_ Divorced', 'marital-status_ Married-AF-spouse', 'marital-status_ Married-civ-spouse', 'marital-status_ Married-spouse-absent', 'marital-status_ Never-married', 'marital-status_ Separated', 'marital-status_ Widowed', 'occupation_ Adm-clerical', 'occupation_ Armed-Forces', 'occupation_ Craft-repair', 'occupation_ Exec-managerial', 'occupation_ Farming-fishing', 'occupation_ Handlers-cleaners', 'occupation_ Machine-op-inspct', 'occupation_ Other-service', 'occupation_ Priv-house-serv', 'occupation_ Prof-specialty', 'occupation_ Protective-serv', 'occupation_ Sales', 'occupation_ Tech-support', 'occupation_ Transport-moving', 'relationship_ Husband', 'relationship_ Not-in-family', 'relationship_ Other-relative', 'relationship_ Own-child', 'relationship_ Unmarried', 'relationship_ Wife', 'race_ Amer-Indian-Eskimo', 'race_ Asian-Pac-Islander', 'race_ Black', 'race_ Other', 'race_ White', 'sex_ Female', 'sex_ Male', 'native-country_ Cambodia', 'native-country_ Canada', 'native-country_ China', 'native-country_ Columbia', 'native-country_ Cuba', 'native-country_ Dominican-Republic', 'native-country_ Ecuador', 'native-country_ El-Salvador', 'native-country_ England', 'native-country_ France', 'native-country_ Germany', 'native-country_ Greece', 'native-country_ Guatemala', 'native-country_ Haiti', 'native-country_ Holand-Netherlands', 'native-country_ Honduras', 'native-country_ Hong', 'native-country_ Hungary', 'native-country_ India', 'native-country_ Iran', 'native-country_ Ireland', 'native-country_ Italy', 'native-country_ Jamaica', 'native-country_ Japan', 'native-country_ Laos', 'native-country_ Mexico', 'native-country_ Nicaragua', 'native-country_ Outlying-US(Guam-USVI-etc)', 'native-country_ Peru', 'native-country_ Philippines', 'native-country_ Poland', 'native-country_ Portugal', 'native-country_ Puerto-Rico', 'native-country_ Scotland', 'native-country_ South', 'native-country_ Taiwan', 'native-country_ Thailand', 'native-country_ Trinadad&Tobago', 'native-country_ United-States', 'native-country_ Vietnam', 'native-country_ Yugoslavia']\n"
          ]
        }
      ]
    },
    {
      "cell_type": "markdown",
      "source": [
        "STEP 2. Split the data into training and test sets. Remember not to include the label you're trying to predict, `income`, as a column in your training data."
      ],
      "metadata": {
        "id": "ibK0DxJsA1JH"
      }
    },
    {
      "cell_type": "code",
      "source": [
        "# Split dataset into training and test sets\n",
        "features_train, features_test, target_train, target_test = train_test_split (\\\n",
        "  adult_df_converted_cols.drop ('income-over-50k', axis = 1, inplace = False), adult_df_converted_cols['income-over-50k'], random_state = 16,\\\n",
        ")"
      ],
      "metadata": {
        "id": "1whzL6K7J-zq"
      },
      "execution_count": 21,
      "outputs": []
    },
    {
      "cell_type": "markdown",
      "source": [
        "In machine learning, the Receiver Operating Characteristic (ROC) curve and the Area Under the Curve (AUC) metric are commonly used to evaluate the performance of binary classification models. These are valuable tools for understanding how well a model can distinguish between the positive and negative classes in a classification problem.\n",
        "\n",
        "Let's break down each concept:\n",
        "\n",
        "1. ROC Curve:\n",
        "The ROC curve is a graphical representation of a binary classifier's performance as the discrimination threshold is varied. It is created by plotting the True Positive Rate (TPR) against the False Positive Rate (FPR) at different threshold values. Here's how these rates are calculated:\n",
        "\n",
        "- True Positive Rate (TPR), also called Sensitivity or Recall, measures the proportion of actual positive instances that are correctly identified by the model:\n",
        "   TPR = True Positives / (True Positives + False Negatives)\n",
        "\n",
        "- False Positive Rate (FPR) measures the proportion of actual negative instances that are incorrectly classified as positive by the model:\n",
        "   FPR = False Positives / (False Positives + True Negatives)\n",
        "\n",
        "The ROC curve is useful because it shows how well a classifier can trade off between sensitivity and specificity across different threshold values. The ideal ROC curve hugs the top-left corner, indicating a high TPR and low FPR, meaning the classifier is excellent at distinguishing between the two classes.\n",
        "\n",
        "2. AUC (Area Under the Curve):\n",
        "The AUC is a scalar metric derived from the ROC curve. It represents the area under the ROC curve, hence its name. The AUC ranges from 0 to 1, where 0 indicates a very poor classifier (always predicting the opposite class) and 1 signifies a perfect classifier (making all correct predictions).\n",
        "\n",
        "The AUC metric is beneficial because it provides a single value to summarize the classifier's overall performance across all possible threshold values. It is particularly useful when dealing with imbalanced datasets, where one class significantly outnumbers the other. In such cases, accuracy alone might not be a reliable evaluation metric, and AUC can provide a more robust performance measure.\n",
        "\n",
        "A quick rule of thumb for interpreting AUC values:\n",
        "- AUC ≈ 0.5: The model performs no better than random guessing.\n",
        "- 0.5 < AUC < 0.7: The model has poor to fair performance.\n",
        "- 0.7 < AUC < 0.9: The model has good to excellent performance.\n",
        "- AUC ≈ 1: The model is close to or has a perfect performance."
      ],
      "metadata": {
        "id": "HMsXM6B_BX5k"
      }
    },
    {
      "cell_type": "markdown",
      "source": [
        "STEP 3: Measure the effectiveness of the baseline model.\n",
        "\n",
        "Here are your tasks:\n",
        "\n",
        "  1. Use Scikit-Learn's [roc_auc_score](https://scikit-learn.org/stable/modules/generated/sklearn.metrics.roc_auc_score.html) to calculate the AUC score for a method that always predicts the majority class.  "
      ],
      "metadata": {
        "id": "NDGgBVEKEYKi"
      }
    },
    {
      "cell_type": "code",
      "source": [
        "# Use Scikit-Learn's roc_auc_score to calculate the AUC score for a method that\n",
        "# always predicts the majority class.\n",
        "def always_predicts_majority_baseline (target_col):\n",
        "  frequencies_list = target_col.value_counts().to_list()\n",
        "  return frequencies_list.index (max (frequencies_list))\n",
        "\n",
        "baseline_model = always_predicts_majority_baseline (target_train)\n",
        "print (f\"The baseline model will always predict {baseline_model} for adult income. >= $50k.\")\n",
        "roc_auc_score (target_test, [baseline_model] * len (target_test))"
      ],
      "metadata": {
        "id": "s00Xs8bqUZnn",
        "outputId": "03f9e945-8df1-4874-9994-0eaee034ae43",
        "colab": {
          "base_uri": "https://localhost:8080/"
        }
      },
      "execution_count": 22,
      "outputs": [
        {
          "output_type": "stream",
          "name": "stdout",
          "text": [
            "The baseline model will always predict 0 for adult income. >= $50k.\n"
          ]
        },
        {
          "output_type": "execute_result",
          "data": {
            "text/plain": [
              "np.float64(0.5)"
            ]
          },
          "metadata": {},
          "execution_count": 22
        }
      ]
    },
    {
      "cell_type": "markdown",
      "source": [
        "The area under the curve for our baseline model is 0.5, which means it exactly as useful as random guessing."
      ],
      "metadata": {
        "id": "gD-7XVgGNfBs"
      }
    },
    {
      "cell_type": "markdown",
      "source": [
        "Instructions from the Project, preserved for reference purposes (I already one-hot encoded the columns):\n",
        "\n",
        "STEP 4 - Use MinMaxScaler on the numerical feature columns.\n",
        "\n",
        "Now, let's do a little feature engineering.\n",
        "\n",
        "1. Use Scikit-Learn's [ColumnTransformer](https://scikit-learn.org/stable/modules/generated/sklearn.compose.ColumnTransformer.html) to apply One Hot Encoding to the categorical variables in `workclass`, `education`, `marital-status`, `occupation`, `relationship`, 'race', `sex`, and `native-country`. Also, apply [MinMaxScaler](https://scikit-learn.org/stable/modules/generated/sklearn.preprocessing.MinMaxScaler.html) to the remaining continuous features. How many columns will the dataframe have after these columns transformations are applied?"
      ],
      "metadata": {
        "id": "uWSiYNarF2t_"
      }
    },
    {
      "cell_type": "code",
      "source": [
        "# Use Scikit-Learn's ColumnTransformer to apply One Hot Encoding to the\n",
        "# categorical variables in workclass, education, marital-status, occupation,\n",
        "# relationship, 'race', sex, and native-country.\n",
        "# KRISTIAN_NOTE - Actually, we'll apply a FunctionTransformer to preserve the categorical columns we've already one-hot encoded via an identity function.\n",
        "# Why? Because the ColumnTransformer returns a concactenation of only the columns on which it has operated.\n",
        "# See StackOverflow: https://stackoverflow.com/questions/68869466/use-sklearn-transformers-on-list-of-columns-and-preserve-the-input-columns\n",
        "\n",
        "print (f'There are {features_train.shape[1]} total columns in the training set.')\n",
        "\n",
        "all_columns_preparer = ColumnTransformer ([\\\n",
        "  # KRISTIAN_NOTE - Don't one-hot encode the columns a second time.\n",
        "  ('one_hot_categorical_columns', OneHotEncoder (handle_unknown = 'error'), []), #, categorical_feature_cols),\n",
        "  ('preserve_categorical_columns', FunctionTransformer (lambda x: x), list (features_train.select_dtypes (include = 'bool'))),\n",
        "  ('scale_quantifiable_columns', MinMaxScaler (), quanitative_feature_columns)\n",
        "])"
      ],
      "metadata": {
        "id": "4DybgGJyW-3Q",
        "outputId": "c0d7d213-1c0b-4bab-e402-8e457f23b836",
        "colab": {
          "base_uri": "https://localhost:8080/"
        }
      },
      "execution_count": 23,
      "outputs": [
        {
          "output_type": "stream",
          "name": "stdout",
          "text": [
            "There are 104 total columns in the training set.\n"
          ]
        }
      ]
    },
    {
      "cell_type": "code",
      "source": [
        "# How many columns will the dataframe have after these columns transformations are applied?\n",
        "# KRISTIAN_NOTE - We already dropped the target 'income-over-50k' column via the label-encoding above.\n",
        "# Also, keep in mind the result is NOT a dataframe, but a sparse matrix.\n",
        "encoded_adult_sparse_matrix = all_columns_preparer.fit_transform (features_train, target_train)\n",
        "print (f\"Number of rows in one-hot encoded adult dataset: {encoded_adult_sparse_matrix.shape[0]}\")\n",
        "print (f\"Number of columns in one-hot encoded adult dataset: {encoded_adult_sparse_matrix.shape[1]}\")"
      ],
      "metadata": {
        "id": "emfaqHwvKfLU",
        "outputId": "3ed62509-df8a-4183-d216-40aeccc00bb1",
        "colab": {
          "base_uri": "https://localhost:8080/"
        }
      },
      "execution_count": 24,
      "outputs": [
        {
          "output_type": "stream",
          "name": "stdout",
          "text": [
            "Number of rows in one-hot encoded adult dataset: 22621\n",
            "Number of columns in one-hot encoded adult dataset: 104\n"
          ]
        }
      ]
    },
    {
      "cell_type": "markdown",
      "source": [
        "Same number of columns as before minus the target column (104 total), so that checks out."
      ],
      "metadata": {
        "id": "hmuAJBQkKsM4"
      }
    },
    {
      "cell_type": "markdown",
      "source": [
        "Keras is an open-source deep learning library written in Python. It was developed to provide a user-friendly, high-level interface for building and training neural networks. The library was created by François Chollet and was first released in March 2015 as part of the Deeplearning4j project. Later, it became part of the TensorFlow ecosystem and is now the official high-level API for TensorFlow.\n",
        "\n",
        "Keras is designed to be modular, user-friendly, and easy to extend. It allows researchers and developers to quickly prototype and experiment with various deep learning models. One of the primary goals of Keras is to enable fast experimentation, making it simple to build and iterate on different architectures.\n",
        "\n",
        "Key features of Keras include:\n",
        "\n",
        "1. User-friendly API: Keras provides a simple and intuitive interface for defining and training deep learning models. Its design philosophy focuses on ease of use and clarity of code.\n",
        "\n",
        "2. Modularity: Models in Keras are built as a sequence of layers, and users can easily stack, merge, or create complex architectures using a wide range of predefined layers.\n",
        "\n",
        "3. Extensibility: Keras allows users to define custom layers, loss functions, and metrics. This flexibility enables researchers to experiment with new ideas and algorithms seamlessly.\n",
        "\n",
        "4. Backends: Initially, Keras supported multiple backends, including TensorFlow, Theano, and CNTK. However, as of TensorFlow version 2.0, TensorFlow has become the primary backend for Keras.\n",
        "\n",
        "5. Multi-GPU and distributed training: Keras supports training models on multiple GPUs and in distributed computing environments, making it suitable for large-scale experiments.\n",
        "\n",
        "6. Pre-trained models: Keras includes a collection of pre-trained models for common tasks, such as image classification (e.g., VGG, ResNet, MobileNet) and natural language processing (e.g., Word2Vec, GloVe).\n",
        "\n",
        "The integration of Keras into TensorFlow as its official high-level API has solidified its position as one of the most popular deep learning libraries in the machine learning community. Its ease of use and versatility have contributed to its widespread adoption in both academia and industry for a wide range of deep learning tasks."
      ],
      "metadata": {
        "id": "AtoqTz5rGuET"
      }
    },
    {
      "cell_type": "markdown",
      "source": [
        "Here are your tasks:\n",
        "\n",
        "1. Create your own model in Keras to predict income in the Adult training data. Remember, it's always better to start simple and add complexity to the model if necessary. What's a good loss function to use?\n",
        "\n",
        "2. Keras can be integrated with Scitkit-Learn using a wrapper. Use the [KerasClassifier wrapper](https://adriangb.com/scikeras/stable/generated/scikeras.wrappers.KerasClassifier.html) to integrate your Keras model with the ColumnTransformer from previous steps using a [Pipeline](https://scikit-learn.org/stable/modules/generated/sklearn.pipeline.Pipeline.html) object.\n",
        "\n",
        "3. Fit your model.\n",
        "\n",
        "4. Calculate the AUC score of your model on the test data. Does the model predict better than random?\n",
        "\n",
        "5. Generate an ROC curve for your model using [RocCurveDisplay](https://scikit-learn.org/stable/modules/generated/sklearn.metrics.RocCurveDisplay.html). What would the curve look like if all your predictions were randomly generated? What would the curve look like if it you had a perfect model?"
      ],
      "metadata": {
        "id": "HVUa0h83HU24"
      }
    },
    {
      "cell_type": "code",
      "source": [
        "# Define the Keras model\n",
        "simple_nn = keras.models.Sequential()\n",
        "# According to the docs: https://keras.io/api/layers/core_layers/input/\n",
        "# the shape of an Input layer indicates \"batches of [n]-dimensional vectors\",\n",
        "# where n is the number of features/columns in the dataset.\n",
        "# For simplicity, we will not add an activation function to the neural network.\n",
        "simple_nn.add (keras.layers.InputLayer (shape = (features_train.shape[1], )))\n",
        "simple_nn.add (keras.layers.Dense (1, activation = 'sigmoid')) # Output layer\n",
        "\n",
        "# KRISTIAN_NOTE - Need to compile this model before passing it into the Keras Classifier.\n",
        "# The Pipeline below requires a compiled model or else it will spit out an error\n",
        "# when you try to fit it to the training data.\n",
        "simple_nn.compile (\\\n",
        "  # KRISTIAN_NOTE - See below for explanation of why I chose 'adam' below.\n",
        "  optimizer = 'adam',\\\n",
        "  # KRISTIAN_NOTE - We are dealing with binary categories in our dataset, so\n",
        "  # binary cross-entropy is a reliable loss function here.\n",
        "  loss = 'binary_crossentropy',\\\n",
        "  # KRISTIAN_NOTE - Since we're going to make a ROC curve from this model later,\n",
        "  # we don't need any metrics, but I'd still like to track false positives and\n",
        "  # false negatives to visualize later.\n",
        "  metrics = ['false_positives', 'false_negatives'])"
      ],
      "metadata": {
        "id": "w1UAx-kjgezB"
      },
      "execution_count": 64,
      "outputs": []
    },
    {
      "cell_type": "markdown",
      "source": [
        "Begin with the simplest neural network permissible for this model: an Input layer with one neuron per feature fanning into a single output neuron.  In other words, it's a weighted sum of feature correlations each expressed as a weight and a bias.\n",
        "\n",
        "Before we proceed, allow me to share what I've learned about optimizers thus far.  It all started with this article: https://www.geeksforgeeks.org/intuition-behind-adagrad-optimizer/\n",
        "\n",
        "Quote:\n",
        "\"The most significant advantage of Adagrad is its ability to adapt the\n",
        "learning rate for each parameter. This is especially beneficial when dealing\n",
        "with sparse features...\"\n",
        "\n",
        "\"The most significant advantage of Adagrad is its ability to adapt the\n",
        "learning rate for each parameter. This is especially beneficial when dealing\n",
        "with sparse features...\"  In our case, one-hot encoding the categorical columns induces a lot of 'sparse-ness' into our data because most of the features will be 0 for each row.  If there are, for instance, 42 possible nationalities per adult, then 41 of those columns will be 'False' or '0' because an adult can only be born in a single location.  Same logic applies for gender, career, marital status, etc...\n",
        "However, over each epoch, the l2-norm (square root of the sum of the squared gradients) accumulates, and the learning rate is divided by that amount.  After just a few epochs, the model's performance will hit a plateau and not improve any further.\n",
        "\n",
        "This Medium article: https://medium.com/@brijesh_soni/understanding-the-adagrad-optimization-algorithm-an-adaptive-learning-rate-approach-9dfaae2077bb\n",
        "\n",
        "suggests a few other algorithms: 'Adadelta' and 'Rmsprop' both involve a sort of 'decay' term to control the rate at which the learning rate shrinks.  However, 'Adam' seems the most sophisticated of the three.\n",
        "\n",
        "https://www.geeksforgeeks.org/adam-optimizer/\n",
        "The ADAM optimizer expresses the change in the learning rate, or 'momentum' as a spectrum between zero (learning rate doesn't change) and the gradient of the loss function.\n",
        "The formulas come down to:\n",
        "\n",
        "1) new_momentum = (momentum_constant) * old_momentum + (1 - momentum_constant) * (gradient)\n",
        "\n",
        "2) new_weight = old_weight - (learning_rate * new_momentum)\n",
        "\n",
        "Intuitively, these formulas remind me of velocity and acceleration in free-fall physics:\n",
        "\n",
        "1*) new_velocity = old_velocity + (acceleration * time_squared)\n",
        "\n",
        "2*) new_position = old_position + (new_velocity * time)\n",
        "\n",
        "Instead of positions, we have weights.  Think of the learning rate as the 'velocity' of the weights in formula 2).  The gradient of the loss function in formula 1) serves as a sort of 'acceleration' to our gradient descent (with a constant instead of time_squared, this is where the analogy ends).\n",
        "\n",
        "I also noticed that formula 1) is the same expression (with different terms) used for linear interpolation in computer graphics!  https://en.wikipedia.org/wiki/Linear_interpolation\n",
        "\n",
        "This serves a 'spectrum' for the change or 'acceleration' in the learning rate between zero (learning rate doesn't change) and the gradient of the loss function (the previous step was completely wrong)\n",
        "\n",
        "If this loss is small, then that signals to the model, \"hey, we're on the right track, keep doing what you're doing\".  The momentum will be about the same as last time, so the learning rate will change about as much as it did in the previous step.\n",
        "\n",
        "On the other hand, if the gradient of the loss function is large, then that signals to the model, \"this is the real correct gradient descent, change course now\", so 'acceleration' will be large, and the momentum will change dramatically to reflect the direction of this new gradient.\n",
        "\n",
        "For our simple model, let's put the ADAM optimizer to the test."
      ],
      "metadata": {
        "id": "tzAed9TrgvMT"
      }
    },
    {
      "cell_type": "code",
      "source": [
        "# Create a Keras classifier\n",
        "# Keep it simple for now, 20 epochs and batch size 5.\n",
        "num_epochs = 20\n",
        "num_batches = 5\n",
        "# KRISTIAN_NOTE - If I explicitly feed History into the KerasClassifier, the\n",
        "# pipeline complains.  Could be helpful if I were to fit on the model itself\n",
        "# rather than the pipeline though.\n",
        "# simple_history = keras.callbacks.History()\n",
        "\n",
        "# Don't forget to restate the 'loss' as 'binary_crossentropy' for the KerasClassifier.\n",
        "simple_model = KerasClassifier (\\\n",
        "  model = simple_nn,\\\n",
        "  epochs = num_epochs,\n",
        "  batch_size = num_batches,\n",
        "  loss = 'binary_crossentropy',\n",
        "  # KRISTIAN_NOTE - Here is a raised GitHub issue confirming what I faced:\n",
        "  # https://github.com/keras-team/keras/issues/20212\n",
        "  # And a StackOverflow article too:\n",
        "  # https://stackoverflow.com/questions/68456592/why-model-fit-result-not-representing-the-same-value-while-printing-the-histor\n",
        "  # The loss displayed in the pipeline fit call does not, by default, match\n",
        "  # the loss stored in the history_ callback of the model unless I set verbose\n",
        "  # to 2.  This is because the default displayed loss represents the mean loss\n",
        "  # DURING the epoch whereas the loss stored in history_ represents the loss at\n",
        "  # the END of the epoch.  I have no reason to prefer the former over the latter.\n",
        "  verbose = 2\n",
        "  # callbacks = [simple_history]\n",
        ")"
      ],
      "metadata": {
        "id": "3FGg2n6xkIrd"
      },
      "execution_count": 65,
      "outputs": []
    },
    {
      "cell_type": "code",
      "source": [
        "# Create the scikit-learn pipeline\n",
        "simple_pipeline = Pipeline ([\\\n",
        "  ('all_columns_preparer', all_columns_preparer),\\\n",
        "  ('income_predictor_model', simple_model)])"
      ],
      "metadata": {
        "id": "OD-RxaYwkVh-"
      },
      "execution_count": 66,
      "outputs": []
    },
    {
      "cell_type": "code",
      "source": [
        "# Fit the pipeline on the training data\n",
        "simple_pipeline_callback = simple_pipeline.fit (features_train, target_train)"
      ],
      "metadata": {
        "colab": {
          "base_uri": "https://localhost:8080/"
        },
        "id": "6XeoQJ3Cv-9I",
        "outputId": "53b9884e-2c66-4d90-ac09-a9d5598f767e"
      },
      "execution_count": 67,
      "outputs": [
        {
          "output_type": "stream",
          "name": "stdout",
          "text": [
            "Epoch 1/20\n",
            "4525/4525 - 8s - 2ms/step - false_negatives: 3381.0000 - false_positives: 905.0000 - loss: 0.4065\n",
            "Epoch 2/20\n",
            "4525/4525 - 10s - 2ms/step - false_negatives: 2617.0000 - false_positives: 1196.0000 - loss: 0.3632\n",
            "Epoch 3/20\n",
            "4525/4525 - 8s - 2ms/step - false_negatives: 2502.0000 - false_positives: 1238.0000 - loss: 0.3544\n",
            "Epoch 4/20\n",
            "4525/4525 - 10s - 2ms/step - false_negatives: 2443.0000 - false_positives: 1231.0000 - loss: 0.3490\n",
            "Epoch 5/20\n",
            "4525/4525 - 8s - 2ms/step - false_negatives: 2421.0000 - false_positives: 1229.0000 - loss: 0.3454\n",
            "Epoch 6/20\n",
            "4525/4525 - 10s - 2ms/step - false_negatives: 2366.0000 - false_positives: 1242.0000 - loss: 0.3422\n",
            "Epoch 7/20\n",
            "4525/4525 - 9s - 2ms/step - false_negatives: 2367.0000 - false_positives: 1228.0000 - loss: 0.3397\n",
            "Epoch 8/20\n",
            "4525/4525 - 9s - 2ms/step - false_negatives: 2326.0000 - false_positives: 1208.0000 - loss: 0.3374\n",
            "Epoch 9/20\n",
            "4525/4525 - 7s - 2ms/step - false_negatives: 2332.0000 - false_positives: 1218.0000 - loss: 0.3356\n",
            "Epoch 10/20\n",
            "4525/4525 - 9s - 2ms/step - false_negatives: 2278.0000 - false_positives: 1252.0000 - loss: 0.3341\n",
            "Epoch 11/20\n",
            "4525/4525 - 7s - 2ms/step - false_negatives: 2273.0000 - false_positives: 1210.0000 - loss: 0.3327\n",
            "Epoch 12/20\n",
            "4525/4525 - 8s - 2ms/step - false_negatives: 2263.0000 - false_positives: 1232.0000 - loss: 0.3315\n",
            "Epoch 13/20\n",
            "4525/4525 - 8s - 2ms/step - false_negatives: 2260.0000 - false_positives: 1197.0000 - loss: 0.3305\n",
            "Epoch 14/20\n",
            "4525/4525 - 9s - 2ms/step - false_negatives: 2248.0000 - false_positives: 1191.0000 - loss: 0.3295\n",
            "Epoch 15/20\n",
            "4525/4525 - 10s - 2ms/step - false_negatives: 2229.0000 - false_positives: 1207.0000 - loss: 0.3288\n",
            "Epoch 16/20\n",
            "4525/4525 - 10s - 2ms/step - false_negatives: 2217.0000 - false_positives: 1196.0000 - loss: 0.3281\n",
            "Epoch 17/20\n",
            "4525/4525 - 11s - 2ms/step - false_negatives: 2218.0000 - false_positives: 1191.0000 - loss: 0.3276\n",
            "Epoch 18/20\n",
            "4525/4525 - 8s - 2ms/step - false_negatives: 2216.0000 - false_positives: 1196.0000 - loss: 0.3270\n",
            "Epoch 19/20\n",
            "4525/4525 - 13s - 3ms/step - false_negatives: 2205.0000 - false_positives: 1178.0000 - loss: 0.3265\n",
            "Epoch 20/20\n",
            "4525/4525 - 7s - 2ms/step - false_negatives: 2204.0000 - false_positives: 1201.0000 - loss: 0.3262\n"
          ]
        }
      ]
    },
    {
      "cell_type": "code",
      "source": [
        "# Represent the loss after each epoch in a linegraph.\n",
        "# Pipelines retain an instance of each of the objects in their named_steps:\n",
        "# https://scikit-learn.org/stable/modules/generated/sklearn.pipeline.Pipeline.html\n",
        "loss_per_epoch = simple_pipeline_callback.named_steps['income_predictor_model'].history_['loss']\n",
        "loss_df = {'Epoch #': [i+1 for i in range (num_epochs)], 'Loss Value': loss_per_epoch }\n",
        "seaborn.lineplot (data = pd.DataFrame (loss_df), x = 'Epoch #', y = 'Loss Value')"
      ],
      "metadata": {
        "id": "qKfg8z90Scr0",
        "outputId": "3e60dfd6-e92e-4839-d1d7-9884c039aa88",
        "colab": {
          "base_uri": "https://localhost:8080/",
          "height": 470
        }
      },
      "execution_count": 85,
      "outputs": [
        {
          "output_type": "execute_result",
          "data": {
            "text/plain": [
              "<Axes: xlabel='Epoch #', ylabel='Loss Value'>"
            ]
          },
          "metadata": {},
          "execution_count": 85
        },
        {
          "output_type": "display_data",
          "data": {
            "text/plain": [
              "<Figure size 640x480 with 1 Axes>"
            ],
            "image/png": "[encoded data removed]"
          },
          "metadata": {}
        }
      ]
    },
    {
      "cell_type": "code",
      "source": [
        "# Represent the number of false positives and false negatives per epoch in a linegraph.\n",
        "false_positives_per_epoch = simple_pipeline_callback.named_steps['income_predictor_model'].history_['false_positives']\n",
        "false_negatives_per_epoch = simple_pipeline_callback.named_steps['income_predictor_model'].history_['false_negatives']\n",
        "line_indicator = ['false positive' for i in range (num_epochs)]\\\n",
        "  + ['false_negative' for i in range (num_epochs)]\n",
        "false_values_df = {\\\n",
        "  'Epoch #': [i+1 for i in range (num_epochs)] * 2,\\\n",
        "  'False Values': false_positives_per_epoch + false_negatives_per_epoch,\\\n",
        "  'Positive or Negative?': line_indicator\n",
        "}\n",
        "seaborn.lineplot (data = false_values_df,\\\n",
        "  x = 'Epoch #', y = 'False Values', hue = 'Positive or Negative?')"
      ],
      "metadata": {
        "id": "2u1yWqpsJiF4",
        "outputId": "2632b3e0-6efd-4f43-9643-7f340862f4cb",
        "colab": {
          "base_uri": "https://localhost:8080/",
          "height": 471
        }
      },
      "execution_count": 86,
      "outputs": [
        {
          "output_type": "execute_result",
          "data": {
            "text/plain": [
              "<Axes: xlabel='Epoch #', ylabel='False Values'>"
            ]
          },
          "metadata": {},
          "execution_count": 86
        },
        {
          "output_type": "display_data",
          "data": {
            "text/plain": [
              "<Figure size 640x480 with 1 Axes>"
            ],
            "image/png": "[encoded data removed]"
          },
          "metadata": {}
        }
      ]
    },
    {
      "cell_type": "code",
      "source": [
        "# Calculate the AUC score of your model on the test data.\n",
        "# Does the model predict better than random?\n",
        "predictions = simple_pipeline.predict (features_test)\n",
        "roc_auc_score (target_test, predictions)"
      ],
      "metadata": {
        "colab": {
          "base_uri": "https://localhost:8080/"
        },
        "id": "DXHo2fw3-y2p",
        "outputId": "81a410dd-84b2-46ed-8ac1-65f6b07c2a4f"
      },
      "execution_count": 87,
      "outputs": [
        {
          "output_type": "stream",
          "name": "stdout",
          "text": [
            "1509/1509 - 2s - 1ms/step\n"
          ]
        },
        {
          "output_type": "execute_result",
          "data": {
            "text/plain": [
              "np.float64(0.7538644584154957)"
            ]
          },
          "metadata": {},
          "execution_count": 87
        }
      ]
    },
    {
      "cell_type": "markdown",
      "source": [
        "Even our basic neural network performs FAR better than our baseline!  The area under the ROC scores at around 0.75 (versus 0.5 for random guessing).  The number of false negatives decreased gradually to convergence over the five epochs, but the number of false positives both rose and dropped to the same plateau over 19 out of 20 epochs (around 585).\n",
        "\n",
        "A perfect AUC score equals 1, meaning a model reaches 100% accuracy for its training data regardless of the internal threshold the model sets to classify each adult's income (0 or 1).\n",
        "\n",
        "We still have ways to go.  Let us try a model with a more sophisticated neural network topology."
      ],
      "metadata": {
        "id": "Ye5PHr0u--cv"
      }
    },
    {
      "cell_type": "code",
      "source": [
        "# Generate an ROC curve for your model.\n",
        "false_positive_rate, true_positive_rate, thresholds = roc_curve (target_test, predictions)\n",
        "draw_my_curve = RocCurveDisplay (\\\n",
        "  fpr = false_positive_rate,\\\n",
        "  tpr = true_positive_rate,\\\n",
        "  roc_auc = auc (false_positive_rate, true_positive_rate),\\\n",
        "  estimator_name = \"Adult Income Predictor ROC Curve\")\n",
        "draw_my_curve.plot()"
      ],
      "metadata": {
        "colab": {
          "base_uri": "https://localhost:8080/",
          "height": 468
        },
        "id": "pdj902p5_Omg",
        "outputId": "53cb3e17-1783-4557-c857-bfe3dca7d7e1"
      },
      "execution_count": 88,
      "outputs": [
        {
          "output_type": "execute_result",
          "data": {
            "text/plain": [
              "<sklearn.metrics._plot.roc_curve.RocCurveDisplay at 0x7fd31a8793d0>"
            ]
          },
          "metadata": {},
          "execution_count": 88
        },
        {
          "output_type": "display_data",
          "data": {
            "text/plain": [
              "<Figure size 640x480 with 1 Axes>"
            ],
            "image/png": "[encoded data removed]"
          },
          "metadata": {}
        }
      ]
    },
    {
      "cell_type": "markdown",
      "source": [
        "A ROC curve with an AUC of 1 would look like the top left corner of a perfect square with a straight vertical line going from (0.0, 0.0) to (0.0, 1.0) and a straight horizontal line going from (0.0, 1.0) to (1.0, 1.0).  The curve in question would resemble a perfect square because that's the only curve in this graph that would have an area of 1."
      ],
      "metadata": {
        "id": "b1YOWV8nTANS"
      }
    },
    {
      "cell_type": "code",
      "source": [
        "# Define the Keras model\n",
        "# KRISTIAN_TODO - What activation function should I use?  Think about this mathematically...\n",
        "# KRISTIAN_TODO - Refine the model.\n",
        "base_model = keras.models.Sequential()\n",
        "base_model.add (keras.layers.InputLayer (shape = (features_train.shape[1], ), activation = 'sigmoid'))\n",
        "base_model.add (keras.layers.Dense (features_train.shape[1], activation = 'relu'))\n",
        "base_model.add (keras.layers.Dense (1, activation = 'sigmoid'))\n",
        "\n",
        "# Need to compile this model before passing it into the Keras Classifier.\n",
        "# The Pipeline below requires a compiled model or else it will spit out an error\n",
        "# when you try to fit it to the training data.\n",
        "\n",
        "base_model.compile (\\\n",
        "  optimizer = 'sgd',\\\n",
        "  loss = 'binary_crossentropy',\\\n",
        "  metrics = ['accuracy', 'false_negatives', 'false_positives'])"
      ],
      "metadata": {
        "id": "h2xIpLlXQEcx"
      },
      "execution_count": null,
      "outputs": []
    },
    {
      "cell_type": "code",
      "source": [
        "# Create a Keras classifier\n",
        "# KRISTIAN_TODO - What should my batch_size be?  How many epochs??\n",
        "# KRISTIAN_TODO - How to handle batch size?  Another hyperparameter search?\n",
        "adult_income_predictor_model = KerasClassifier (\\\n",
        "  model = base_model, epochs = num_epochs, batch_size = num_batches)"
      ],
      "metadata": {
        "id": "Rz-m2LhrQGud"
      },
      "execution_count": null,
      "outputs": []
    },
    {
      "cell_type": "code",
      "source": [
        "# Create the scikit-learn pipeline\n",
        "neural_network_pipeline = Pipeline ([\\\n",
        "  ('all_columns_preparer', all_columns_preparer),\\\n",
        "  ('income_predictor_model', adult_income_predictor_model)])"
      ],
      "metadata": {
        "id": "VKxkil7QQJ6n"
      },
      "execution_count": null,
      "outputs": []
    },
    {
      "cell_type": "code",
      "source": [
        "# Fit the pipeline on the training data\n",
        "neural_network_pipeline.fit (features_train, target_train)"
      ],
      "metadata": {
        "id": "25O8ZLleGQnk",
        "outputId": "f13ed83f-983b-453e-eba4-110d48cf90da",
        "colab": {
          "base_uri": "https://localhost:8080/",
          "height": 916
        }
      },
      "execution_count": null,
      "outputs": [
        {
          "output_type": "stream",
          "name": "stdout",
          "text": [
            "Epoch 1/20\n",
            "\u001b[1m4525/4525\u001b[0m \u001b[32m━━━━━━━━━━━━━━━━━━━━\u001b[0m\u001b[37m\u001b[0m \u001b[1m11s\u001b[0m 2ms/step - accuracy: 0.7941 - false_negatives: 1784.6317 - false_positives: 434.2872 - loss: 0.4453\n",
            "Epoch 2/20\n",
            "\u001b[1m4525/4525\u001b[0m \u001b[32m━━━━━━━━━━━━━━━━━━━━\u001b[0m\u001b[37m\u001b[0m \u001b[1m10s\u001b[0m 2ms/step - accuracy: 0.8316 - false_negatives: 1273.1222 - false_positives: 634.4373 - loss: 0.3615\n",
            "Epoch 3/20\n",
            "\u001b[1m4525/4525\u001b[0m \u001b[32m━━━━━━━━━━━━━━━━━━━━\u001b[0m\u001b[37m\u001b[0m \u001b[1m11s\u001b[0m 2ms/step - accuracy: 0.8348 - false_negatives: 1224.0576 - false_positives: 644.3294 - loss: 0.3533\n",
            "Epoch 4/20\n",
            "\u001b[1m4525/4525\u001b[0m \u001b[32m━━━━━━━━━━━━━━━━━━━━\u001b[0m\u001b[37m\u001b[0m \u001b[1m10s\u001b[0m 2ms/step - accuracy: 0.8343 - false_negatives: 1214.9716 - false_positives: 648.5385 - loss: 0.3507\n",
            "Epoch 5/20\n",
            "\u001b[1m4525/4525\u001b[0m \u001b[32m━━━━━━━━━━━━━━━━━━━━\u001b[0m\u001b[37m\u001b[0m \u001b[1m10s\u001b[0m 2ms/step - accuracy: 0.8380 - false_negatives: 1167.0562 - false_positives: 653.7519 - loss: 0.3466\n",
            "Epoch 6/20\n",
            "\u001b[1m4525/4525\u001b[0m \u001b[32m━━━━━━━━━━━━━━━━━━━━\u001b[0m\u001b[37m\u001b[0m \u001b[1m10s\u001b[0m 2ms/step - accuracy: 0.8407 - false_negatives: 1151.7253 - false_positives: 670.8480 - loss: 0.3391\n",
            "Epoch 7/20\n",
            "\u001b[1m4525/4525\u001b[0m \u001b[32m━━━━━━━━━━━━━━━━━━━━\u001b[0m\u001b[37m\u001b[0m \u001b[1m9s\u001b[0m 2ms/step - accuracy: 0.8371 - false_negatives: 1165.4929 - false_positives: 663.2996 - loss: 0.3444\n",
            "Epoch 8/20\n",
            "\u001b[1m4525/4525\u001b[0m \u001b[32m━━━━━━━━━━━━━━━━━━━━\u001b[0m\u001b[37m\u001b[0m \u001b[1m10s\u001b[0m 2ms/step - accuracy: 0.8401 - false_negatives: 1138.5868 - false_positives: 673.7523 - loss: 0.3406\n",
            "Epoch 9/20\n",
            "\u001b[1m4525/4525\u001b[0m \u001b[32m━━━━━━━━━━━━━━━━━━━━\u001b[0m\u001b[37m\u001b[0m \u001b[1m10s\u001b[0m 2ms/step - accuracy: 0.8408 - false_negatives: 1137.5145 - false_positives: 679.6288 - loss: 0.3361\n",
            "Epoch 10/20\n",
            "\u001b[1m4525/4525\u001b[0m \u001b[32m━━━━━━━━━━━━━━━━━━━━\u001b[0m\u001b[37m\u001b[0m \u001b[1m9s\u001b[0m 2ms/step - accuracy: 0.8437 - false_negatives: 1100.8052 - false_positives: 663.6339 - loss: 0.3343\n",
            "Epoch 11/20\n",
            "\u001b[1m4525/4525\u001b[0m \u001b[32m━━━━━━━━━━━━━━━━━━━━\u001b[0m\u001b[37m\u001b[0m \u001b[1m11s\u001b[0m 2ms/step - accuracy: 0.8417 - false_negatives: 1121.9446 - false_positives: 688.9388 - loss: 0.3341\n",
            "Epoch 12/20\n",
            "\u001b[1m4525/4525\u001b[0m \u001b[32m━━━━━━━━━━━━━━━━━━━━\u001b[0m\u001b[37m\u001b[0m \u001b[1m10s\u001b[0m 2ms/step - accuracy: 0.8413 - false_negatives: 1112.3203 - false_positives: 669.2680 - loss: 0.3373\n",
            "Epoch 13/20\n",
            "\u001b[1m4525/4525\u001b[0m \u001b[32m━━━━━━━━━━━━━━━━━━━━\u001b[0m\u001b[37m\u001b[0m \u001b[1m10s\u001b[0m 2ms/step - accuracy: 0.8414 - false_negatives: 1120.5369 - false_positives: 676.2850 - loss: 0.3362\n",
            "Epoch 14/20\n",
            "\u001b[1m4525/4525\u001b[0m \u001b[32m━━━━━━━━━━━━━━━━━━━━\u001b[0m\u001b[37m\u001b[0m \u001b[1m10s\u001b[0m 2ms/step - accuracy: 0.8409 - false_negatives: 1123.5955 - false_positives: 668.9284 - loss: 0.3349\n",
            "Epoch 15/20\n",
            "\u001b[1m4525/4525\u001b[0m \u001b[32m━━━━━━━━━━━━━━━━━━━━\u001b[0m\u001b[37m\u001b[0m \u001b[1m9s\u001b[0m 2ms/step - accuracy: 0.8459 - false_negatives: 1092.8456 - false_positives: 656.1823 - loss: 0.3275\n",
            "Epoch 16/20\n",
            "\u001b[1m4525/4525\u001b[0m \u001b[32m━━━━━━━━━━━━━━━━━━━━\u001b[0m\u001b[37m\u001b[0m \u001b[1m10s\u001b[0m 2ms/step - accuracy: 0.8413 - false_negatives: 1106.5365 - false_positives: 677.8032 - loss: 0.3357\n",
            "Epoch 17/20\n",
            "\u001b[1m4525/4525\u001b[0m \u001b[32m━━━━━━━━━━━━━━━━━━━━\u001b[0m\u001b[37m\u001b[0m \u001b[1m11s\u001b[0m 2ms/step - accuracy: 0.8400 - false_negatives: 1123.1617 - false_positives: 641.3796 - loss: 0.3373\n",
            "Epoch 18/20\n",
            "\u001b[1m4525/4525\u001b[0m \u001b[32m━━━━━━━━━━━━━━━━━━━━\u001b[0m\u001b[37m\u001b[0m \u001b[1m10s\u001b[0m 2ms/step - accuracy: 0.8439 - false_negatives: 1090.0159 - false_positives: 661.2800 - loss: 0.3298\n",
            "Epoch 19/20\n",
            "\u001b[1m4525/4525\u001b[0m \u001b[32m━━━━━━━━━━━━━━━━━━━━\u001b[0m\u001b[37m\u001b[0m \u001b[1m9s\u001b[0m 2ms/step - accuracy: 0.8443 - false_negatives: 1088.1414 - false_positives: 655.2344 - loss: 0.3287\n",
            "Epoch 20/20\n",
            "\u001b[1m4525/4525\u001b[0m \u001b[32m━━━━━━━━━━━━━━━━━━━━\u001b[0m\u001b[37m\u001b[0m \u001b[1m10s\u001b[0m 2ms/step - accuracy: 0.8478 - false_negatives: 1087.5944 - false_positives: 639.4978 - loss: 0.3208\n"
          ]
        },
        {
          "output_type": "execute_result",
          "data": {
            "text/plain": [
              "Pipeline(steps=[('all_columns_preparer',\n",
              "                 ColumnTransformer(transformers=[('one_hot_categorical_columns',\n",
              "                                                  OneHotEncoder(), []),\n",
              "                                                 ('preserve_categorical_columns',\n",
              "                                                  FunctionTransformer(func=<function <lambda> at 0x7c18bdb25bc0>),\n",
              "                                                  ['workclass_ Federal-gov',\n",
              "                                                   'workclass_ Local-gov',\n",
              "                                                   'workclass_ Private',\n",
              "                                                   'workclass_ Self-emp-inc',\n",
              "                                                   'workclass_ '\n",
              "                                                   'Self-emp-not-inc',\n",
              "                                                   'workclass_...\n",
              "                                                   'Married-spouse-absent',\n",
              "                                                   'marital-status_ '\n",
              "                                                   'Never-married',\n",
              "                                                   'marital-status_ Separated',\n",
              "                                                   'marital-status_ Widowed', ...]),\n",
              "                                                 ('scale_quantifiable_columns',\n",
              "                                                  MinMaxScaler(),\n",
              "                                                  ['age', 'fnlwgt',\n",
              "                                                   'education-num',\n",
              "                                                   'capital-gain',\n",
              "                                                   'capital-loss',\n",
              "                                                   'hours-per-week'])])),\n",
              "                ('income_predictor_model',\n",
              "                 KerasClassifier(batch_size=5, epochs=20, model=<Sequential name=sequential_10, built=True>))])"
            ],
            "text/html": [
              "<style>#sk-container-id-10 {\n",
              "  /* Definition of color scheme common for light and dark mode */\n",
              "  --sklearn-color-text: black;\n",
              "  --sklearn-color-line: gray;\n",
              "  /* Definition of color scheme for unfitted estimators */\n",
              "  --sklearn-color-unfitted-level-0: #fff5e6;\n",
              "  --sklearn-color-unfitted-level-1: #f6e4d2;\n",
              "  --sklearn-color-unfitted-level-2: #ffe0b3;\n",
              "  --sklearn-color-unfitted-level-3: chocolate;\n",
              "  /* Definition of color scheme for fitted estimators */\n",
              "  --sklearn-color-fitted-level-0: #f0f8ff;\n",
              "  --sklearn-color-fitted-level-1: #d4ebff;\n",
              "  --sklearn-color-fitted-level-2: #b3dbfd;\n",
              "  --sklearn-color-fitted-level-3: cornflowerblue;\n",
              "\n",
              "  /* Specific color for light theme */\n",
              "  --sklearn-color-text-on-default-background: var(--sg-text-color, var(--theme-code-foreground, var(--jp-content-font-color1, black)));\n",
              "  --sklearn-color-background: var(--sg-background-color, var(--theme-background, var(--jp-layout-color0, white)));\n",
              "  --sklearn-color-border-box: var(--sg-text-color, var(--theme-code-foreground, var(--jp-content-font-color1, black)));\n",
              "  --sklearn-color-icon: #696969;\n",
              "\n",
              "  @media (prefers-color-scheme: dark) {\n",
              "    /* Redefinition of color scheme for dark theme */\n",
              "    --sklearn-color-text-on-default-background: var(--sg-text-color, var(--theme-code-foreground, var(--jp-content-font-color1, white)));\n",
              "    --sklearn-color-background: var(--sg-background-color, var(--theme-background, var(--jp-layout-color0, #111)));\n",
              "    --sklearn-color-border-box: var(--sg-text-color, var(--theme-code-foreground, var(--jp-content-font-color1, white)));\n",
              "    --sklearn-color-icon: #878787;\n",
              "  }\n",
              "}\n",
              "\n",
              "#sk-container-id-10 {\n",
              "  color: var(--sklearn-color-text);\n",
              "}\n",
              "\n",
              "#sk-container-id-10 pre {\n",
              "  padding: 0;\n",
              "}\n",
              "\n",
              "#sk-container-id-10 input.sk-hidden--visually {\n",
              "  border: 0;\n",
              "  clip: rect(1px 1px 1px 1px);\n",
              "  clip: rect(1px, 1px, 1px, 1px);\n",
              "  height: 1px;\n",
              "  margin: -1px;\n",
              "  overflow: hidden;\n",
              "  padding: 0;\n",
              "  position: absolute;\n",
              "  width: 1px;\n",
              "}\n",
              "\n",
              "#sk-container-id-10 div.sk-dashed-wrapped {\n",
              "  border: 1px dashed var(--sklearn-color-line);\n",
              "  margin: 0 0.4em 0.5em 0.4em;\n",
              "  box-sizing: border-box;\n",
              "  padding-bottom: 0.4em;\n",
              "  background-color: var(--sklearn-color-background);\n",
              "}\n",
              "\n",
              "#sk-container-id-10 div.sk-container {\n",
              "  /* jupyter's `normalize.less` sets `[hidden] { display: none; }`\n",
              "     but bootstrap.min.css set `[hidden] { display: none !important; }`\n",
              "     so we also need the `!important` here to be able to override the\n",
              "     default hidden behavior on the sphinx rendered scikit-learn.org.\n",
              "     See: https://github.com/scikit-learn/scikit-learn/issues/21755 */\n",
              "  display: inline-block !important;\n",
              "  position: relative;\n",
              "}\n",
              "\n",
              "#sk-container-id-10 div.sk-text-repr-fallback {\n",
              "  display: none;\n",
              "}\n",
              "\n",
              "div.sk-parallel-item,\n",
              "div.sk-serial,\n",
              "div.sk-item {\n",
              "  /* draw centered vertical line to link estimators */\n",
              "  background-image: linear-gradient(var(--sklearn-color-text-on-default-background), var(--sklearn-color-text-on-default-background));\n",
              "  background-size: 2px 100%;\n",
              "  background-repeat: no-repeat;\n",
              "  background-position: center center;\n",
              "}\n",
              "\n",
              "/* Parallel-specific style estimator block */\n",
              "\n",
              "#sk-container-id-10 div.sk-parallel-item::after {\n",
              "  content: \"\";\n",
              "  width: 100%;\n",
              "  border-bottom: 2px solid var(--sklearn-color-text-on-default-background);\n",
              "  flex-grow: 1;\n",
              "}\n",
              "\n",
              "#sk-container-id-10 div.sk-parallel {\n",
              "  display: flex;\n",
              "  align-items: stretch;\n",
              "  justify-content: center;\n",
              "  background-color: var(--sklearn-color-background);\n",
              "  position: relative;\n",
              "}\n",
              "\n",
              "#sk-container-id-10 div.sk-parallel-item {\n",
              "  display: flex;\n",
              "  flex-direction: column;\n",
              "}\n",
              "\n",
              "#sk-container-id-10 div.sk-parallel-item:first-child::after {\n",
              "  align-self: flex-end;\n",
              "  width: 50%;\n",
              "}\n",
              "\n",
              "#sk-container-id-10 div.sk-parallel-item:last-child::after {\n",
              "  align-self: flex-start;\n",
              "  width: 50%;\n",
              "}\n",
              "\n",
              "#sk-container-id-10 div.sk-parallel-item:only-child::after {\n",
              "  width: 0;\n",
              "}\n",
              "\n",
              "/* Serial-specific style estimator block */\n",
              "\n",
              "#sk-container-id-10 div.sk-serial {\n",
              "  display: flex;\n",
              "  flex-direction: column;\n",
              "  align-items: center;\n",
              "  background-color: var(--sklearn-color-background);\n",
              "  padding-right: 1em;\n",
              "  padding-left: 1em;\n",
              "}\n",
              "\n",
              "\n",
              "/* Toggleable style: style used for estimator/Pipeline/ColumnTransformer box that is\n",
              "clickable and can be expanded/collapsed.\n",
              "- Pipeline and ColumnTransformer use this feature and define the default style\n",
              "- Estimators will overwrite some part of the style using the `sk-estimator` class\n",
              "*/\n",
              "\n",
              "/* Pipeline and ColumnTransformer style (default) */\n",
              "\n",
              "#sk-container-id-10 div.sk-toggleable {\n",
              "  /* Default theme specific background. It is overwritten whether we have a\n",
              "  specific estimator or a Pipeline/ColumnTransformer */\n",
              "  background-color: var(--sklearn-color-background);\n",
              "}\n",
              "\n",
              "/* Toggleable label */\n",
              "#sk-container-id-10 label.sk-toggleable__label {\n",
              "  cursor: pointer;\n",
              "  display: block;\n",
              "  width: 100%;\n",
              "  margin-bottom: 0;\n",
              "  padding: 0.5em;\n",
              "  box-sizing: border-box;\n",
              "  text-align: center;\n",
              "}\n",
              "\n",
              "#sk-container-id-10 label.sk-toggleable__label-arrow:before {\n",
              "  /* Arrow on the left of the label */\n",
              "  content: \"▸\";\n",
              "  float: left;\n",
              "  margin-right: 0.25em;\n",
              "  color: var(--sklearn-color-icon);\n",
              "}\n",
              "\n",
              "#sk-container-id-10 label.sk-toggleable__label-arrow:hover:before {\n",
              "  color: var(--sklearn-color-text);\n",
              "}\n",
              "\n",
              "/* Toggleable content - dropdown */\n",
              "\n",
              "#sk-container-id-10 div.sk-toggleable__content {\n",
              "  max-height: 0;\n",
              "  max-width: 0;\n",
              "  overflow: hidden;\n",
              "  text-align: left;\n",
              "  /* unfitted */\n",
              "  background-color: var(--sklearn-color-unfitted-level-0);\n",
              "}\n",
              "\n",
              "#sk-container-id-10 div.sk-toggleable__content.fitted {\n",
              "  /* fitted */\n",
              "  background-color: var(--sklearn-color-fitted-level-0);\n",
              "}\n",
              "\n",
              "#sk-container-id-10 div.sk-toggleable__content pre {\n",
              "  margin: 0.2em;\n",
              "  border-radius: 0.25em;\n",
              "  color: var(--sklearn-color-text);\n",
              "  /* unfitted */\n",
              "  background-color: var(--sklearn-color-unfitted-level-0);\n",
              "}\n",
              "\n",
              "#sk-container-id-10 div.sk-toggleable__content.fitted pre {\n",
              "  /* unfitted */\n",
              "  background-color: var(--sklearn-color-fitted-level-0);\n",
              "}\n",
              "\n",
              "#sk-container-id-10 input.sk-toggleable__control:checked~div.sk-toggleable__content {\n",
              "  /* Expand drop-down */\n",
              "  max-height: 200px;\n",
              "  max-width: 100%;\n",
              "  overflow: auto;\n",
              "}\n",
              "\n",
              "#sk-container-id-10 input.sk-toggleable__control:checked~label.sk-toggleable__label-arrow:before {\n",
              "  content: \"▾\";\n",
              "}\n",
              "\n",
              "/* Pipeline/ColumnTransformer-specific style */\n",
              "\n",
              "#sk-container-id-10 div.sk-label input.sk-toggleable__control:checked~label.sk-toggleable__label {\n",
              "  color: var(--sklearn-color-text);\n",
              "  background-color: var(--sklearn-color-unfitted-level-2);\n",
              "}\n",
              "\n",
              "#sk-container-id-10 div.sk-label.fitted input.sk-toggleable__control:checked~label.sk-toggleable__label {\n",
              "  background-color: var(--sklearn-color-fitted-level-2);\n",
              "}\n",
              "\n",
              "/* Estimator-specific style */\n",
              "\n",
              "/* Colorize estimator box */\n",
              "#sk-container-id-10 div.sk-estimator input.sk-toggleable__control:checked~label.sk-toggleable__label {\n",
              "  /* unfitted */\n",
              "  background-color: var(--sklearn-color-unfitted-level-2);\n",
              "}\n",
              "\n",
              "#sk-container-id-10 div.sk-estimator.fitted input.sk-toggleable__control:checked~label.sk-toggleable__label {\n",
              "  /* fitted */\n",
              "  background-color: var(--sklearn-color-fitted-level-2);\n",
              "}\n",
              "\n",
              "#sk-container-id-10 div.sk-label label.sk-toggleable__label,\n",
              "#sk-container-id-10 div.sk-label label {\n",
              "  /* The background is the default theme color */\n",
              "  color: var(--sklearn-color-text-on-default-background);\n",
              "}\n",
              "\n",
              "/* On hover, darken the color of the background */\n",
              "#sk-container-id-10 div.sk-label:hover label.sk-toggleable__label {\n",
              "  color: var(--sklearn-color-text);\n",
              "  background-color: var(--sklearn-color-unfitted-level-2);\n",
              "}\n",
              "\n",
              "/* Label box, darken color on hover, fitted */\n",
              "#sk-container-id-10 div.sk-label.fitted:hover label.sk-toggleable__label.fitted {\n",
              "  color: var(--sklearn-color-text);\n",
              "  background-color: var(--sklearn-color-fitted-level-2);\n",
              "}\n",
              "\n",
              "/* Estimator label */\n",
              "\n",
              "#sk-container-id-10 div.sk-label label {\n",
              "  font-family: monospace;\n",
              "  font-weight: bold;\n",
              "  display: inline-block;\n",
              "  line-height: 1.2em;\n",
              "}\n",
              "\n",
              "#sk-container-id-10 div.sk-label-container {\n",
              "  text-align: center;\n",
              "}\n",
              "\n",
              "/* Estimator-specific */\n",
              "#sk-container-id-10 div.sk-estimator {\n",
              "  font-family: monospace;\n",
              "  border: 1px dotted var(--sklearn-color-border-box);\n",
              "  border-radius: 0.25em;\n",
              "  box-sizing: border-box;\n",
              "  margin-bottom: 0.5em;\n",
              "  /* unfitted */\n",
              "  background-color: var(--sklearn-color-unfitted-level-0);\n",
              "}\n",
              "\n",
              "#sk-container-id-10 div.sk-estimator.fitted {\n",
              "  /* fitted */\n",
              "  background-color: var(--sklearn-color-fitted-level-0);\n",
              "}\n",
              "\n",
              "/* on hover */\n",
              "#sk-container-id-10 div.sk-estimator:hover {\n",
              "  /* unfitted */\n",
              "  background-color: var(--sklearn-color-unfitted-level-2);\n",
              "}\n",
              "\n",
              "#sk-container-id-10 div.sk-estimator.fitted:hover {\n",
              "  /* fitted */\n",
              "  background-color: var(--sklearn-color-fitted-level-2);\n",
              "}\n",
              "\n",
              "/* Specification for estimator info (e.g. \"i\" and \"?\") */\n",
              "\n",
              "/* Common style for \"i\" and \"?\" */\n",
              "\n",
              ".sk-estimator-doc-link,\n",
              "a:link.sk-estimator-doc-link,\n",
              "a:visited.sk-estimator-doc-link {\n",
              "  float: right;\n",
              "  font-size: smaller;\n",
              "  line-height: 1em;\n",
              "  font-family: monospace;\n",
              "  background-color: var(--sklearn-color-background);\n",
              "  border-radius: 1em;\n",
              "  height: 1em;\n",
              "  width: 1em;\n",
              "  text-decoration: none !important;\n",
              "  margin-left: 1ex;\n",
              "  /* unfitted */\n",
              "  border: var(--sklearn-color-unfitted-level-1) 1pt solid;\n",
              "  color: var(--sklearn-color-unfitted-level-1);\n",
              "}\n",
              "\n",
              ".sk-estimator-doc-link.fitted,\n",
              "a:link.sk-estimator-doc-link.fitted,\n",
              "a:visited.sk-estimator-doc-link.fitted {\n",
              "  /* fitted */\n",
              "  border: var(--sklearn-color-fitted-level-1) 1pt solid;\n",
              "  color: var(--sklearn-color-fitted-level-1);\n",
              "}\n",
              "\n",
              "/* On hover */\n",
              "div.sk-estimator:hover .sk-estimator-doc-link:hover,\n",
              ".sk-estimator-doc-link:hover,\n",
              "div.sk-label-container:hover .sk-estimator-doc-link:hover,\n",
              ".sk-estimator-doc-link:hover {\n",
              "  /* unfitted */\n",
              "  background-color: var(--sklearn-color-unfitted-level-3);\n",
              "  color: var(--sklearn-color-background);\n",
              "  text-decoration: none;\n",
              "}\n",
              "\n",
              "div.sk-estimator.fitted:hover .sk-estimator-doc-link.fitted:hover,\n",
              ".sk-estimator-doc-link.fitted:hover,\n",
              "div.sk-label-container:hover .sk-estimator-doc-link.fitted:hover,\n",
              ".sk-estimator-doc-link.fitted:hover {\n",
              "  /* fitted */\n",
              "  background-color: var(--sklearn-color-fitted-level-3);\n",
              "  color: var(--sklearn-color-background);\n",
              "  text-decoration: none;\n",
              "}\n",
              "\n",
              "/* Span, style for the box shown on hovering the info icon */\n",
              ".sk-estimator-doc-link span {\n",
              "  display: none;\n",
              "  z-index: 9999;\n",
              "  position: relative;\n",
              "  font-weight: normal;\n",
              "  right: .2ex;\n",
              "  padding: .5ex;\n",
              "  margin: .5ex;\n",
              "  width: min-content;\n",
              "  min-width: 20ex;\n",
              "  max-width: 50ex;\n",
              "  color: var(--sklearn-color-text);\n",
              "  box-shadow: 2pt 2pt 4pt #999;\n",
              "  /* unfitted */\n",
              "  background: var(--sklearn-color-unfitted-level-0);\n",
              "  border: .5pt solid var(--sklearn-color-unfitted-level-3);\n",
              "}\n",
              "\n",
              ".sk-estimator-doc-link.fitted span {\n",
              "  /* fitted */\n",
              "  background: var(--sklearn-color-fitted-level-0);\n",
              "  border: var(--sklearn-color-fitted-level-3);\n",
              "}\n",
              "\n",
              ".sk-estimator-doc-link:hover span {\n",
              "  display: block;\n",
              "}\n",
              "\n",
              "/* \"?\"-specific style due to the `<a>` HTML tag */\n",
              "\n",
              "#sk-container-id-10 a.estimator_doc_link {\n",
              "  float: right;\n",
              "  font-size: 1rem;\n",
              "  line-height: 1em;\n",
              "  font-family: monospace;\n",
              "  background-color: var(--sklearn-color-background);\n",
              "  border-radius: 1rem;\n",
              "  height: 1rem;\n",
              "  width: 1rem;\n",
              "  text-decoration: none;\n",
              "  /* unfitted */\n",
              "  color: var(--sklearn-color-unfitted-level-1);\n",
              "  border: var(--sklearn-color-unfitted-level-1) 1pt solid;\n",
              "}\n",
              "\n",
              "#sk-container-id-10 a.estimator_doc_link.fitted {\n",
              "  /* fitted */\n",
              "  border: var(--sklearn-color-fitted-level-1) 1pt solid;\n",
              "  color: var(--sklearn-color-fitted-level-1);\n",
              "}\n",
              "\n",
              "/* On hover */\n",
              "#sk-container-id-10 a.estimator_doc_link:hover {\n",
              "  /* unfitted */\n",
              "  background-color: var(--sklearn-color-unfitted-level-3);\n",
              "  color: var(--sklearn-color-background);\n",
              "  text-decoration: none;\n",
              "}\n",
              "\n",
              "#sk-container-id-10 a.estimator_doc_link.fitted:hover {\n",
              "  /* fitted */\n",
              "  background-color: var(--sklearn-color-fitted-level-3);\n",
              "}\n",
              "</style><div id=\"sk-container-id-10\" class=\"sk-top-container\"><div class=\"sk-text-repr-fallback\"><pre>Pipeline(steps=[(&#x27;all_columns_preparer&#x27;,\n",
              "                 ColumnTransformer(transformers=[(&#x27;one_hot_categorical_columns&#x27;,\n",
              "                                                  OneHotEncoder(), []),\n",
              "                                                 (&#x27;preserve_categorical_columns&#x27;,\n",
              "                                                  FunctionTransformer(func=&lt;function &lt;lambda&gt; at 0x7c18bdb25bc0&gt;),\n",
              "                                                  [&#x27;workclass_ Federal-gov&#x27;,\n",
              "                                                   &#x27;workclass_ Local-gov&#x27;,\n",
              "                                                   &#x27;workclass_ Private&#x27;,\n",
              "                                                   &#x27;workclass_ Self-emp-inc&#x27;,\n",
              "                                                   &#x27;workclass_ &#x27;\n",
              "                                                   &#x27;Self-emp-not-inc&#x27;,\n",
              "                                                   &#x27;workclass_...\n",
              "                                                   &#x27;Married-spouse-absent&#x27;,\n",
              "                                                   &#x27;marital-status_ &#x27;\n",
              "                                                   &#x27;Never-married&#x27;,\n",
              "                                                   &#x27;marital-status_ Separated&#x27;,\n",
              "                                                   &#x27;marital-status_ Widowed&#x27;, ...]),\n",
              "                                                 (&#x27;scale_quantifiable_columns&#x27;,\n",
              "                                                  MinMaxScaler(),\n",
              "                                                  [&#x27;age&#x27;, &#x27;fnlwgt&#x27;,\n",
              "                                                   &#x27;education-num&#x27;,\n",
              "                                                   &#x27;capital-gain&#x27;,\n",
              "                                                   &#x27;capital-loss&#x27;,\n",
              "                                                   &#x27;hours-per-week&#x27;])])),\n",
              "                (&#x27;income_predictor_model&#x27;,\n",
              "                 KerasClassifier(batch_size=5, epochs=20, model=&lt;Sequential name=sequential_10, built=True&gt;))])</pre><b>In a Jupyter environment, please rerun this cell to show the HTML representation or trust the notebook. <br />On GitHub, the HTML representation is unable to render, please try loading this page with nbviewer.org.</b></div><div class=\"sk-container\" hidden><div class=\"sk-item sk-dashed-wrapped\"><div class=\"sk-label-container\"><div class=\"sk-label fitted sk-toggleable\"><input class=\"sk-toggleable__control sk-hidden--visually\" id=\"sk-estimator-id-82\" type=\"checkbox\" ><label for=\"sk-estimator-id-82\" class=\"sk-toggleable__label fitted sk-toggleable__label-arrow fitted\">&nbsp;&nbsp;Pipeline<a class=\"sk-estimator-doc-link fitted\" rel=\"noreferrer\" target=\"_blank\" href=\"https://scikit-learn.org/1.5/modules/generated/sklearn.pipeline.Pipeline.html\">?<span>Documentation for Pipeline</span></a><span class=\"sk-estimator-doc-link fitted\">i<span>Fitted</span></span></label><div class=\"sk-toggleable__content fitted\"><pre>Pipeline(steps=[(&#x27;all_columns_preparer&#x27;,\n",
              "                 ColumnTransformer(transformers=[(&#x27;one_hot_categorical_columns&#x27;,\n",
              "                                                  OneHotEncoder(), []),\n",
              "                                                 (&#x27;preserve_categorical_columns&#x27;,\n",
              "                                                  FunctionTransformer(func=&lt;function &lt;lambda&gt; at 0x7c18bdb25bc0&gt;),\n",
              "                                                  [&#x27;workclass_ Federal-gov&#x27;,\n",
              "                                                   &#x27;workclass_ Local-gov&#x27;,\n",
              "                                                   &#x27;workclass_ Private&#x27;,\n",
              "                                                   &#x27;workclass_ Self-emp-inc&#x27;,\n",
              "                                                   &#x27;workclass_ &#x27;\n",
              "                                                   &#x27;Self-emp-not-inc&#x27;,\n",
              "                                                   &#x27;workclass_...\n",
              "                                                   &#x27;Married-spouse-absent&#x27;,\n",
              "                                                   &#x27;marital-status_ &#x27;\n",
              "                                                   &#x27;Never-married&#x27;,\n",
              "                                                   &#x27;marital-status_ Separated&#x27;,\n",
              "                                                   &#x27;marital-status_ Widowed&#x27;, ...]),\n",
              "                                                 (&#x27;scale_quantifiable_columns&#x27;,\n",
              "                                                  MinMaxScaler(),\n",
              "                                                  [&#x27;age&#x27;, &#x27;fnlwgt&#x27;,\n",
              "                                                   &#x27;education-num&#x27;,\n",
              "                                                   &#x27;capital-gain&#x27;,\n",
              "                                                   &#x27;capital-loss&#x27;,\n",
              "                                                   &#x27;hours-per-week&#x27;])])),\n",
              "                (&#x27;income_predictor_model&#x27;,\n",
              "                 KerasClassifier(batch_size=5, epochs=20, model=&lt;Sequential name=sequential_10, built=True&gt;))])</pre></div> </div></div><div class=\"sk-serial\"><div class=\"sk-item sk-dashed-wrapped\"><div class=\"sk-label-container\"><div class=\"sk-label fitted sk-toggleable\"><input class=\"sk-toggleable__control sk-hidden--visually\" id=\"sk-estimator-id-83\" type=\"checkbox\" ><label for=\"sk-estimator-id-83\" class=\"sk-toggleable__label fitted sk-toggleable__label-arrow fitted\">&nbsp;all_columns_preparer: ColumnTransformer<a class=\"sk-estimator-doc-link fitted\" rel=\"noreferrer\" target=\"_blank\" href=\"https://scikit-learn.org/1.5/modules/generated/sklearn.compose.ColumnTransformer.html\">?<span>Documentation for all_columns_preparer: ColumnTransformer</span></a></label><div class=\"sk-toggleable__content fitted\"><pre>ColumnTransformer(transformers=[(&#x27;one_hot_categorical_columns&#x27;, OneHotEncoder(),\n",
              "                                 []),\n",
              "                                (&#x27;preserve_categorical_columns&#x27;,\n",
              "                                 FunctionTransformer(func=&lt;function &lt;lambda&gt; at 0x7c18bdb25bc0&gt;),\n",
              "                                 [&#x27;workclass_ Federal-gov&#x27;,\n",
              "                                  &#x27;workclass_ Local-gov&#x27;, &#x27;workclass_ Private&#x27;,\n",
              "                                  &#x27;workclass_ Self-emp-inc&#x27;,\n",
              "                                  &#x27;workclass_ Self-emp-not-inc&#x27;,\n",
              "                                  &#x27;workclass_ State-gov&#x27;,\n",
              "                                  &#x27;workclass_ Without-pay&#x27;, &#x27;educat...\n",
              "                                  &#x27;marital-status_ Divorced&#x27;,\n",
              "                                  &#x27;marital-status_ Married-AF-spouse&#x27;,\n",
              "                                  &#x27;marital-status_ Married-civ-spouse&#x27;,\n",
              "                                  &#x27;marital-status_ Married-spouse-absent&#x27;,\n",
              "                                  &#x27;marital-status_ Never-married&#x27;,\n",
              "                                  &#x27;marital-status_ Separated&#x27;,\n",
              "                                  &#x27;marital-status_ Widowed&#x27;, ...]),\n",
              "                                (&#x27;scale_quantifiable_columns&#x27;, MinMaxScaler(),\n",
              "                                 [&#x27;age&#x27;, &#x27;fnlwgt&#x27;, &#x27;education-num&#x27;,\n",
              "                                  &#x27;capital-gain&#x27;, &#x27;capital-loss&#x27;,\n",
              "                                  &#x27;hours-per-week&#x27;])])</pre></div> </div></div><div class=\"sk-parallel\"><div class=\"sk-parallel-item\"><div class=\"sk-item\"><div class=\"sk-label-container\"><div class=\"sk-label fitted sk-toggleable\"><input class=\"sk-toggleable__control sk-hidden--visually\" id=\"sk-estimator-id-84\" type=\"checkbox\" ><label for=\"sk-estimator-id-84\" class=\"sk-toggleable__label fitted sk-toggleable__label-arrow fitted\">one_hot_categorical_columns</label><div class=\"sk-toggleable__content fitted\"><pre>[]</pre></div> </div></div><div class=\"sk-serial\"><div class=\"sk-item\"><div class=\"sk-estimator fitted sk-toggleable\"><input class=\"sk-toggleable__control sk-hidden--visually\" id=\"sk-estimator-id-85\" type=\"checkbox\" ><label for=\"sk-estimator-id-85\" class=\"sk-toggleable__label fitted sk-toggleable__label-arrow fitted\">&nbsp;OneHotEncoder<a class=\"sk-estimator-doc-link fitted\" rel=\"noreferrer\" target=\"_blank\" href=\"https://scikit-learn.org/1.5/modules/generated/sklearn.preprocessing.OneHotEncoder.html\">?<span>Documentation for OneHotEncoder</span></a></label><div class=\"sk-toggleable__content fitted\"><pre>OneHotEncoder()</pre></div> </div></div></div></div></div><div class=\"sk-parallel-item\"><div class=\"sk-item\"><div class=\"sk-label-container\"><div class=\"sk-label fitted sk-toggleable\"><input class=\"sk-toggleable__control sk-hidden--visually\" id=\"sk-estimator-id-86\" type=\"checkbox\" ><label for=\"sk-estimator-id-86\" class=\"sk-toggleable__label fitted sk-toggleable__label-arrow fitted\">preserve_categorical_columns</label><div class=\"sk-toggleable__content fitted\"><pre>[&#x27;workclass_ Federal-gov&#x27;, &#x27;workclass_ Local-gov&#x27;, &#x27;workclass_ Private&#x27;, &#x27;workclass_ Self-emp-inc&#x27;, &#x27;workclass_ Self-emp-not-inc&#x27;, &#x27;workclass_ State-gov&#x27;, &#x27;workclass_ Without-pay&#x27;, &#x27;education_ 10th&#x27;, &#x27;education_ 11th&#x27;, &#x27;education_ 12th&#x27;, &#x27;education_ 1st-4th&#x27;, &#x27;education_ 5th-6th&#x27;, &#x27;education_ 7th-8th&#x27;, &#x27;education_ 9th&#x27;, &#x27;education_ Assoc-acdm&#x27;, &#x27;education_ Assoc-voc&#x27;, &#x27;education_ Bachelors&#x27;, &#x27;education_ Doctorate&#x27;, &#x27;education_ HS-grad&#x27;, &#x27;education_ Masters&#x27;, &#x27;education_ Preschool&#x27;, &#x27;education_ Prof-school&#x27;, &#x27;education_ Some-college&#x27;, &#x27;marital-status_ Divorced&#x27;, &#x27;marital-status_ Married-AF-spouse&#x27;, &#x27;marital-status_ Married-civ-spouse&#x27;, &#x27;marital-status_ Married-spouse-absent&#x27;, &#x27;marital-status_ Never-married&#x27;, &#x27;marital-status_ Separated&#x27;, &#x27;marital-status_ Widowed&#x27;, &#x27;occupation_ Adm-clerical&#x27;, &#x27;occupation_ Armed-Forces&#x27;, &#x27;occupation_ Craft-repair&#x27;, &#x27;occupation_ Exec-managerial&#x27;, &#x27;occupation_ Farming-fishing&#x27;, &#x27;occupation_ Handlers-cleaners&#x27;, &#x27;occupation_ Machine-op-inspct&#x27;, &#x27;occupation_ Other-service&#x27;, &#x27;occupation_ Priv-house-serv&#x27;, &#x27;occupation_ Prof-specialty&#x27;, &#x27;occupation_ Protective-serv&#x27;, &#x27;occupation_ Sales&#x27;, &#x27;occupation_ Tech-support&#x27;, &#x27;occupation_ Transport-moving&#x27;, &#x27;relationship_ Husband&#x27;, &#x27;relationship_ Not-in-family&#x27;, &#x27;relationship_ Other-relative&#x27;, &#x27;relationship_ Own-child&#x27;, &#x27;relationship_ Unmarried&#x27;, &#x27;relationship_ Wife&#x27;, &#x27;race_ Amer-Indian-Eskimo&#x27;, &#x27;race_ Asian-Pac-Islander&#x27;, &#x27;race_ Black&#x27;, &#x27;race_ Other&#x27;, &#x27;race_ White&#x27;, &#x27;sex_ Female&#x27;, &#x27;sex_ Male&#x27;, &#x27;native-country_ Cambodia&#x27;, &#x27;native-country_ Canada&#x27;, &#x27;native-country_ China&#x27;, &#x27;native-country_ Columbia&#x27;, &#x27;native-country_ Cuba&#x27;, &#x27;native-country_ Dominican-Republic&#x27;, &#x27;native-country_ Ecuador&#x27;, &#x27;native-country_ El-Salvador&#x27;, &#x27;native-country_ England&#x27;, &#x27;native-country_ France&#x27;, &#x27;native-country_ Germany&#x27;, &#x27;native-country_ Greece&#x27;, &#x27;native-country_ Guatemala&#x27;, &#x27;native-country_ Haiti&#x27;, &#x27;native-country_ Holand-Netherlands&#x27;, &#x27;native-country_ Honduras&#x27;, &#x27;native-country_ Hong&#x27;, &#x27;native-country_ Hungary&#x27;, &#x27;native-country_ India&#x27;, &#x27;native-country_ Iran&#x27;, &#x27;native-country_ Ireland&#x27;, &#x27;native-country_ Italy&#x27;, &#x27;native-country_ Jamaica&#x27;, &#x27;native-country_ Japan&#x27;, &#x27;native-country_ Laos&#x27;, &#x27;native-country_ Mexico&#x27;, &#x27;native-country_ Nicaragua&#x27;, &#x27;native-country_ Outlying-US(Guam-USVI-etc)&#x27;, &#x27;native-country_ Peru&#x27;, &#x27;native-country_ Philippines&#x27;, &#x27;native-country_ Poland&#x27;, &#x27;native-country_ Portugal&#x27;, &#x27;native-country_ Puerto-Rico&#x27;, &#x27;native-country_ Scotland&#x27;, &#x27;native-country_ South&#x27;, &#x27;native-country_ Taiwan&#x27;, &#x27;native-country_ Thailand&#x27;, &#x27;native-country_ Trinadad&amp;Tobago&#x27;, &#x27;native-country_ United-States&#x27;, &#x27;native-country_ Vietnam&#x27;, &#x27;native-country_ Yugoslavia&#x27;]</pre></div> </div></div><div class=\"sk-serial\"><div class=\"sk-item\"><div class=\"sk-estimator fitted sk-toggleable\"><input class=\"sk-toggleable__control sk-hidden--visually\" id=\"sk-estimator-id-87\" type=\"checkbox\" ><label for=\"sk-estimator-id-87\" class=\"sk-toggleable__label fitted sk-toggleable__label-arrow fitted\">&nbsp;FunctionTransformer<a class=\"sk-estimator-doc-link fitted\" rel=\"noreferrer\" target=\"_blank\" href=\"https://scikit-learn.org/1.5/modules/generated/sklearn.preprocessing.FunctionTransformer.html\">?<span>Documentation for FunctionTransformer</span></a></label><div class=\"sk-toggleable__content fitted\"><pre>FunctionTransformer(func=&lt;function &lt;lambda&gt; at 0x7c18bdb25bc0&gt;)</pre></div> </div></div></div></div></div><div class=\"sk-parallel-item\"><div class=\"sk-item\"><div class=\"sk-label-container\"><div class=\"sk-label fitted sk-toggleable\"><input class=\"sk-toggleable__control sk-hidden--visually\" id=\"sk-estimator-id-88\" type=\"checkbox\" ><label for=\"sk-estimator-id-88\" class=\"sk-toggleable__label fitted sk-toggleable__label-arrow fitted\">scale_quantifiable_columns</label><div class=\"sk-toggleable__content fitted\"><pre>[&#x27;age&#x27;, &#x27;fnlwgt&#x27;, &#x27;education-num&#x27;, &#x27;capital-gain&#x27;, &#x27;capital-loss&#x27;, &#x27;hours-per-week&#x27;]</pre></div> </div></div><div class=\"sk-serial\"><div class=\"sk-item\"><div class=\"sk-estimator fitted sk-toggleable\"><input class=\"sk-toggleable__control sk-hidden--visually\" id=\"sk-estimator-id-89\" type=\"checkbox\" ><label for=\"sk-estimator-id-89\" class=\"sk-toggleable__label fitted sk-toggleable__label-arrow fitted\">&nbsp;MinMaxScaler<a class=\"sk-estimator-doc-link fitted\" rel=\"noreferrer\" target=\"_blank\" href=\"https://scikit-learn.org/1.5/modules/generated/sklearn.preprocessing.MinMaxScaler.html\">?<span>Documentation for MinMaxScaler</span></a></label><div class=\"sk-toggleable__content fitted\"><pre>MinMaxScaler()</pre></div> </div></div></div></div></div></div></div><div class=\"sk-item\"><div class=\"sk-estimator fitted sk-toggleable\"><input class=\"sk-toggleable__control sk-hidden--visually\" id=\"sk-estimator-id-90\" type=\"checkbox\" ><label for=\"sk-estimator-id-90\" class=\"sk-toggleable__label fitted sk-toggleable__label-arrow fitted\">KerasClassifier</label><div class=\"sk-toggleable__content fitted\"><pre>KerasClassifier(\n",
              "\tmodel=&lt;Sequential name=sequential_10, built=True&gt;\n",
              "\tbuild_fn=None\n",
              "\twarm_start=False\n",
              "\trandom_state=None\n",
              "\toptimizer=rmsprop\n",
              "\tloss=None\n",
              "\tmetrics=None\n",
              "\tbatch_size=5\n",
              "\tvalidation_batch_size=None\n",
              "\tverbose=1\n",
              "\tcallbacks=None\n",
              "\tvalidation_split=0.0\n",
              "\tshuffle=True\n",
              "\trun_eagerly=False\n",
              "\tepochs=20\n",
              "\tclass_weight=None\n",
              ")</pre></div> </div></div></div></div></div></div>"
            ]
          },
          "metadata": {},
          "execution_count": 90
        }
      ]
    },
    {
      "cell_type": "code",
      "source": [
        "# Calculate the AUC score of your model on the test data.\n",
        "# Does the model predict better than random?\n",
        "predictions = neural_network_pipeline.predict (features_test)\n",
        "roc_auc_score (target_test, predictions)"
      ],
      "metadata": {
        "id": "SLcNQGVqNYbB",
        "outputId": "6852ebf8-505e-4a0b-f913-3b13933f76f3",
        "colab": {
          "base_uri": "https://localhost:8080/"
        }
      },
      "execution_count": null,
      "outputs": [
        {
          "output_type": "stream",
          "name": "stdout",
          "text": [
            "\u001b[1m1509/1509\u001b[0m \u001b[32m━━━━━━━━━━━━━━━━━━━━\u001b[0m\u001b[37m\u001b[0m \u001b[1m2s\u001b[0m 2ms/step\n"
          ]
        },
        {
          "output_type": "execute_result",
          "data": {
            "text/plain": [
              "np.float64(0.8028762562060371)"
            ]
          },
          "metadata": {},
          "execution_count": 91
        }
      ]
    },
    {
      "cell_type": "markdown",
      "source": [
        "KRISTIAN_TODO - Improved, but not consistently.\n",
        "Trial 1: 0.79\n",
        "Trial 2: 0.73\n",
        "Trial 3: 0.8"
      ],
      "metadata": {
        "id": "vRfBLqTfKhDU"
      }
    },
    {
      "cell_type": "code",
      "source": [
        "# Generate an ROC curve for your model.\n",
        "other_false_positive_rate, other_true_positive_rate, other_thresholds = roc_curve (target_test, predictions)\n",
        "draw_my_better_curve = RocCurveDisplay (\\\n",
        "  fpr = other_false_positive_rate,\\\n",
        "  tpr = other_true_positive_rate,\\\n",
        "  roc_auc = auc (other_false_positive_rate, other_true_positive_rate),\\\n",
        "  estimator_name = \"Adult Income Predictor ROC Curve\")\n",
        "draw_my_better_curve.plot()"
      ],
      "metadata": {
        "id": "prJG9pr7PYIc",
        "outputId": "eb1e8964-29c3-45f3-a4b1-58065ebd88c9",
        "colab": {
          "base_uri": "https://localhost:8080/",
          "height": 468
        }
      },
      "execution_count": null,
      "outputs": [
        {
          "output_type": "execute_result",
          "data": {
            "text/plain": [
              "<sklearn.metrics._plot.roc_curve.RocCurveDisplay at 0x7c18b9aad010>"
            ]
          },
          "metadata": {},
          "execution_count": 81
        },
        {
          "output_type": "display_data",
          "data": {
            "text/plain": [
              "<Figure size 640x480 with 1 Axes>"
            ],
            "image/png": "[encoded data removed]"
          },
          "metadata": {}
        }
      ]
    },
    {
      "cell_type": "markdown",
      "source": [
        "KRISTIAN_TODO - Summary goes here..."
      ],
      "metadata": {
        "id": "th9DOj0hnwv7"
      }
    }
  ]
}