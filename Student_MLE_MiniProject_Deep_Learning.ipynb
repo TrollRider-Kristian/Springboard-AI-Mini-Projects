{
  "nbformat": 4,
  "nbformat_minor": 0,
  "metadata": {
    "colab": {
      "provenance": [],
      "include_colab_link": true
    },
    "kernelspec": {
      "name": "python3",
      "display_name": "Python 3"
    },
    "language_info": {
      "name": "python"
    }
  },
  "cells": [
    {
      "cell_type": "markdown",
      "metadata": {
        "id": "view-in-github",
        "colab_type": "text"
      },
      "source": [
        "<a href=\"https://colab.research.google.com/github/TrollRider-Kristian/Springboard-AI-Mini-Projects/blob/main/Student_MLE_MiniProject_Deep_Learning.ipynb\" target=\"_parent\"><img src=\"https://colab.research.google.com/assets/colab-badge.svg\" alt=\"Open In Colab\"/></a>"
      ]
    },
    {
      "cell_type": "markdown",
      "source": [
        "# Mini Project: Deep Learning with Keras\n",
        "\n",
        "In this mini-project we'll be building a deep learning classifier using Keras to predict income from the popular [Adult Income dataset](http://www.cs.toronto.edu/~delve/data/adult/adultDetail.html).\n",
        "\n",
        "Predicting income from demographic and socio-economic information is an important task with real-world applications, such as financial planning, market research, and social policy analysis. The Adult dataset, sometimes referred to as the \"Census Income\" dataset, contains a vast amount of anonymized data on individuals, including features such as age, education, marital status, occupation, and more. Our objective is to leverage this data to train a deep learning model that can effectively predict whether an individual's income exceeds $50,000 annually or not.\n",
        "\n",
        "Throughout this Colab, we will walk you through the entire process of building a deep learning classifier using Keras, a high-level neural network API that runs on top of TensorFlow. Keras is known for its user-friendly and intuitive interface, making it an excellent choice for both beginners and experienced deep learning practitioners.\n",
        "\n",
        "Here's a brief outline of what we will cover in this mini-project:\n",
        "\n",
        "1. **Data Preprocessing:** We will start by loading and exploring the Adult dataset.\n",
        "\n",
        "2. **Building the Deep Learning Model:** We will construct a neural network using Keras, where we'll dive into understanding the key components of a neural network, including layers, activation functions, and optimization algorithms.\n",
        "\n",
        "3. **Model Training:** With our model architecture in place, we will split the data into training and validation sets and train the neural network on the training data. We will monitor the training process to prevent overfitting and enhance generalization.\n",
        "\n",
        "4. **Model Evaluation:** After training, we'll assess the performance of our model on the test dataset.\n",
        "\n",
        "By the end of this tutorial, you will not only have a functional deep learning classifier for income prediction but also gain valuable insights into how to leverage the power of neural networks for solving real-world classification tasks.\n"
      ],
      "metadata": {
        "id": "fyXucUekO19i"
      }
    },
    {
      "cell_type": "code",
      "source": [
        "!pip install --upgrade scikeras"
      ],
      "metadata": {
        "id": "rAGzXpBhHLPJ",
        "outputId": "64030b15-2c3c-4231-8252-961035c5fae0",
        "colab": {
          "base_uri": "https://localhost:8080/"
        }
      },
      "execution_count": 1,
      "outputs": [
        {
          "output_type": "stream",
          "name": "stdout",
          "text": [
            "Collecting scikeras\n",
            "  Downloading scikeras-0.13.0-py3-none-any.whl.metadata (3.1 kB)\n",
            "Requirement already satisfied: keras>=3.2.0 in /usr/local/lib/python3.11/dist-packages (from scikeras) (3.8.0)\n",
            "Requirement already satisfied: scikit-learn>=1.4.2 in /usr/local/lib/python3.11/dist-packages (from scikeras) (1.6.1)\n",
            "Requirement already satisfied: absl-py in /usr/local/lib/python3.11/dist-packages (from keras>=3.2.0->scikeras) (1.4.0)\n",
            "Requirement already satisfied: numpy in /usr/local/lib/python3.11/dist-packages (from keras>=3.2.0->scikeras) (2.0.2)\n",
            "Requirement already satisfied: rich in /usr/local/lib/python3.11/dist-packages (from keras>=3.2.0->scikeras) (13.9.4)\n",
            "Requirement already satisfied: namex in /usr/local/lib/python3.11/dist-packages (from keras>=3.2.0->scikeras) (0.0.9)\n",
            "Requirement already satisfied: h5py in /usr/local/lib/python3.11/dist-packages (from keras>=3.2.0->scikeras) (3.13.0)\n",
            "Requirement already satisfied: optree in /usr/local/lib/python3.11/dist-packages (from keras>=3.2.0->scikeras) (0.15.0)\n",
            "Requirement already satisfied: ml-dtypes in /usr/local/lib/python3.11/dist-packages (from keras>=3.2.0->scikeras) (0.4.1)\n",
            "Requirement already satisfied: packaging in /usr/local/lib/python3.11/dist-packages (from keras>=3.2.0->scikeras) (24.2)\n",
            "Requirement already satisfied: scipy>=1.6.0 in /usr/local/lib/python3.11/dist-packages (from scikit-learn>=1.4.2->scikeras) (1.15.3)\n",
            "Requirement already satisfied: joblib>=1.2.0 in /usr/local/lib/python3.11/dist-packages (from scikit-learn>=1.4.2->scikeras) (1.5.0)\n",
            "Requirement already satisfied: threadpoolctl>=3.1.0 in /usr/local/lib/python3.11/dist-packages (from scikit-learn>=1.4.2->scikeras) (3.6.0)\n",
            "Requirement already satisfied: typing-extensions>=4.5.0 in /usr/local/lib/python3.11/dist-packages (from optree->keras>=3.2.0->scikeras) (4.13.2)\n",
            "Requirement already satisfied: markdown-it-py>=2.2.0 in /usr/local/lib/python3.11/dist-packages (from rich->keras>=3.2.0->scikeras) (3.0.0)\n",
            "Requirement already satisfied: pygments<3.0.0,>=2.13.0 in /usr/local/lib/python3.11/dist-packages (from rich->keras>=3.2.0->scikeras) (2.19.1)\n",
            "Requirement already satisfied: mdurl~=0.1 in /usr/local/lib/python3.11/dist-packages (from markdown-it-py>=2.2.0->rich->keras>=3.2.0->scikeras) (0.1.2)\n",
            "Downloading scikeras-0.13.0-py3-none-any.whl (26 kB)\n",
            "Installing collected packages: scikeras\n",
            "Successfully installed scikeras-0.13.0\n"
          ]
        }
      ]
    },
    {
      "cell_type": "code",
      "source": [
        "# KRISTIAN_NOTE - As of version 1.6.1, Scikit-learn changed their API to look\n",
        "# for tags from their provided ML algorithms.  Tags provide metadata about the\n",
        "# algorithm, such as its type (eg. regressor):\n",
        "# https://scikit-learn.org/stable/developers/develop.html#estimator-tags.\n",
        "# Here's a StackOverflow article about someone wrapping an XGBoostRegressor in\n",
        "# a hyperparameter tuning algorithm.  The XGBoostRegressor spits out an error\n",
        "# due to the lack of a scikit-learn tag:\n",
        "# https://stackoverflow.com/questions/79290968/super-object-has-no-attribute-sklearn-tags\n",
        "# Here's another article about someone wrapping a KerasClassifier into a\n",
        "# Grid Search Hyperparameter Tuning algorithm and getting the same error:\n",
        "# https://stackoverflow.com/questions/79410073/attributeerror-super-object-has-no-attribute-sklearn-tags-when-using-gridse\n",
        "# Lower versions of scikit-learn do not require the same tag, so the best solution\n",
        "# is to downgrade the scikit-learn version to 1.5.2:\n",
        "!pip uninstall -y scikit-learn\n",
        "!pip install scikit-learn==1.5.2"
      ],
      "metadata": {
        "id": "Clzr7F9bftvF",
        "outputId": "45659494-63e6-4aa6-cf8b-59493cbf59e8",
        "colab": {
          "base_uri": "https://localhost:8080/"
        }
      },
      "execution_count": 2,
      "outputs": [
        {
          "output_type": "stream",
          "name": "stdout",
          "text": [
            "Found existing installation: scikit-learn 1.6.1\n",
            "Uninstalling scikit-learn-1.6.1:\n",
            "  Successfully uninstalled scikit-learn-1.6.1\n",
            "Collecting scikit-learn==1.5.2\n",
            "  Downloading scikit_learn-1.5.2-cp311-cp311-manylinux_2_17_x86_64.manylinux2014_x86_64.whl.metadata (13 kB)\n",
            "Requirement already satisfied: numpy>=1.19.5 in /usr/local/lib/python3.11/dist-packages (from scikit-learn==1.5.2) (2.0.2)\n",
            "Requirement already satisfied: scipy>=1.6.0 in /usr/local/lib/python3.11/dist-packages (from scikit-learn==1.5.2) (1.15.3)\n",
            "Requirement already satisfied: joblib>=1.2.0 in /usr/local/lib/python3.11/dist-packages (from scikit-learn==1.5.2) (1.5.0)\n",
            "Requirement already satisfied: threadpoolctl>=3.1.0 in /usr/local/lib/python3.11/dist-packages (from scikit-learn==1.5.2) (3.6.0)\n",
            "Downloading scikit_learn-1.5.2-cp311-cp311-manylinux_2_17_x86_64.manylinux2014_x86_64.whl (13.3 MB)\n",
            "\u001b[2K   \u001b[90m━━━━━━━━━━━━━━━━━━━━━━━━━━━━━━━━━━━━━━━━\u001b[0m \u001b[32m13.3/13.3 MB\u001b[0m \u001b[31m48.1 MB/s\u001b[0m eta \u001b[36m0:00:00\u001b[0m\n",
            "\u001b[?25hInstalling collected packages: scikit-learn\n",
            "Successfully installed scikit-learn-1.5.2\n"
          ]
        }
      ]
    },
    {
      "cell_type": "code",
      "execution_count": 3,
      "metadata": {
        "id": "kLWR1DfQPakn"
      },
      "outputs": [],
      "source": [
        "import pandas as pd\n",
        "import numpy as np\n",
        "from sklearn.model_selection import train_test_split\n",
        "from sklearn.preprocessing import OneHotEncoder, LabelEncoder\n",
        "from sklearn.preprocessing import MinMaxScaler\n",
        "from sklearn.preprocessing import FunctionTransformer\n",
        "from sklearn.compose import ColumnTransformer\n",
        "from sklearn.model_selection import train_test_split\n",
        "from sklearn.metrics import auc\n",
        "from sklearn.metrics import roc_auc_score\n",
        "from sklearn.metrics import roc_curve\n",
        "from sklearn.metrics import RocCurveDisplay\n",
        "# KRISTIAN_NOTE - An 'unresolved imports' warning pops up if we import\n",
        "# from keras.models / keras.layers.  This is strange because the Google\n",
        "# Runtime comes bundled with Keras, and the code works accordingly.\n",
        "# Leave this code commented out for reference purposes:\n",
        "# from keras.models import Sequential\n",
        "# from keras.layers import Dense, Input\n",
        "from scikeras.wrappers import KerasClassifier\n",
        "from sklearn.pipeline import Pipeline\n",
        "# For visualization of neural network metrics\n",
        "import seaborn"
      ]
    },
    {
      "cell_type": "code",
      "source": [
        "# Strangely, if we just import keras, we get no warning.\n",
        "import keras\n",
        "print (keras.__version__)"
      ],
      "metadata": {
        "id": "OpWctWLIQ5dV",
        "outputId": "8de2b2ff-08fe-4b2f-cd37-c4db85b631de",
        "colab": {
          "base_uri": "https://localhost:8080/"
        }
      },
      "execution_count": 4,
      "outputs": [
        {
          "output_type": "stream",
          "name": "stdout",
          "text": [
            "3.8.0\n"
          ]
        }
      ]
    },
    {
      "cell_type": "markdown",
      "source": [
        "You can download the Adult data from the link [here](https://archive.ics.uci.edu/ml/machine-learning-databases/adult/adult.data).\n",
        "\n",
        "Here are your tasks:\n",
        "\n",
        "  1. Load the Adult data into a Pandas Dataframe.\n",
        "  2. Ensure the dataset has properly named columns. If the columns are not read in, assign them by referencing the dataset documentation.\n",
        "  3. Display the first five rows of the dataset."
      ],
      "metadata": {
        "id": "5ymxgnyq86hE"
      }
    },
    {
      "cell_type": "code",
      "source": [
        "DATA_PATH = 'https://archive.ics.uci.edu/ml/machine-learning-databases/adult/adult.data'\n",
        "\n",
        "# Download the dataset and load it into a pandas DataFrame\n",
        "# KRISTIAN_NOTE - The dataset entries for each row are separated\n",
        "# by commas.  However, the column names are not included in the file,\n",
        "# but Pandas, by default, treats the first row of data as the column\n",
        "# names.  Pass header = None to circumvent this, per documentation:\n",
        "# https://pandas.pydata.org/docs/reference/api/pandas.read_csv.html\n",
        "adult_df = pd.read_csv (DATA_PATH, header = None)"
      ],
      "metadata": {
        "id": "QmwdQy7pShig"
      },
      "execution_count": 5,
      "outputs": []
    },
    {
      "cell_type": "code",
      "source": [
        "# KRISTIAN_NOTE - Unfortunately, there's no way to extract the column names from\n",
        "# the dataset itself.  These names are explicitly listed in the Stanford paper\n",
        "# that has introduced and discussed this dataset at length:\n",
        "# https://cseweb.ucsd.edu/classes/sp15/cse190-c/reports/sp15/048.pdf\n",
        "# 'fnlwgt' stands for 'final weight' or \"the number of people the census in the entry represents\"\n",
        "# I named the target column \"income-level\" because it's categorical (over or under $50K annually)\n",
        "# Our only option is to add hardcoded column names to this dataframe per\n",
        "# the ones listed in the dataset. StackOverflow article showing how to do this:\n",
        "# https://stackoverflow.com/questions/72863835/how-to-create-column-names-in-pandas-dataframe\n",
        "adult_feature_names = [\n",
        "    \"age\",\n",
        "    \"workclass\",\n",
        "    \"fnlwgt\",\n",
        "    \"education\",\n",
        "    \"education-num\",\n",
        "    \"marital-status\",\n",
        "    \"occupation\",\n",
        "    \"relationship\",\n",
        "    \"race\",\n",
        "    \"sex\",\n",
        "    \"capital-gain\",\n",
        "    \"capital-loss\",\n",
        "    \"hours-per-week\",\n",
        "    \"native-country\",\n",
        "    \"income-level\",\n",
        "]\n",
        "adult_df.columns = adult_feature_names"
      ],
      "metadata": {
        "id": "MXluUow0_u0K"
      },
      "execution_count": 6,
      "outputs": []
    },
    {
      "cell_type": "code",
      "source": [
        "# Display the first few rows of the DataFrame\n",
        "print (adult_df.head())"
      ],
      "metadata": {
        "id": "X1wSIzVtPrfL",
        "outputId": "421af920-1e75-410e-ef3a-40c72ab5ccd2",
        "colab": {
          "base_uri": "https://localhost:8080/"
        }
      },
      "execution_count": 7,
      "outputs": [
        {
          "output_type": "stream",
          "name": "stdout",
          "text": [
            "   age          workclass  fnlwgt   education  education-num  \\\n",
            "0   39          State-gov   77516   Bachelors             13   \n",
            "1   50   Self-emp-not-inc   83311   Bachelors             13   \n",
            "2   38            Private  215646     HS-grad              9   \n",
            "3   53            Private  234721        11th              7   \n",
            "4   28            Private  338409   Bachelors             13   \n",
            "\n",
            "        marital-status          occupation    relationship    race      sex  \\\n",
            "0        Never-married        Adm-clerical   Not-in-family   White     Male   \n",
            "1   Married-civ-spouse     Exec-managerial         Husband   White     Male   \n",
            "2             Divorced   Handlers-cleaners   Not-in-family   White     Male   \n",
            "3   Married-civ-spouse   Handlers-cleaners         Husband   Black     Male   \n",
            "4   Married-civ-spouse      Prof-specialty            Wife   Black   Female   \n",
            "\n",
            "   capital-gain  capital-loss  hours-per-week  native-country income-level  \n",
            "0          2174             0              40   United-States        <=50K  \n",
            "1             0             0              13   United-States        <=50K  \n",
            "2             0             0              40   United-States        <=50K  \n",
            "3             0             0              40   United-States        <=50K  \n",
            "4             0             0              40            Cuba        <=50K  \n"
          ]
        }
      ]
    },
    {
      "cell_type": "markdown",
      "source": [
        "If you're not already familiar with the Adult dataset, it's important to do some exploratory data analysis.\n",
        "\n",
        "Here are your tasks:\n",
        "\n",
        "  1. Do exploratory data analysis to give you some better intuition for the dataset. This is a bit open-ended. How many rows/columns are there? How are NULL values represented? What's the percentage of positive cases in the dataset?\n",
        "\n",
        "  2. Drop all rows with NULL values.\n",
        "\n",
        "  3. Use Scikit-Learn's [LabelEncoder](https://scikit-learn.org/stable/modules/generated/sklearn.preprocessing.LabelEncoder.html) to convert the `income` column with a data type string to a binary variable."
      ],
      "metadata": {
        "id": "5fHLuKZl9ivm"
      }
    },
    {
      "cell_type": "code",
      "source": [
        "# Do some exploratory analysis. How many rows/columns are there? How are NULL\n",
        "# values represented? What's the percentrage of positive cases in the dataset?\n",
        "print (f\"There are: {adult_df.shape [0]} rows and {adult_df.shape [1]} columns in the Adult dataset.\")\n",
        "adult_df[\"income-level\"].value_counts()"
      ],
      "metadata": {
        "id": "fc_s4kRKTloe",
        "outputId": "ad28396f-fcf8-43fe-f0f9-82a04313b668",
        "colab": {
          "base_uri": "https://localhost:8080/",
          "height": 196
        }
      },
      "execution_count": 8,
      "outputs": [
        {
          "output_type": "stream",
          "name": "stdout",
          "text": [
            "There are: 32561 rows and 15 columns in the Adult dataset.\n"
          ]
        },
        {
          "output_type": "execute_result",
          "data": {
            "text/plain": [
              "income-level\n",
              "<=50K    24720\n",
              ">50K      7841\n",
              "Name: count, dtype: int64"
            ],
            "text/html": [
              "<div>\n",
              "<style scoped>\n",
              "    .dataframe tbody tr th:only-of-type {\n",
              "        vertical-align: middle;\n",
              "    }\n",
              "\n",
              "    .dataframe tbody tr th {\n",
              "        vertical-align: top;\n",
              "    }\n",
              "\n",
              "    .dataframe thead th {\n",
              "        text-align: right;\n",
              "    }\n",
              "</style>\n",
              "<table border=\"1\" class=\"dataframe\">\n",
              "  <thead>\n",
              "    <tr style=\"text-align: right;\">\n",
              "      <th></th>\n",
              "      <th>count</th>\n",
              "    </tr>\n",
              "    <tr>\n",
              "      <th>income-level</th>\n",
              "      <th></th>\n",
              "    </tr>\n",
              "  </thead>\n",
              "  <tbody>\n",
              "    <tr>\n",
              "      <th>&lt;=50K</th>\n",
              "      <td>24720</td>\n",
              "    </tr>\n",
              "    <tr>\n",
              "      <th>&gt;50K</th>\n",
              "      <td>7841</td>\n",
              "    </tr>\n",
              "  </tbody>\n",
              "</table>\n",
              "</div><br><label><b>dtype:</b> int64</label>"
            ]
          },
          "metadata": {},
          "execution_count": 8
        }
      ]
    },
    {
      "cell_type": "markdown",
      "source": [
        "24,720 adults, or approximately 76% of the adults, make $50K annually or less. while 7841 make more than this annually.\n",
        "\n",
        "Interestingly, this data does not handle null values as None or NULL or NaN, but rather as '?', which the isnull() function will not pick up below."
      ],
      "metadata": {
        "id": "fiiXDhzC9RJZ"
      }
    },
    {
      "cell_type": "code",
      "source": [
        "adult_df.isnull().sum()"
      ],
      "metadata": {
        "id": "PJq4x3fXQr5q",
        "outputId": "16c17744-8c8c-4ae5-fac1-39a7413e9b2a",
        "colab": {
          "base_uri": "https://localhost:8080/",
          "height": 554
        }
      },
      "execution_count": 9,
      "outputs": [
        {
          "output_type": "execute_result",
          "data": {
            "text/plain": [
              "age               0\n",
              "workclass         0\n",
              "fnlwgt            0\n",
              "education         0\n",
              "education-num     0\n",
              "marital-status    0\n",
              "occupation        0\n",
              "relationship      0\n",
              "race              0\n",
              "sex               0\n",
              "capital-gain      0\n",
              "capital-loss      0\n",
              "hours-per-week    0\n",
              "native-country    0\n",
              "income-level      0\n",
              "dtype: int64"
            ],
            "text/html": [
              "<div>\n",
              "<style scoped>\n",
              "    .dataframe tbody tr th:only-of-type {\n",
              "        vertical-align: middle;\n",
              "    }\n",
              "\n",
              "    .dataframe tbody tr th {\n",
              "        vertical-align: top;\n",
              "    }\n",
              "\n",
              "    .dataframe thead th {\n",
              "        text-align: right;\n",
              "    }\n",
              "</style>\n",
              "<table border=\"1\" class=\"dataframe\">\n",
              "  <thead>\n",
              "    <tr style=\"text-align: right;\">\n",
              "      <th></th>\n",
              "      <th>0</th>\n",
              "    </tr>\n",
              "  </thead>\n",
              "  <tbody>\n",
              "    <tr>\n",
              "      <th>age</th>\n",
              "      <td>0</td>\n",
              "    </tr>\n",
              "    <tr>\n",
              "      <th>workclass</th>\n",
              "      <td>0</td>\n",
              "    </tr>\n",
              "    <tr>\n",
              "      <th>fnlwgt</th>\n",
              "      <td>0</td>\n",
              "    </tr>\n",
              "    <tr>\n",
              "      <th>education</th>\n",
              "      <td>0</td>\n",
              "    </tr>\n",
              "    <tr>\n",
              "      <th>education-num</th>\n",
              "      <td>0</td>\n",
              "    </tr>\n",
              "    <tr>\n",
              "      <th>marital-status</th>\n",
              "      <td>0</td>\n",
              "    </tr>\n",
              "    <tr>\n",
              "      <th>occupation</th>\n",
              "      <td>0</td>\n",
              "    </tr>\n",
              "    <tr>\n",
              "      <th>relationship</th>\n",
              "      <td>0</td>\n",
              "    </tr>\n",
              "    <tr>\n",
              "      <th>race</th>\n",
              "      <td>0</td>\n",
              "    </tr>\n",
              "    <tr>\n",
              "      <th>sex</th>\n",
              "      <td>0</td>\n",
              "    </tr>\n",
              "    <tr>\n",
              "      <th>capital-gain</th>\n",
              "      <td>0</td>\n",
              "    </tr>\n",
              "    <tr>\n",
              "      <th>capital-loss</th>\n",
              "      <td>0</td>\n",
              "    </tr>\n",
              "    <tr>\n",
              "      <th>hours-per-week</th>\n",
              "      <td>0</td>\n",
              "    </tr>\n",
              "    <tr>\n",
              "      <th>native-country</th>\n",
              "      <td>0</td>\n",
              "    </tr>\n",
              "    <tr>\n",
              "      <th>income-level</th>\n",
              "      <td>0</td>\n",
              "    </tr>\n",
              "  </tbody>\n",
              "</table>\n",
              "</div><br><label><b>dtype:</b> int64</label>"
            ]
          },
          "metadata": {},
          "execution_count": 9
        }
      ]
    },
    {
      "cell_type": "markdown",
      "source": [
        "To handle the '?' data, let's print out the column types first."
      ],
      "metadata": {
        "id": "NPX3HMgWA_al"
      }
    },
    {
      "cell_type": "code",
      "source": [
        "adult_df.dtypes"
      ],
      "metadata": {
        "id": "5dOpcOht2HLg",
        "outputId": "34082012-407a-45c0-9127-5d8229dcc5bc",
        "colab": {
          "base_uri": "https://localhost:8080/",
          "height": 554
        }
      },
      "execution_count": 10,
      "outputs": [
        {
          "output_type": "execute_result",
          "data": {
            "text/plain": [
              "age                int64\n",
              "workclass         object\n",
              "fnlwgt             int64\n",
              "education         object\n",
              "education-num      int64\n",
              "marital-status    object\n",
              "occupation        object\n",
              "relationship      object\n",
              "race              object\n",
              "sex               object\n",
              "capital-gain       int64\n",
              "capital-loss       int64\n",
              "hours-per-week     int64\n",
              "native-country    object\n",
              "income-level      object\n",
              "dtype: object"
            ],
            "text/html": [
              "<div>\n",
              "<style scoped>\n",
              "    .dataframe tbody tr th:only-of-type {\n",
              "        vertical-align: middle;\n",
              "    }\n",
              "\n",
              "    .dataframe tbody tr th {\n",
              "        vertical-align: top;\n",
              "    }\n",
              "\n",
              "    .dataframe thead th {\n",
              "        text-align: right;\n",
              "    }\n",
              "</style>\n",
              "<table border=\"1\" class=\"dataframe\">\n",
              "  <thead>\n",
              "    <tr style=\"text-align: right;\">\n",
              "      <th></th>\n",
              "      <th>0</th>\n",
              "    </tr>\n",
              "  </thead>\n",
              "  <tbody>\n",
              "    <tr>\n",
              "      <th>age</th>\n",
              "      <td>int64</td>\n",
              "    </tr>\n",
              "    <tr>\n",
              "      <th>workclass</th>\n",
              "      <td>object</td>\n",
              "    </tr>\n",
              "    <tr>\n",
              "      <th>fnlwgt</th>\n",
              "      <td>int64</td>\n",
              "    </tr>\n",
              "    <tr>\n",
              "      <th>education</th>\n",
              "      <td>object</td>\n",
              "    </tr>\n",
              "    <tr>\n",
              "      <th>education-num</th>\n",
              "      <td>int64</td>\n",
              "    </tr>\n",
              "    <tr>\n",
              "      <th>marital-status</th>\n",
              "      <td>object</td>\n",
              "    </tr>\n",
              "    <tr>\n",
              "      <th>occupation</th>\n",
              "      <td>object</td>\n",
              "    </tr>\n",
              "    <tr>\n",
              "      <th>relationship</th>\n",
              "      <td>object</td>\n",
              "    </tr>\n",
              "    <tr>\n",
              "      <th>race</th>\n",
              "      <td>object</td>\n",
              "    </tr>\n",
              "    <tr>\n",
              "      <th>sex</th>\n",
              "      <td>object</td>\n",
              "    </tr>\n",
              "    <tr>\n",
              "      <th>capital-gain</th>\n",
              "      <td>int64</td>\n",
              "    </tr>\n",
              "    <tr>\n",
              "      <th>capital-loss</th>\n",
              "      <td>int64</td>\n",
              "    </tr>\n",
              "    <tr>\n",
              "      <th>hours-per-week</th>\n",
              "      <td>int64</td>\n",
              "    </tr>\n",
              "    <tr>\n",
              "      <th>native-country</th>\n",
              "      <td>object</td>\n",
              "    </tr>\n",
              "    <tr>\n",
              "      <th>income-level</th>\n",
              "      <td>object</td>\n",
              "    </tr>\n",
              "  </tbody>\n",
              "</table>\n",
              "</div><br><label><b>dtype:</b> object</label>"
            ]
          },
          "metadata": {},
          "execution_count": 10
        }
      ]
    },
    {
      "cell_type": "markdown",
      "source": [
        "Now, we get the value_counts for each of the non-integer columns.  We do this because we want to understand ALL the indicators of unknonwn data ('known unknowns' as Rumsfeld would say).\n",
        "The int64 columns don't have null values because NaN is a null value that the isnull() function above would have picked up.  See the docs: https://pandas.pydata.org/docs/reference/api/pandas.isnull.html"
      ],
      "metadata": {
        "id": "Ur8DCpTWD0et"
      }
    },
    {
      "cell_type": "code",
      "source": [
        "# KRISTIAN_NOTE - Fortunately, all categorical columns except education-num for\n",
        "# this dataset have a datatype of object.  Therefore, we don't need to\n",
        "# explicitly state each and every categorical column in a hardcoded array.\n",
        "for col in adult_df.select_dtypes (include = 'object').columns:\n",
        "  print (adult_df[col].value_counts())"
      ],
      "metadata": {
        "id": "jSVWT9tf5LIx",
        "outputId": "04d0a6ec-0885-4474-dac6-c0ecb3de01b4",
        "colab": {
          "base_uri": "https://localhost:8080/"
        }
      },
      "execution_count": 11,
      "outputs": [
        {
          "output_type": "stream",
          "name": "stdout",
          "text": [
            "workclass\n",
            "Private             22696\n",
            "Self-emp-not-inc     2541\n",
            "Local-gov            2093\n",
            "?                    1836\n",
            "State-gov            1298\n",
            "Self-emp-inc         1116\n",
            "Federal-gov           960\n",
            "Without-pay            14\n",
            "Never-worked            7\n",
            "Name: count, dtype: int64\n",
            "education\n",
            "HS-grad         10501\n",
            "Some-college     7291\n",
            "Bachelors        5355\n",
            "Masters          1723\n",
            "Assoc-voc        1382\n",
            "11th             1175\n",
            "Assoc-acdm       1067\n",
            "10th              933\n",
            "7th-8th           646\n",
            "Prof-school       576\n",
            "9th               514\n",
            "12th              433\n",
            "Doctorate         413\n",
            "5th-6th           333\n",
            "1st-4th           168\n",
            "Preschool          51\n",
            "Name: count, dtype: int64\n",
            "marital-status\n",
            "Married-civ-spouse       14976\n",
            "Never-married            10683\n",
            "Divorced                  4443\n",
            "Separated                 1025\n",
            "Widowed                    993\n",
            "Married-spouse-absent      418\n",
            "Married-AF-spouse           23\n",
            "Name: count, dtype: int64\n",
            "occupation\n",
            "Prof-specialty       4140\n",
            "Craft-repair         4099\n",
            "Exec-managerial      4066\n",
            "Adm-clerical         3770\n",
            "Sales                3650\n",
            "Other-service        3295\n",
            "Machine-op-inspct    2002\n",
            "?                    1843\n",
            "Transport-moving     1597\n",
            "Handlers-cleaners    1370\n",
            "Farming-fishing       994\n",
            "Tech-support          928\n",
            "Protective-serv       649\n",
            "Priv-house-serv       149\n",
            "Armed-Forces            9\n",
            "Name: count, dtype: int64\n",
            "relationship\n",
            "Husband           13193\n",
            "Not-in-family      8305\n",
            "Own-child          5068\n",
            "Unmarried          3446\n",
            "Wife               1568\n",
            "Other-relative      981\n",
            "Name: count, dtype: int64\n",
            "race\n",
            "White                 27816\n",
            "Black                  3124\n",
            "Asian-Pac-Islander     1039\n",
            "Amer-Indian-Eskimo      311\n",
            "Other                   271\n",
            "Name: count, dtype: int64\n",
            "sex\n",
            "Male      21790\n",
            "Female    10771\n",
            "Name: count, dtype: int64\n",
            "native-country\n",
            "United-States                 29170\n",
            "Mexico                          643\n",
            "?                               583\n",
            "Philippines                     198\n",
            "Germany                         137\n",
            "Canada                          121\n",
            "Puerto-Rico                     114\n",
            "El-Salvador                     106\n",
            "India                           100\n",
            "Cuba                             95\n",
            "England                          90\n",
            "Jamaica                          81\n",
            "South                            80\n",
            "China                            75\n",
            "Italy                            73\n",
            "Dominican-Republic               70\n",
            "Vietnam                          67\n",
            "Guatemala                        64\n",
            "Japan                            62\n",
            "Poland                           60\n",
            "Columbia                         59\n",
            "Taiwan                           51\n",
            "Haiti                            44\n",
            "Iran                             43\n",
            "Portugal                         37\n",
            "Nicaragua                        34\n",
            "Peru                             31\n",
            "France                           29\n",
            "Greece                           29\n",
            "Ecuador                          28\n",
            "Ireland                          24\n",
            "Hong                             20\n",
            "Trinadad&Tobago                  19\n",
            "Cambodia                         19\n",
            "Thailand                         18\n",
            "Laos                             18\n",
            "Yugoslavia                       16\n",
            "Outlying-US(Guam-USVI-etc)       14\n",
            "Honduras                         13\n",
            "Hungary                          13\n",
            "Scotland                         12\n",
            "Holand-Netherlands                1\n",
            "Name: count, dtype: int64\n",
            "income-level\n",
            "<=50K    24720\n",
            ">50K      7841\n",
            "Name: count, dtype: int64\n"
          ]
        }
      ]
    },
    {
      "cell_type": "markdown",
      "source": [
        "The code above indicates that the only indeterminate value in this dataset is '?'.  Had there been other indeterminate values, like 'N/A' or 'Preferred not to disclose', value_counts() would have picked those up too.\n",
        "\n",
        "We need to replace every instance of '?' with None and then rerun the isnull() function from above, but we hit a snag in that replacing non-null values with None will not actually change the value to None.  In our case, it just doesn't replace the '?' at all.  See this StackOverflow article: https://stackoverflow.com/questions/17097236/replace-invalid-values-with-none-in-pandas-dataframe"
      ],
      "metadata": {
        "id": "RyLIqKAwFCoa"
      }
    },
    {
      "cell_type": "code",
      "source": [
        "# Leaving in this commented code as a lesson on Pandas replace.\n",
        "# adult_df.replace (to_replace = '?', value = np.nan, inplace = True)\n",
        "# print (adult_df.isnull().sum())\n",
        "# print (adult_df['workclass'].value_counts())"
      ],
      "metadata": {
        "id": "Ss1UF9qGFydF"
      },
      "execution_count": 12,
      "outputs": []
    },
    {
      "cell_type": "markdown",
      "source": [
        "Fortunately the aforementnioned StackOverflow article mentioned another solution.  The read_csv() method can be assigned values to treated as null, so we'll pass '?' and ' ?' as parameters and give this another go."
      ],
      "metadata": {
        "id": "COqGrKa_JANO"
      }
    },
    {
      "cell_type": "code",
      "source": [
        "# Reload the dataset, but pass the na_values parameter to force it to treat '?' as NULL.\n",
        "# Don't forget to check for leading spaces: https://stackoverflow.com/questions/56825958/why-does-not-work-properly-na-values-in-pandas\n",
        "adult_df = pd.read_csv (DATA_PATH, header = None, na_values = ['?', ' ?'])\n",
        "adult_df.columns = adult_feature_names\n",
        "adult_df.isnull().sum()"
      ],
      "metadata": {
        "id": "K7fRe-tIJgW2",
        "outputId": "7c540639-c6b2-4b30-e7b7-5f964cc8b1f1",
        "colab": {
          "base_uri": "https://localhost:8080/",
          "height": 554
        }
      },
      "execution_count": 13,
      "outputs": [
        {
          "output_type": "execute_result",
          "data": {
            "text/plain": [
              "age                  0\n",
              "workclass         1836\n",
              "fnlwgt               0\n",
              "education            0\n",
              "education-num        0\n",
              "marital-status       0\n",
              "occupation        1843\n",
              "relationship         0\n",
              "race                 0\n",
              "sex                  0\n",
              "capital-gain         0\n",
              "capital-loss         0\n",
              "hours-per-week       0\n",
              "native-country     583\n",
              "income-level         0\n",
              "dtype: int64"
            ],
            "text/html": [
              "<div>\n",
              "<style scoped>\n",
              "    .dataframe tbody tr th:only-of-type {\n",
              "        vertical-align: middle;\n",
              "    }\n",
              "\n",
              "    .dataframe tbody tr th {\n",
              "        vertical-align: top;\n",
              "    }\n",
              "\n",
              "    .dataframe thead th {\n",
              "        text-align: right;\n",
              "    }\n",
              "</style>\n",
              "<table border=\"1\" class=\"dataframe\">\n",
              "  <thead>\n",
              "    <tr style=\"text-align: right;\">\n",
              "      <th></th>\n",
              "      <th>0</th>\n",
              "    </tr>\n",
              "  </thead>\n",
              "  <tbody>\n",
              "    <tr>\n",
              "      <th>age</th>\n",
              "      <td>0</td>\n",
              "    </tr>\n",
              "    <tr>\n",
              "      <th>workclass</th>\n",
              "      <td>1836</td>\n",
              "    </tr>\n",
              "    <tr>\n",
              "      <th>fnlwgt</th>\n",
              "      <td>0</td>\n",
              "    </tr>\n",
              "    <tr>\n",
              "      <th>education</th>\n",
              "      <td>0</td>\n",
              "    </tr>\n",
              "    <tr>\n",
              "      <th>education-num</th>\n",
              "      <td>0</td>\n",
              "    </tr>\n",
              "    <tr>\n",
              "      <th>marital-status</th>\n",
              "      <td>0</td>\n",
              "    </tr>\n",
              "    <tr>\n",
              "      <th>occupation</th>\n",
              "      <td>1843</td>\n",
              "    </tr>\n",
              "    <tr>\n",
              "      <th>relationship</th>\n",
              "      <td>0</td>\n",
              "    </tr>\n",
              "    <tr>\n",
              "      <th>race</th>\n",
              "      <td>0</td>\n",
              "    </tr>\n",
              "    <tr>\n",
              "      <th>sex</th>\n",
              "      <td>0</td>\n",
              "    </tr>\n",
              "    <tr>\n",
              "      <th>capital-gain</th>\n",
              "      <td>0</td>\n",
              "    </tr>\n",
              "    <tr>\n",
              "      <th>capital-loss</th>\n",
              "      <td>0</td>\n",
              "    </tr>\n",
              "    <tr>\n",
              "      <th>hours-per-week</th>\n",
              "      <td>0</td>\n",
              "    </tr>\n",
              "    <tr>\n",
              "      <th>native-country</th>\n",
              "      <td>583</td>\n",
              "    </tr>\n",
              "    <tr>\n",
              "      <th>income-level</th>\n",
              "      <td>0</td>\n",
              "    </tr>\n",
              "  </tbody>\n",
              "</table>\n",
              "</div><br><label><b>dtype:</b> int64</label>"
            ]
          },
          "metadata": {},
          "execution_count": 13
        }
      ]
    },
    {
      "cell_type": "code",
      "source": [
        "# Find all NULL values and drop them\n",
        "# Now that we've reloaded the dataset with the '?' value being treated as NULL,\n",
        "# we can remove those rows in the standard way.\n",
        "adult_df.dropna (how = 'any', inplace = True)"
      ],
      "metadata": {
        "id": "pZW7GRw3P0dT"
      },
      "execution_count": 14,
      "outputs": []
    },
    {
      "cell_type": "code",
      "source": [
        "print (f\"There are: {adult_df.shape [0]} rows and {adult_df.shape [1]} columns in the Adult dataset.\")\n",
        "adult_df.isnull().sum()"
      ],
      "metadata": {
        "id": "wuWLu5HvNdG-",
        "outputId": "e7a22495-075d-440d-d8df-796f1d1674ef",
        "colab": {
          "base_uri": "https://localhost:8080/",
          "height": 572
        }
      },
      "execution_count": 15,
      "outputs": [
        {
          "output_type": "stream",
          "name": "stdout",
          "text": [
            "There are: 30162 rows and 15 columns in the Adult dataset.\n"
          ]
        },
        {
          "output_type": "execute_result",
          "data": {
            "text/plain": [
              "age               0\n",
              "workclass         0\n",
              "fnlwgt            0\n",
              "education         0\n",
              "education-num     0\n",
              "marital-status    0\n",
              "occupation        0\n",
              "relationship      0\n",
              "race              0\n",
              "sex               0\n",
              "capital-gain      0\n",
              "capital-loss      0\n",
              "hours-per-week    0\n",
              "native-country    0\n",
              "income-level      0\n",
              "dtype: int64"
            ],
            "text/html": [
              "<div>\n",
              "<style scoped>\n",
              "    .dataframe tbody tr th:only-of-type {\n",
              "        vertical-align: middle;\n",
              "    }\n",
              "\n",
              "    .dataframe tbody tr th {\n",
              "        vertical-align: top;\n",
              "    }\n",
              "\n",
              "    .dataframe thead th {\n",
              "        text-align: right;\n",
              "    }\n",
              "</style>\n",
              "<table border=\"1\" class=\"dataframe\">\n",
              "  <thead>\n",
              "    <tr style=\"text-align: right;\">\n",
              "      <th></th>\n",
              "      <th>0</th>\n",
              "    </tr>\n",
              "  </thead>\n",
              "  <tbody>\n",
              "    <tr>\n",
              "      <th>age</th>\n",
              "      <td>0</td>\n",
              "    </tr>\n",
              "    <tr>\n",
              "      <th>workclass</th>\n",
              "      <td>0</td>\n",
              "    </tr>\n",
              "    <tr>\n",
              "      <th>fnlwgt</th>\n",
              "      <td>0</td>\n",
              "    </tr>\n",
              "    <tr>\n",
              "      <th>education</th>\n",
              "      <td>0</td>\n",
              "    </tr>\n",
              "    <tr>\n",
              "      <th>education-num</th>\n",
              "      <td>0</td>\n",
              "    </tr>\n",
              "    <tr>\n",
              "      <th>marital-status</th>\n",
              "      <td>0</td>\n",
              "    </tr>\n",
              "    <tr>\n",
              "      <th>occupation</th>\n",
              "      <td>0</td>\n",
              "    </tr>\n",
              "    <tr>\n",
              "      <th>relationship</th>\n",
              "      <td>0</td>\n",
              "    </tr>\n",
              "    <tr>\n",
              "      <th>race</th>\n",
              "      <td>0</td>\n",
              "    </tr>\n",
              "    <tr>\n",
              "      <th>sex</th>\n",
              "      <td>0</td>\n",
              "    </tr>\n",
              "    <tr>\n",
              "      <th>capital-gain</th>\n",
              "      <td>0</td>\n",
              "    </tr>\n",
              "    <tr>\n",
              "      <th>capital-loss</th>\n",
              "      <td>0</td>\n",
              "    </tr>\n",
              "    <tr>\n",
              "      <th>hours-per-week</th>\n",
              "      <td>0</td>\n",
              "    </tr>\n",
              "    <tr>\n",
              "      <th>native-country</th>\n",
              "      <td>0</td>\n",
              "    </tr>\n",
              "    <tr>\n",
              "      <th>income-level</th>\n",
              "      <td>0</td>\n",
              "    </tr>\n",
              "  </tbody>\n",
              "</table>\n",
              "</div><br><label><b>dtype:</b> int64</label>"
            ]
          },
          "metadata": {},
          "execution_count": 15
        }
      ]
    },
    {
      "cell_type": "code",
      "source": [
        "adult_df[\"income-level\"].value_counts()"
      ],
      "metadata": {
        "id": "KaHvhqv5-Evk",
        "outputId": "9d750e0e-29a9-44da-c8a2-cda39936f8ed",
        "colab": {
          "base_uri": "https://localhost:8080/",
          "height": 178
        }
      },
      "execution_count": 16,
      "outputs": [
        {
          "output_type": "execute_result",
          "data": {
            "text/plain": [
              "income-level\n",
              "<=50K    22654\n",
              ">50K      7508\n",
              "Name: count, dtype: int64"
            ],
            "text/html": [
              "<div>\n",
              "<style scoped>\n",
              "    .dataframe tbody tr th:only-of-type {\n",
              "        vertical-align: middle;\n",
              "    }\n",
              "\n",
              "    .dataframe tbody tr th {\n",
              "        vertical-align: top;\n",
              "    }\n",
              "\n",
              "    .dataframe thead th {\n",
              "        text-align: right;\n",
              "    }\n",
              "</style>\n",
              "<table border=\"1\" class=\"dataframe\">\n",
              "  <thead>\n",
              "    <tr style=\"text-align: right;\">\n",
              "      <th></th>\n",
              "      <th>count</th>\n",
              "    </tr>\n",
              "    <tr>\n",
              "      <th>income-level</th>\n",
              "      <th></th>\n",
              "    </tr>\n",
              "  </thead>\n",
              "  <tbody>\n",
              "    <tr>\n",
              "      <th>&lt;=50K</th>\n",
              "      <td>22654</td>\n",
              "    </tr>\n",
              "    <tr>\n",
              "      <th>&gt;50K</th>\n",
              "      <td>7508</td>\n",
              "    </tr>\n",
              "  </tbody>\n",
              "</table>\n",
              "</div><br><label><b>dtype:</b> int64</label>"
            ]
          },
          "metadata": {},
          "execution_count": 16
        }
      ]
    },
    {
      "cell_type": "markdown",
      "source": [
        "Note that there were 32,561 rows when we loaded the Adult dataset the first time.  There are now 30,162 rows total, and the isnull() method no longer catches any rows including a '?'.  Of these rows, 22,654 people, or roughly 75%, make less than or equal to $50k.\n",
        "\n",
        "Before we split the training and test data, more EDA is required to understand the distribution of categorical variables.  This allows us to determine how feasible it is to stratify our train-test split so that every member of our test set belongs to categories already taken into account in the training set."
      ],
      "metadata": {
        "id": "YGcyUQi6OQMN"
      }
    },
    {
      "cell_type": "code",
      "source": [
        "# Use Scikit-Learn's LabelEncoder to convert the income column with a data type\n",
        "# string to a binary variable.\n",
        "le_income = LabelEncoder()\n",
        "adult_df[\"income-over-50k\"] = le_income.fit_transform (adult_df[\"income-level\"])\n",
        "adult_df_encoded_target = adult_df.drop (labels = \"income-level\", axis = 1)\n",
        "print (adult_df_encoded_target.head(10))"
      ],
      "metadata": {
        "id": "BZ_mJT_DLZ-L",
        "outputId": "d8c8e464-451d-4a87-83c9-d8ca723f86ae",
        "colab": {
          "base_uri": "https://localhost:8080/"
        }
      },
      "execution_count": 17,
      "outputs": [
        {
          "output_type": "stream",
          "name": "stdout",
          "text": [
            "   age          workclass  fnlwgt   education  education-num  \\\n",
            "0   39          State-gov   77516   Bachelors             13   \n",
            "1   50   Self-emp-not-inc   83311   Bachelors             13   \n",
            "2   38            Private  215646     HS-grad              9   \n",
            "3   53            Private  234721        11th              7   \n",
            "4   28            Private  338409   Bachelors             13   \n",
            "5   37            Private  284582     Masters             14   \n",
            "6   49            Private  160187         9th              5   \n",
            "7   52   Self-emp-not-inc  209642     HS-grad              9   \n",
            "8   31            Private   45781     Masters             14   \n",
            "9   42            Private  159449   Bachelors             13   \n",
            "\n",
            "           marital-status          occupation    relationship    race  \\\n",
            "0           Never-married        Adm-clerical   Not-in-family   White   \n",
            "1      Married-civ-spouse     Exec-managerial         Husband   White   \n",
            "2                Divorced   Handlers-cleaners   Not-in-family   White   \n",
            "3      Married-civ-spouse   Handlers-cleaners         Husband   Black   \n",
            "4      Married-civ-spouse      Prof-specialty            Wife   Black   \n",
            "5      Married-civ-spouse     Exec-managerial            Wife   White   \n",
            "6   Married-spouse-absent       Other-service   Not-in-family   Black   \n",
            "7      Married-civ-spouse     Exec-managerial         Husband   White   \n",
            "8           Never-married      Prof-specialty   Not-in-family   White   \n",
            "9      Married-civ-spouse     Exec-managerial         Husband   White   \n",
            "\n",
            "       sex  capital-gain  capital-loss  hours-per-week  native-country  \\\n",
            "0     Male          2174             0              40   United-States   \n",
            "1     Male             0             0              13   United-States   \n",
            "2     Male             0             0              40   United-States   \n",
            "3     Male             0             0              40   United-States   \n",
            "4   Female             0             0              40            Cuba   \n",
            "5   Female             0             0              40   United-States   \n",
            "6   Female             0             0              16         Jamaica   \n",
            "7     Male             0             0              45   United-States   \n",
            "8   Female         14084             0              50   United-States   \n",
            "9     Male          5178             0              40   United-States   \n",
            "\n",
            "   income-over-50k  \n",
            "0                0  \n",
            "1                0  \n",
            "2                0  \n",
            "3                0  \n",
            "4                0  \n",
            "5                0  \n",
            "6                0  \n",
            "7                1  \n",
            "8                1  \n",
            "9                1  \n"
          ]
        }
      ]
    },
    {
      "cell_type": "markdown",
      "source": [
        "In the previous mini-project (please see Student_MLE_MiniProject_ML.ipynb), I dealt with a dataset of taxi records including id's for locations to pick up and drop off passengers.  When splitting that data, there were three taxi rides in the test set featuring pickup location id's not present in the training set.  Because there were so many distinct location id's, it was impossible to stratify the data.  However, there were so few of these unaccounted offenders that removing them from the test set left almost zero impact on the model.\n",
        "\n",
        "But I do not find this approach satisfactory.  This test set has only a fraction of the number of rows as the Taxicab dataset from the previous project.  I'd rather deal with this problem a different way.  After having discussed this issue with my mentor, I now know it is common practice to apply one-hot encoding to the dataset before the train-test split step.\n",
        "\n",
        "However, the ColumnTransformer portion of this project will need to be integrated into the same Pipeline as the Keras model I will be building later in the project, and that Pipeline only takes \"transformer\" type operations.  Unfortunately, scikit-learn's train-test-split operation is NOT a \"transformer\" type operation, thereby creating a \"chicken and the egg\" situation between data splitting and one-hot-encoding.\n",
        "\n",
        "After a discussion with my mentor, I have decided to do the following:\n",
        "\n",
        "1. I will use the get_dummies function from Pandas first because it returns a DataFrame that's easy to split.\n",
        "\n",
        "2. Then, I will train-test-split the dataset.\n",
        "\n",
        "3. Then, I will measure the effectiveness of a baseline model.\n",
        "\n",
        "4. Then, I will create the ColumnTransformer, but the OneHotEncoding step will not perform on any columns.  The encoded columns created from step 1) will be preserved as they are."
      ],
      "metadata": {
        "id": "DQYzcxY_dzFy"
      }
    },
    {
      "cell_type": "code",
      "source": [
        "# KRISTIAN_NOTE - Fortunately, all categorical columns except education-num for\n",
        "# this dataset have a datatype of object.  Therefore, we don't need to\n",
        "# explicitly state each and every categorical column in a hardcoded array.\n",
        "# We need only remove 'income-level' since that's our target before label-encoding.\n",
        "categorical_feature_cols = list(adult_df.select_dtypes (include = 'object').columns[0:-1])\n",
        "print (categorical_feature_cols)\n",
        "\n",
        "# Again, remove 'income-over-50k' since that's our target after label-encoding.\n",
        "quanitative_feature_columns = list (adult_df.select_dtypes (include = 'int64').columns[0:-1])\n",
        "print (quanitative_feature_columns)"
      ],
      "metadata": {
        "id": "NEw0HNJ7XPUU",
        "outputId": "3bcd927c-a891-42bd-cb4a-5afebc4d3757",
        "colab": {
          "base_uri": "https://localhost:8080/"
        }
      },
      "execution_count": 18,
      "outputs": [
        {
          "output_type": "stream",
          "name": "stdout",
          "text": [
            "['workclass', 'education', 'marital-status', 'occupation', 'relationship', 'race', 'sex', 'native-country']\n",
            "['age', 'fnlwgt', 'education-num', 'capital-gain', 'capital-loss', 'hours-per-week']\n"
          ]
        }
      ]
    },
    {
      "cell_type": "markdown",
      "source": [
        "STEP 1. Use get_dummies to one-hot encode the data.\n",
        "Docs: https://pandas.pydata.org/docs/reference/api/pandas.get_dummies.html"
      ],
      "metadata": {
        "id": "gIn-h-gwSyuJ"
      }
    },
    {
      "cell_type": "code",
      "source": [
        "# List out the columns explicitly.\n",
        "# StackOverflow article for this: https://stackoverflow.com/questions/36285155/pandas-get-dummies\n",
        "adult_df_converted_cols = pd.get_dummies (adult_df_encoded_target, columns = categorical_feature_cols)\n",
        "print (adult_df_converted_cols.head())"
      ],
      "metadata": {
        "id": "Hx5UMwI6S8hL",
        "outputId": "62ab4bd7-bf48-4761-8b22-19e253435c9f",
        "colab": {
          "base_uri": "https://localhost:8080/"
        }
      },
      "execution_count": 19,
      "outputs": [
        {
          "output_type": "stream",
          "name": "stdout",
          "text": [
            "   age  fnlwgt  education-num  capital-gain  capital-loss  hours-per-week  \\\n",
            "0   39   77516             13          2174             0              40   \n",
            "1   50   83311             13             0             0              13   \n",
            "2   38  215646              9             0             0              40   \n",
            "3   53  234721              7             0             0              40   \n",
            "4   28  338409             13             0             0              40   \n",
            "\n",
            "   income-over-50k  workclass_ Federal-gov  workclass_ Local-gov  \\\n",
            "0                0                   False                 False   \n",
            "1                0                   False                 False   \n",
            "2                0                   False                 False   \n",
            "3                0                   False                 False   \n",
            "4                0                   False                 False   \n",
            "\n",
            "   workclass_ Private  ...  native-country_ Portugal  \\\n",
            "0               False  ...                     False   \n",
            "1               False  ...                     False   \n",
            "2                True  ...                     False   \n",
            "3                True  ...                     False   \n",
            "4                True  ...                     False   \n",
            "\n",
            "   native-country_ Puerto-Rico  native-country_ Scotland  \\\n",
            "0                        False                     False   \n",
            "1                        False                     False   \n",
            "2                        False                     False   \n",
            "3                        False                     False   \n",
            "4                        False                     False   \n",
            "\n",
            "   native-country_ South  native-country_ Taiwan  native-country_ Thailand  \\\n",
            "0                  False                   False                     False   \n",
            "1                  False                   False                     False   \n",
            "2                  False                   False                     False   \n",
            "3                  False                   False                     False   \n",
            "4                  False                   False                     False   \n",
            "\n",
            "   native-country_ Trinadad&Tobago  native-country_ United-States  \\\n",
            "0                            False                           True   \n",
            "1                            False                           True   \n",
            "2                            False                           True   \n",
            "3                            False                           True   \n",
            "4                            False                          False   \n",
            "\n",
            "   native-country_ Vietnam  native-country_ Yugoslavia  \n",
            "0                    False                       False  \n",
            "1                    False                       False  \n",
            "2                    False                       False  \n",
            "3                    False                       False  \n",
            "4                    False                       False  \n",
            "\n",
            "[5 rows x 105 columns]\n"
          ]
        }
      ]
    },
    {
      "cell_type": "markdown",
      "source": [
        "Now, the DataFrame has 105 columns total: 104 feature columns and our label-encoded target column 'income-over-50k'.\n",
        "\n",
        "Note that get_dummies one-hot encodes datasets to have boolean columns (eg. True for 'native-country_ Thailand' if the adult is from Thailand and False for the other countries).  Therefore, we can obtain a list of these columns with our trusty 'dtypes' and 'select_dtypes' methods as before."
      ],
      "metadata": {
        "id": "8N6sqh98W3ta"
      }
    },
    {
      "cell_type": "code",
      "source": [
        "print (list (adult_df_converted_cols.select_dtypes (include = 'bool')))"
      ],
      "metadata": {
        "colab": {
          "base_uri": "https://localhost:8080/"
        },
        "id": "UPdjJv6SeDtI",
        "outputId": "0b6f1258-c727-410d-97f6-56c4b5ca89db"
      },
      "execution_count": 20,
      "outputs": [
        {
          "output_type": "stream",
          "name": "stdout",
          "text": [
            "['workclass_ Federal-gov', 'workclass_ Local-gov', 'workclass_ Private', 'workclass_ Self-emp-inc', 'workclass_ Self-emp-not-inc', 'workclass_ State-gov', 'workclass_ Without-pay', 'education_ 10th', 'education_ 11th', 'education_ 12th', 'education_ 1st-4th', 'education_ 5th-6th', 'education_ 7th-8th', 'education_ 9th', 'education_ Assoc-acdm', 'education_ Assoc-voc', 'education_ Bachelors', 'education_ Doctorate', 'education_ HS-grad', 'education_ Masters', 'education_ Preschool', 'education_ Prof-school', 'education_ Some-college', 'marital-status_ Divorced', 'marital-status_ Married-AF-spouse', 'marital-status_ Married-civ-spouse', 'marital-status_ Married-spouse-absent', 'marital-status_ Never-married', 'marital-status_ Separated', 'marital-status_ Widowed', 'occupation_ Adm-clerical', 'occupation_ Armed-Forces', 'occupation_ Craft-repair', 'occupation_ Exec-managerial', 'occupation_ Farming-fishing', 'occupation_ Handlers-cleaners', 'occupation_ Machine-op-inspct', 'occupation_ Other-service', 'occupation_ Priv-house-serv', 'occupation_ Prof-specialty', 'occupation_ Protective-serv', 'occupation_ Sales', 'occupation_ Tech-support', 'occupation_ Transport-moving', 'relationship_ Husband', 'relationship_ Not-in-family', 'relationship_ Other-relative', 'relationship_ Own-child', 'relationship_ Unmarried', 'relationship_ Wife', 'race_ Amer-Indian-Eskimo', 'race_ Asian-Pac-Islander', 'race_ Black', 'race_ Other', 'race_ White', 'sex_ Female', 'sex_ Male', 'native-country_ Cambodia', 'native-country_ Canada', 'native-country_ China', 'native-country_ Columbia', 'native-country_ Cuba', 'native-country_ Dominican-Republic', 'native-country_ Ecuador', 'native-country_ El-Salvador', 'native-country_ England', 'native-country_ France', 'native-country_ Germany', 'native-country_ Greece', 'native-country_ Guatemala', 'native-country_ Haiti', 'native-country_ Holand-Netherlands', 'native-country_ Honduras', 'native-country_ Hong', 'native-country_ Hungary', 'native-country_ India', 'native-country_ Iran', 'native-country_ Ireland', 'native-country_ Italy', 'native-country_ Jamaica', 'native-country_ Japan', 'native-country_ Laos', 'native-country_ Mexico', 'native-country_ Nicaragua', 'native-country_ Outlying-US(Guam-USVI-etc)', 'native-country_ Peru', 'native-country_ Philippines', 'native-country_ Poland', 'native-country_ Portugal', 'native-country_ Puerto-Rico', 'native-country_ Scotland', 'native-country_ South', 'native-country_ Taiwan', 'native-country_ Thailand', 'native-country_ Trinadad&Tobago', 'native-country_ United-States', 'native-country_ Vietnam', 'native-country_ Yugoslavia']\n"
          ]
        }
      ]
    },
    {
      "cell_type": "markdown",
      "source": [
        "STEP 2. Split the data into training and test sets. Remember not to include the label you're trying to predict, `income`, as a column in your training data."
      ],
      "metadata": {
        "id": "ibK0DxJsA1JH"
      }
    },
    {
      "cell_type": "code",
      "source": [
        "# Split dataset into training and test sets\n",
        "features_train, features_test, target_train, target_test = train_test_split (\\\n",
        "  adult_df_converted_cols.drop ('income-over-50k', axis = 1, inplace = False), adult_df_converted_cols['income-over-50k'], random_state = 16,\\\n",
        ")"
      ],
      "metadata": {
        "id": "1whzL6K7J-zq"
      },
      "execution_count": 21,
      "outputs": []
    },
    {
      "cell_type": "markdown",
      "source": [
        "In machine learning, the Receiver Operating Characteristic (ROC) curve and the Area Under the Curve (AUC) metric are commonly used to evaluate the performance of binary classification models. These are valuable tools for understanding how well a model can distinguish between the positive and negative classes in a classification problem.\n",
        "\n",
        "Let's break down each concept:\n",
        "\n",
        "1. ROC Curve:\n",
        "The ROC curve is a graphical representation of a binary classifier's performance as the discrimination threshold is varied. It is created by plotting the True Positive Rate (TPR) against the False Positive Rate (FPR) at different threshold values. Here's how these rates are calculated:\n",
        "\n",
        "- True Positive Rate (TPR), also called Sensitivity or Recall, measures the proportion of actual positive instances that are correctly identified by the model:\n",
        "   TPR = True Positives / (True Positives + False Negatives)\n",
        "\n",
        "- False Positive Rate (FPR) measures the proportion of actual negative instances that are incorrectly classified as positive by the model:\n",
        "   FPR = False Positives / (False Positives + True Negatives)\n",
        "\n",
        "The ROC curve is useful because it shows how well a classifier can trade off between sensitivity and specificity across different threshold values. The ideal ROC curve hugs the top-left corner, indicating a high TPR and low FPR, meaning the classifier is excellent at distinguishing between the two classes.\n",
        "\n",
        "2. AUC (Area Under the Curve):\n",
        "The AUC is a scalar metric derived from the ROC curve. It represents the area under the ROC curve, hence its name. The AUC ranges from 0 to 1, where 0 indicates a very poor classifier (always predicting the opposite class) and 1 signifies a perfect classifier (making all correct predictions).\n",
        "\n",
        "The AUC metric is beneficial because it provides a single value to summarize the classifier's overall performance across all possible threshold values. It is particularly useful when dealing with imbalanced datasets, where one class significantly outnumbers the other. In such cases, accuracy alone might not be a reliable evaluation metric, and AUC can provide a more robust performance measure.\n",
        "\n",
        "A quick rule of thumb for interpreting AUC values:\n",
        "- AUC ≈ 0.5: The model performs no better than random guessing.\n",
        "- 0.5 < AUC < 0.7: The model has poor to fair performance.\n",
        "- 0.7 < AUC < 0.9: The model has good to excellent performance.\n",
        "- AUC ≈ 1: The model is close to or has a perfect performance."
      ],
      "metadata": {
        "id": "HMsXM6B_BX5k"
      }
    },
    {
      "cell_type": "markdown",
      "source": [
        "STEP 3: Measure the effectiveness of the baseline model.\n",
        "\n",
        "Here are your tasks:\n",
        "\n",
        "  1. Use Scikit-Learn's [roc_auc_score](https://scikit-learn.org/stable/modules/generated/sklearn.metrics.roc_auc_score.html) to calculate the AUC score for a method that always predicts the majority class.  "
      ],
      "metadata": {
        "id": "NDGgBVEKEYKi"
      }
    },
    {
      "cell_type": "code",
      "source": [
        "# Use Scikit-Learn's roc_auc_score to calculate the AUC score for a method that\n",
        "# always predicts the majority class.\n",
        "def always_predicts_majority_baseline (target_col):\n",
        "  frequencies_list = target_col.value_counts().to_list()\n",
        "  return frequencies_list.index (max (frequencies_list))\n",
        "\n",
        "baseline_model = always_predicts_majority_baseline (target_train)\n",
        "print (f\"The baseline model will always predict {baseline_model} for adult income. >= $50k.\")\n",
        "roc_auc_score (target_test, [baseline_model] * len (target_test))"
      ],
      "metadata": {
        "id": "s00Xs8bqUZnn",
        "outputId": "610f64d5-fafc-40b1-9d01-bbaf4e035570",
        "colab": {
          "base_uri": "https://localhost:8080/"
        }
      },
      "execution_count": 22,
      "outputs": [
        {
          "output_type": "stream",
          "name": "stdout",
          "text": [
            "The baseline model will always predict 0 for adult income. >= $50k.\n"
          ]
        },
        {
          "output_type": "execute_result",
          "data": {
            "text/plain": [
              "np.float64(0.5)"
            ]
          },
          "metadata": {},
          "execution_count": 22
        }
      ]
    },
    {
      "cell_type": "markdown",
      "source": [
        "The area under the curve for our baseline model is 0.5, which means it exactly as useful as random guessing."
      ],
      "metadata": {
        "id": "gD-7XVgGNfBs"
      }
    },
    {
      "cell_type": "markdown",
      "source": [
        "Instructions from the Project, preserved for reference purposes (I already one-hot encoded the columns):\n",
        "\n",
        "STEP 4 - Use MinMaxScaler on the numerical feature columns.\n",
        "\n",
        "Now, let's do a little feature engineering.\n",
        "\n",
        "1. Use Scikit-Learn's [ColumnTransformer](https://scikit-learn.org/stable/modules/generated/sklearn.compose.ColumnTransformer.html) to apply One Hot Encoding to the categorical variables in `workclass`, `education`, `marital-status`, `occupation`, `relationship`, 'race', `sex`, and `native-country`. Also, apply [MinMaxScaler](https://scikit-learn.org/stable/modules/generated/sklearn.preprocessing.MinMaxScaler.html) to the remaining continuous features. How many columns will the dataframe have after these columns transformations are applied?"
      ],
      "metadata": {
        "id": "uWSiYNarF2t_"
      }
    },
    {
      "cell_type": "code",
      "source": [
        "# Use Scikit-Learn's ColumnTransformer to apply One Hot Encoding to the\n",
        "# categorical variables in workclass, education, marital-status, occupation,\n",
        "# relationship, 'race', sex, and native-country.\n",
        "# KRISTIAN_NOTE - Actually, we'll apply a FunctionTransformer to preserve the categorical columns we've already one-hot encoded via an identity function.\n",
        "# Why? Because the ColumnTransformer returns a concactenation of only the columns on which it has operated.\n",
        "# See StackOverflow: https://stackoverflow.com/questions/68869466/use-sklearn-transformers-on-list-of-columns-and-preserve-the-input-columns\n",
        "\n",
        "print (f'There are {features_train.shape[1]} total columns in the training set.')\n",
        "\n",
        "all_columns_preparer = ColumnTransformer ([\\\n",
        "  # KRISTIAN_NOTE - Don't one-hot encode the columns a second time.\n",
        "  ('one_hot_categorical_columns', OneHotEncoder (handle_unknown = 'error'), []), #, categorical_feature_cols),\n",
        "  ('preserve_categorical_columns', FunctionTransformer (lambda x: x), list (features_train.select_dtypes (include = 'bool'))),\n",
        "  ('scale_quantifiable_columns', MinMaxScaler (), quanitative_feature_columns)\n",
        "])"
      ],
      "metadata": {
        "id": "4DybgGJyW-3Q",
        "outputId": "7a218aea-b612-4d11-ae8a-da1ffff4c9e8",
        "colab": {
          "base_uri": "https://localhost:8080/"
        }
      },
      "execution_count": 23,
      "outputs": [
        {
          "output_type": "stream",
          "name": "stdout",
          "text": [
            "There are 104 total columns in the training set.\n"
          ]
        }
      ]
    },
    {
      "cell_type": "code",
      "source": [
        "# How many columns will the dataframe have after these columns transformations are applied?\n",
        "# KRISTIAN_NOTE - We already dropped the target 'income-over-50k' column via the label-encoding above.\n",
        "# Also, keep in mind the result is NOT a dataframe, but a sparse matrix.\n",
        "encoded_adult_sparse_matrix = all_columns_preparer.fit_transform (features_train, target_train)\n",
        "print (f\"Number of rows in one-hot encoded adult dataset: {encoded_adult_sparse_matrix.shape[0]}\")\n",
        "print (f\"Number of columns in one-hot encoded adult dataset: {encoded_adult_sparse_matrix.shape[1]}\")"
      ],
      "metadata": {
        "id": "emfaqHwvKfLU",
        "outputId": "9597b5bf-7a9d-4fc7-8b52-98ee0f6e938a",
        "colab": {
          "base_uri": "https://localhost:8080/"
        }
      },
      "execution_count": 24,
      "outputs": [
        {
          "output_type": "stream",
          "name": "stdout",
          "text": [
            "Number of rows in one-hot encoded adult dataset: 22621\n",
            "Number of columns in one-hot encoded adult dataset: 104\n"
          ]
        }
      ]
    },
    {
      "cell_type": "markdown",
      "source": [
        "Same number of columns as before minus the target column (104 total), so that checks out."
      ],
      "metadata": {
        "id": "hmuAJBQkKsM4"
      }
    },
    {
      "cell_type": "markdown",
      "source": [
        "Keras is an open-source deep learning library written in Python. It was developed to provide a user-friendly, high-level interface for building and training neural networks. The library was created by François Chollet and was first released in March 2015 as part of the Deeplearning4j project. Later, it became part of the TensorFlow ecosystem and is now the official high-level API for TensorFlow.\n",
        "\n",
        "Keras is designed to be modular, user-friendly, and easy to extend. It allows researchers and developers to quickly prototype and experiment with various deep learning models. One of the primary goals of Keras is to enable fast experimentation, making it simple to build and iterate on different architectures.\n",
        "\n",
        "Key features of Keras include:\n",
        "\n",
        "1. User-friendly API: Keras provides a simple and intuitive interface for defining and training deep learning models. Its design philosophy focuses on ease of use and clarity of code.\n",
        "\n",
        "2. Modularity: Models in Keras are built as a sequence of layers, and users can easily stack, merge, or create complex architectures using a wide range of predefined layers.\n",
        "\n",
        "3. Extensibility: Keras allows users to define custom layers, loss functions, and metrics. This flexibility enables researchers to experiment with new ideas and algorithms seamlessly.\n",
        "\n",
        "4. Backends: Initially, Keras supported multiple backends, including TensorFlow, Theano, and CNTK. However, as of TensorFlow version 2.0, TensorFlow has become the primary backend for Keras.\n",
        "\n",
        "5. Multi-GPU and distributed training: Keras supports training models on multiple GPUs and in distributed computing environments, making it suitable for large-scale experiments.\n",
        "\n",
        "6. Pre-trained models: Keras includes a collection of pre-trained models for common tasks, such as image classification (e.g., VGG, ResNet, MobileNet) and natural language processing (e.g., Word2Vec, GloVe).\n",
        "\n",
        "The integration of Keras into TensorFlow as its official high-level API has solidified its position as one of the most popular deep learning libraries in the machine learning community. Its ease of use and versatility have contributed to its widespread adoption in both academia and industry for a wide range of deep learning tasks."
      ],
      "metadata": {
        "id": "AtoqTz5rGuET"
      }
    },
    {
      "cell_type": "markdown",
      "source": [
        "Here are your tasks:\n",
        "\n",
        "1. Create your own model in Keras to predict income in the Adult training data. Remember, it's always better to start simple and add complexity to the model if necessary. What's a good loss function to use?\n",
        "\n",
        "2. Keras can be integrated with Scitkit-Learn using a wrapper. Use the [KerasClassifier wrapper](https://adriangb.com/scikeras/stable/generated/scikeras.wrappers.KerasClassifier.html) to integrate your Keras model with the ColumnTransformer from previous steps using a [Pipeline](https://scikit-learn.org/stable/modules/generated/sklearn.pipeline.Pipeline.html) object.\n",
        "\n",
        "3. Fit your model.\n",
        "\n",
        "4. Calculate the AUC score of your model on the test data. Does the model predict better than random?\n",
        "\n",
        "5. Generate an ROC curve for your model using [RocCurveDisplay](https://scikit-learn.org/stable/modules/generated/sklearn.metrics.RocCurveDisplay.html). What would the curve look like if all your predictions were randomly generated? What would the curve look like if it you had a perfect model?"
      ],
      "metadata": {
        "id": "HVUa0h83HU24"
      }
    },
    {
      "cell_type": "code",
      "source": [
        "# Define the Keras model\n",
        "simple_nn = keras.models.Sequential()\n",
        "# According to the docs: https://keras.io/api/layers/core_layers/input/\n",
        "# the shape of an Input layer indicates \"batches of [n]-dimensional vectors\",\n",
        "# where n is the number of features/columns in the dataset.\n",
        "# For simplicity, we will not add an activation function to the neural network.\n",
        "simple_nn.add (keras.layers.InputLayer (shape = (features_train.shape[1], )))\n",
        "simple_nn.add (keras.layers.Dense (1, activation = 'sigmoid')) # Output layer\n",
        "\n",
        "# KRISTIAN_NOTE - Need to compile this model before passing it into the Keras Classifier.\n",
        "# The Pipeline below requires a compiled model or else it will spit out an error\n",
        "# when you try to fit it to the training data.\n",
        "simple_nn.compile (\\\n",
        "  # KRISTIAN_NOTE - See below for explanation of why I chose 'adam' below.\n",
        "  optimizer = 'adam',\\\n",
        "  # KRISTIAN_NOTE - We are dealing with binary categories in our dataset, so\n",
        "  # binary cross-entropy is a reliable loss function here.\n",
        "  loss = 'binary_crossentropy',\\\n",
        "  # KRISTIAN_NOTE - Since we're going to make a ROC curve from this model later,\n",
        "  # we don't need any metrics, but I'd still like to track false positives and\n",
        "  # false negatives to visualize later.\n",
        "  metrics = ['false_positives', 'false_negatives'])"
      ],
      "metadata": {
        "id": "w1UAx-kjgezB"
      },
      "execution_count": 25,
      "outputs": []
    },
    {
      "cell_type": "markdown",
      "source": [
        "Begin with the simplest neural network permissible for this model: an Input layer with one neuron per feature fanning into a single output neuron.  In other words, it's a weighted sum of feature correlations each expressed as a weight and a bias.\n",
        "\n",
        "Before we proceed, allow me to share what I've learned about optimizers thus far.  It all started with this article: https://www.geeksforgeeks.org/intuition-behind-adagrad-optimizer/\n",
        "\n",
        "Quote:\n",
        "\"The most significant advantage of Adagrad is its ability to adapt the\n",
        "learning rate for each parameter. This is especially beneficial when dealing\n",
        "with sparse features...\"\n",
        "\n",
        "\"The most significant advantage of Adagrad is its ability to adapt the\n",
        "learning rate for each parameter. This is especially beneficial when dealing\n",
        "with sparse features...\"  In our case, one-hot encoding the categorical columns induces a lot of 'sparse-ness' into our data because most of the features will be 0 for each row.  If there are, for instance, 42 possible nationalities per adult, then 41 of those columns will be 'False' or '0' because an adult can only be born in a single location.  Same logic applies for gender, career, marital status, etc...\n",
        "However, over each epoch, the l2-norm (square root of the sum of the squared gradients) accumulates, and the learning rate is divided by that amount.  After just a few epochs, the model's performance will hit a plateau and not improve any further.\n",
        "\n",
        "This Medium article: https://medium.com/@brijesh_soni/understanding-the-adagrad-optimization-algorithm-an-adaptive-learning-rate-approach-9dfaae2077bb\n",
        "\n",
        "suggests a few other algorithms: 'Adadelta' and 'Rmsprop' both involve a sort of 'decay' term to control the rate at which the learning rate shrinks.  However, 'Adam' seems the most sophisticated of the three.\n",
        "\n",
        "https://www.geeksforgeeks.org/adam-optimizer/\n",
        "The ADAM optimizer expresses the change in the learning rate, or 'momentum' as a spectrum between zero (learning rate doesn't change) and the gradient of the loss function.\n",
        "The formulas come down to:\n",
        "\n",
        "1) new_momentum = (momentum_constant) * old_momentum + (1 - momentum_constant) * (gradient)\n",
        "\n",
        "2) new_weight = old_weight - (learning_rate * new_momentum)\n",
        "\n",
        "Intuitively, these formulas remind me of velocity and acceleration in free-fall physics:\n",
        "\n",
        "1*) new_velocity = old_velocity + (acceleration * time_squared)\n",
        "\n",
        "2*) new_position = old_position + (new_velocity * time)\n",
        "\n",
        "Instead of positions, we have weights.  Think of the learning rate as the 'velocity' of the weights in formula 2).  The gradient of the loss function in formula 1) serves as a sort of 'acceleration' to our gradient descent (with a constant instead of time_squared, this is where the analogy ends).\n",
        "\n",
        "I also noticed that formula 1) is the same expression (with different terms) used for linear interpolation in computer graphics!  https://en.wikipedia.org/wiki/Linear_interpolation\n",
        "\n",
        "This serves a 'spectrum' for the change or 'acceleration' in the learning rate between zero (learning rate doesn't change) and the gradient of the loss function (the previous step was completely wrong)\n",
        "\n",
        "If this loss is small, then that signals to the model, \"hey, we're on the right track, keep doing what you're doing\".  The momentum will be about the same as last time, so the learning rate will change about as much as it did in the previous step.\n",
        "\n",
        "On the other hand, if the gradient of the loss function is large, then that signals to the model, \"this is the real correct gradient descent, change course now\", so 'acceleration' will be large, and the momentum will change dramatically to reflect the direction of this new gradient.\n",
        "\n",
        "For our simple model, let's put the ADAM optimizer to the test."
      ],
      "metadata": {
        "id": "tzAed9TrgvMT"
      }
    },
    {
      "cell_type": "code",
      "source": [
        "# Create a Keras classifier\n",
        "# Keep it simple for now, 20 epochs and batch size 5.\n",
        "num_epochs = 20\n",
        "num_batches = 5\n",
        "# KRISTIAN_NOTE - If I explicitly feed History into the KerasClassifier, the\n",
        "# pipeline complains.  Could be helpful if I were to fit on the model itself\n",
        "# rather than the pipeline though.\n",
        "# simple_history = keras.callbacks.History()\n",
        "\n",
        "# Don't forget to restate the 'loss' as 'binary_crossentropy' for the KerasClassifier.\n",
        "simple_model = KerasClassifier (\\\n",
        "  model = simple_nn,\\\n",
        "  epochs = num_epochs,\n",
        "  batch_size = num_batches,\n",
        "  loss = 'binary_crossentropy',\n",
        "  # KRISTIAN_NOTE - Here is a raised GitHub issue confirming what I faced:\n",
        "  # https://github.com/keras-team/keras/issues/20212\n",
        "  # And a StackOverflow article too:\n",
        "  # https://stackoverflow.com/questions/68456592/why-model-fit-result-not-representing-the-same-value-while-printing-the-histor\n",
        "  # The loss displayed in the pipeline fit call does not, by default, match\n",
        "  # the loss stored in the history_ callback of the model unless I set verbose\n",
        "  # to 2.  This is because the default displayed loss represents the mean loss\n",
        "  # DURING the epoch whereas the loss stored in history_ represents the loss at\n",
        "  # the END of the epoch.  I have no reason to prefer the former over the latter.\n",
        "  verbose = 2\n",
        "  # callbacks = [simple_history]\n",
        ")"
      ],
      "metadata": {
        "id": "3FGg2n6xkIrd"
      },
      "execution_count": 26,
      "outputs": []
    },
    {
      "cell_type": "code",
      "source": [
        "# Create the scikit-learn pipeline\n",
        "simple_pipeline = Pipeline ([\\\n",
        "  ('all_columns_preparer', all_columns_preparer),\\\n",
        "  ('income_predictor_model', simple_model)])"
      ],
      "metadata": {
        "id": "OD-RxaYwkVh-"
      },
      "execution_count": 27,
      "outputs": []
    },
    {
      "cell_type": "code",
      "source": [
        "# Fit the pipeline on the training data\n",
        "simple_pipeline_callback = simple_pipeline.fit (features_train, target_train)"
      ],
      "metadata": {
        "colab": {
          "base_uri": "https://localhost:8080/"
        },
        "id": "6XeoQJ3Cv-9I",
        "outputId": "fd564fcf-1ea3-47d9-dba3-57a33ddfff16"
      },
      "execution_count": 28,
      "outputs": [
        {
          "output_type": "stream",
          "name": "stdout",
          "text": [
            "Epoch 1/20\n",
            "4525/4525 - 9s - 2ms/step - false_negatives: 3446.0000 - false_positives: 841.0000 - loss: 0.4119\n",
            "Epoch 2/20\n",
            "4525/4525 - 8s - 2ms/step - false_negatives: 2594.0000 - false_positives: 1186.0000 - loss: 0.3632\n",
            "Epoch 3/20\n",
            "4525/4525 - 10s - 2ms/step - false_negatives: 2503.0000 - false_positives: 1213.0000 - loss: 0.3544\n",
            "Epoch 4/20\n",
            "4525/4525 - 10s - 2ms/step - false_negatives: 2435.0000 - false_positives: 1222.0000 - loss: 0.3491\n",
            "Epoch 5/20\n",
            "4525/4525 - 7s - 1ms/step - false_negatives: 2392.0000 - false_positives: 1244.0000 - loss: 0.3453\n",
            "Epoch 6/20\n",
            "4525/4525 - 7s - 2ms/step - false_negatives: 2395.0000 - false_positives: 1229.0000 - loss: 0.3422\n",
            "Epoch 7/20\n",
            "4525/4525 - 13s - 3ms/step - false_negatives: 2371.0000 - false_positives: 1206.0000 - loss: 0.3394\n",
            "Epoch 8/20\n",
            "4525/4525 - 13s - 3ms/step - false_negatives: 2329.0000 - false_positives: 1225.0000 - loss: 0.3374\n",
            "Epoch 9/20\n",
            "4525/4525 - 15s - 3ms/step - false_negatives: 2317.0000 - false_positives: 1227.0000 - loss: 0.3355\n",
            "Epoch 10/20\n",
            "4525/4525 - 10s - 2ms/step - false_negatives: 2291.0000 - false_positives: 1211.0000 - loss: 0.3340\n",
            "Epoch 11/20\n",
            "4525/4525 - 7s - 1ms/step - false_negatives: 2272.0000 - false_positives: 1222.0000 - loss: 0.3326\n",
            "Epoch 12/20\n",
            "4525/4525 - 8s - 2ms/step - false_negatives: 2275.0000 - false_positives: 1197.0000 - loss: 0.3314\n",
            "Epoch 13/20\n",
            "4525/4525 - 10s - 2ms/step - false_negatives: 2246.0000 - false_positives: 1209.0000 - loss: 0.3305\n",
            "Epoch 14/20\n",
            "4525/4525 - 10s - 2ms/step - false_negatives: 2244.0000 - false_positives: 1211.0000 - loss: 0.3295\n",
            "Epoch 15/20\n",
            "4525/4525 - 10s - 2ms/step - false_negatives: 2238.0000 - false_positives: 1219.0000 - loss: 0.3288\n",
            "Epoch 16/20\n",
            "4525/4525 - 8s - 2ms/step - false_negatives: 2246.0000 - false_positives: 1199.0000 - loss: 0.3280\n",
            "Epoch 17/20\n",
            "4525/4525 - 7s - 1ms/step - false_negatives: 2214.0000 - false_positives: 1208.0000 - loss: 0.3275\n",
            "Epoch 18/20\n",
            "4525/4525 - 7s - 2ms/step - false_negatives: 2220.0000 - false_positives: 1186.0000 - loss: 0.3269\n",
            "Epoch 19/20\n",
            "4525/4525 - 11s - 2ms/step - false_negatives: 2218.0000 - false_positives: 1178.0000 - loss: 0.3265\n",
            "Epoch 20/20\n",
            "4525/4525 - 8s - 2ms/step - false_negatives: 2201.0000 - false_positives: 1189.0000 - loss: 0.3260\n"
          ]
        }
      ]
    },
    {
      "cell_type": "code",
      "source": [
        "# Represent the loss after each epoch in a linegraph.\n",
        "# Pipelines retain an instance of each of the objects in their named_steps:\n",
        "# https://scikit-learn.org/stable/modules/generated/sklearn.pipeline.Pipeline.html\n",
        "loss_per_epoch = simple_pipeline_callback.named_steps['income_predictor_model'].history_['loss']\n",
        "loss_df = {'Epoch #': [i+1 for i in range (num_epochs)], 'Loss Value': loss_per_epoch }\n",
        "seaborn.lineplot (data = pd.DataFrame (loss_df), x = 'Epoch #', y = 'Loss Value')"
      ],
      "metadata": {
        "id": "qKfg8z90Scr0",
        "outputId": "47f64f90-3809-4d15-99de-877cfa69b9a9",
        "colab": {
          "base_uri": "https://localhost:8080/",
          "height": 466
        }
      },
      "execution_count": 29,
      "outputs": [
        {
          "output_type": "execute_result",
          "data": {
            "text/plain": [
              "<Axes: xlabel='Epoch #', ylabel='Loss Value'>"
            ]
          },
          "metadata": {},
          "execution_count": 29
        },
        {
          "output_type": "display_data",
          "data": {
            "text/plain": [
              "<Figure size 640x480 with 1 Axes>"
            ],
            "image/png": "[encoded data removed]"
          },
          "metadata": {}
        }
      ]
    },
    {
      "cell_type": "code",
      "source": [
        "# Represent the number of false positives and false negatives per epoch in a linegraph.\n",
        "false_positives_per_epoch = simple_pipeline_callback.named_steps['income_predictor_model'].history_['false_positives']\n",
        "false_negatives_per_epoch = simple_pipeline_callback.named_steps['income_predictor_model'].history_['false_negatives']\n",
        "line_indicator = ['false positive' for i in range (num_epochs)]\\\n",
        "  + ['false_negative' for i in range (num_epochs)]\n",
        "false_values_df = {\\\n",
        "  'Epoch #': [i+1 for i in range (num_epochs)] * 2,\\\n",
        "  'False Values': false_positives_per_epoch + false_negatives_per_epoch,\\\n",
        "  'Positive or Negative?': line_indicator\n",
        "}\n",
        "seaborn.lineplot (data = false_values_df,\\\n",
        "  x = 'Epoch #', y = 'False Values', hue = 'Positive or Negative?')"
      ],
      "metadata": {
        "colab": {
          "base_uri": "https://localhost:8080/",
          "height": 466
        },
        "id": "2u1yWqpsJiF4",
        "outputId": "ab73e8f9-8cb7-4acc-f2e2-af84b29140e7"
      },
      "execution_count": 30,
      "outputs": [
        {
          "output_type": "execute_result",
          "data": {
            "text/plain": [
              "<Axes: xlabel='Epoch #', ylabel='False Values'>"
            ]
          },
          "metadata": {},
          "execution_count": 30
        },
        {
          "output_type": "display_data",
          "data": {
            "text/plain": [
              "<Figure size 640x480 with 1 Axes>"
            ],
            "image/png": "[encoded data removed]"
          },
          "metadata": {}
        }
      ]
    },
    {
      "cell_type": "code",
      "source": [
        "# Calculate the AUC score of your model on the test data.\n",
        "# Does the model predict better than random?\n",
        "predictions = simple_pipeline.predict (features_test)\n",
        "roc_auc_score (target_test, predictions)"
      ],
      "metadata": {
        "colab": {
          "base_uri": "https://localhost:8080/"
        },
        "id": "DXHo2fw3-y2p",
        "outputId": "92be61d5-9c74-4fde-aa1e-283c13ddd9c2"
      },
      "execution_count": 32,
      "outputs": [
        {
          "output_type": "stream",
          "name": "stdout",
          "text": [
            "1509/1509 - 1s - 926us/step\n"
          ]
        },
        {
          "output_type": "execute_result",
          "data": {
            "text/plain": [
              "np.float64(0.7655963587476162)"
            ]
          },
          "metadata": {},
          "execution_count": 32
        }
      ]
    },
    {
      "cell_type": "markdown",
      "source": [
        "Even our basic neural network performs FAR better than our baseline!  The area under the ROC scores between 0.75-0.77 (each run varies in that range, as opposed to 0.5 for random guessing).  The number of false negatives decreased gradually to convergence over all 20 epochs, but the number of false positives started low, rose dramatically in the second epoch, and slowly converged over the remaining 18 epochs.\n",
        "\n",
        "A perfect AUC score equals 1, meaning a model reaches 100% accuracy for its training data regardless of the internal threshold the model sets to classify each adult's income (0 or 1).\n",
        "\n",
        "We still have ways to go.  Let us try a model with a more sophisticated neural network topology."
      ],
      "metadata": {
        "id": "Ye5PHr0u--cv"
      }
    },
    {
      "cell_type": "code",
      "source": [
        "# Generate an ROC curve for your model.\n",
        "false_positive_rate, true_positive_rate, thresholds = roc_curve (target_test, predictions)\n",
        "draw_my_curve = RocCurveDisplay (\\\n",
        "  fpr = false_positive_rate,\\\n",
        "  tpr = true_positive_rate,\\\n",
        "  roc_auc = auc (false_positive_rate, true_positive_rate),\\\n",
        "  estimator_name = \"Adult Income Predictor ROC Curve\")\n",
        "draw_my_curve.plot()"
      ],
      "metadata": {
        "colab": {
          "base_uri": "https://localhost:8080/",
          "height": 468
        },
        "id": "pdj902p5_Omg",
        "outputId": "25c9bdc4-4b52-4445-84a9-ee6efd8bd59f"
      },
      "execution_count": 33,
      "outputs": [
        {
          "output_type": "execute_result",
          "data": {
            "text/plain": [
              "<sklearn.metrics._plot.roc_curve.RocCurveDisplay at 0x7a811c61c390>"
            ]
          },
          "metadata": {},
          "execution_count": 33
        },
        {
          "output_type": "display_data",
          "data": {
            "text/plain": [
              "<Figure size 640x480 with 1 Axes>"
            ],
            "image/png": "[encoded data removed]"
          },
          "metadata": {}
        }
      ]
    },
    {
      "cell_type": "markdown",
      "source": [
        "A ROC curve with an AUC of 1 would look like the top left corner of a perfect square with a straight vertical line going from (0.0, 0.0) to (0.0, 1.0) and a straight horizontal line going from (0.0, 1.0) to (1.0, 1.0).  The curve in question would resemble a perfect square because that's the only curve in this graph that would have an area of 1."
      ],
      "metadata": {
        "id": "b1YOWV8nTANS"
      }
    },
    {
      "cell_type": "code",
      "source": [
        "# Define the Keras model\n",
        "autoencoder_model = keras.models.Sequential()\n",
        "# KRISTIAN_NOTE - Consecutive input pairs.\n",
        "# Think of this as an input layer on the set of possible feature-pairs.\n",
        "autoencoder_model.add (keras.layers.InputLayer (shape = (features_train.shape[1], )))\n",
        "autoencoder_model.add (keras.layers.Dense (features_train.shape[1]))\n",
        "# Sparse Autoencoder-esque Layer\n",
        "autoencoder_model.add (keras.layers.Dense (features_train.shape[1] * 2, activation = 'relu'))\n",
        "autoencoder_model.add (keras.layers.Dense (features_train.shape[1]))\n",
        "# Output Layer\n",
        "autoencoder_model.add (keras.layers.Dense (1, activation = 'sigmoid'))\n",
        "\n",
        "# Need to compile this model before passing it into the Keras Classifier.\n",
        "# The Pipeline below requires a compiled model or else it will spit out an error\n",
        "# when you try to fit it to the training data.\n",
        "autoencoder_model.compile (\\\n",
        "  optimizer = 'sgd',\\\n",
        "  loss = 'binary_crossentropy',\\\n",
        "  metrics = ['false_negatives', 'false_positives'])"
      ],
      "metadata": {
        "id": "h2xIpLlXQEcx"
      },
      "execution_count": 346,
      "outputs": []
    },
    {
      "cell_type": "markdown",
      "source": [
        "This second neural network is inspired by Karvonen's explanation of sparse autoencoders in this article: https://adamkarvonen.github.io/machine_learning/2024/06/11/sae-intuitions.html\n",
        "\n",
        "I start with an input layer with the same number of neurons as there are feature columns in the dataset.  But I add an identical Dense layer right after it.  Since each of the neurons in the second layer is connected to every neuron in the Input layer, each neuron in this layer is analogous to the Output node from the previous neural network minus the 'sigmoid' activation function.  In other words, a weighted sum of feature correlations flows from the previous layer flows into EACH neuron of the second layer.\n",
        "\n",
        "Our first two layers are a weighted sum of weighted sums of feature correlations flowing into the autoencoder-inspired layer.\n",
        "\n"
      ],
      "metadata": {
        "id": "sw-pLFs58qHU"
      }
    },
    {
      "cell_type": "code",
      "source": [
        "# Create a Keras classifier\n",
        "# KRISTIAN_NOTE - Use more epochs than in the previous model, since a more\n",
        "# complex neural network takes longer to run to convergence.\n",
        "# Use a larger batch size to keep the neural network training fast and prevent overfitting.\n",
        "# Same as the last model, declare binary cross-entropy as the loss and set verbose to 2.\n",
        "adult_income_autoencoder = KerasClassifier (\\\n",
        "  model = autoencoder_model, epochs = num_epochs * 5, batch_size = num_batches * 3,\\\n",
        "  loss = 'binary_crossentropy', verbose = 2)"
      ],
      "metadata": {
        "id": "Rz-m2LhrQGud"
      },
      "execution_count": 347,
      "outputs": []
    },
    {
      "cell_type": "markdown",
      "source": [
        "Note that we are running 100 epochs this time."
      ],
      "metadata": {
        "id": "fqs0fmC4eAWn"
      }
    },
    {
      "cell_type": "code",
      "source": [
        "# Create the scikit-learn pipeline\n",
        "autoencoder_pipeline = Pipeline ([\\\n",
        "  ('all_columns_preparer', all_columns_preparer),\\\n",
        "  ('income_predictor_model', adult_income_autoencoder)])"
      ],
      "metadata": {
        "id": "VKxkil7QQJ6n"
      },
      "execution_count": 348,
      "outputs": []
    },
    {
      "cell_type": "code",
      "source": [
        "# Fit the pipeline on the training data\n",
        "autoencoder_pipeline_callback = autoencoder_pipeline.fit (features_train, target_train)"
      ],
      "metadata": {
        "id": "25O8ZLleGQnk",
        "outputId": "4dde9cb7-9a77-4e00-d4d2-ff7af7611df7",
        "colab": {
          "base_uri": "https://localhost:8080/"
        }
      },
      "execution_count": 349,
      "outputs": [
        {
          "output_type": "stream",
          "name": "stdout",
          "text": [
            "Epoch 1/100\n",
            "1509/1509 - 4s - 2ms/step - false_negatives: 3217.0000 - false_positives: 1123.0000 - loss: 0.4077\n",
            "Epoch 2/100\n",
            "1509/1509 - 6s - 4ms/step - false_negatives: 2517.0000 - false_positives: 1291.0000 - loss: 0.3631\n",
            "Epoch 3/100\n",
            "1509/1509 - 4s - 3ms/step - false_negatives: 2411.0000 - false_positives: 1295.0000 - loss: 0.3532\n",
            "Epoch 4/100\n",
            "1509/1509 - 3s - 2ms/step - false_negatives: 2367.0000 - false_positives: 1339.0000 - loss: 0.3481\n",
            "Epoch 5/100\n",
            "1509/1509 - 6s - 4ms/step - false_negatives: 2310.0000 - false_positives: 1342.0000 - loss: 0.3448\n",
            "Epoch 6/100\n",
            "1509/1509 - 3s - 2ms/step - false_negatives: 2277.0000 - false_positives: 1339.0000 - loss: 0.3417\n",
            "Epoch 7/100\n",
            "1509/1509 - 5s - 3ms/step - false_negatives: 2259.0000 - false_positives: 1358.0000 - loss: 0.3400\n",
            "Epoch 8/100\n",
            "1509/1509 - 3s - 2ms/step - false_negatives: 2268.0000 - false_positives: 1362.0000 - loss: 0.3382\n",
            "Epoch 9/100\n",
            "1509/1509 - 4s - 3ms/step - false_negatives: 2262.0000 - false_positives: 1350.0000 - loss: 0.3370\n",
            "Epoch 10/100\n",
            "1509/1509 - 3s - 2ms/step - false_negatives: 2226.0000 - false_positives: 1384.0000 - loss: 0.3364\n",
            "Epoch 11/100\n",
            "1509/1509 - 6s - 4ms/step - false_negatives: 2207.0000 - false_positives: 1346.0000 - loss: 0.3342\n",
            "Epoch 12/100\n",
            "1509/1509 - 3s - 2ms/step - false_negatives: 2209.0000 - false_positives: 1336.0000 - loss: 0.3328\n",
            "Epoch 13/100\n",
            "1509/1509 - 5s - 3ms/step - false_negatives: 2190.0000 - false_positives: 1317.0000 - loss: 0.3308\n",
            "Epoch 14/100\n",
            "1509/1509 - 3s - 2ms/step - false_negatives: 2161.0000 - false_positives: 1342.0000 - loss: 0.3300\n",
            "Epoch 15/100\n",
            "1509/1509 - 5s - 3ms/step - false_negatives: 2157.0000 - false_positives: 1318.0000 - loss: 0.3292\n",
            "Epoch 16/100\n",
            "1509/1509 - 3s - 2ms/step - false_negatives: 2160.0000 - false_positives: 1358.0000 - loss: 0.3273\n",
            "Epoch 17/100\n",
            "1509/1509 - 6s - 4ms/step - false_negatives: 2127.0000 - false_positives: 1348.0000 - loss: 0.3264\n",
            "Epoch 18/100\n",
            "1509/1509 - 5s - 3ms/step - false_negatives: 2151.0000 - false_positives: 1299.0000 - loss: 0.3248\n",
            "Epoch 19/100\n",
            "1509/1509 - 5s - 3ms/step - false_negatives: 2100.0000 - false_positives: 1348.0000 - loss: 0.3242\n",
            "Epoch 20/100\n",
            "1509/1509 - 3s - 2ms/step - false_negatives: 2122.0000 - false_positives: 1328.0000 - loss: 0.3224\n",
            "Epoch 21/100\n",
            "1509/1509 - 4s - 3ms/step - false_negatives: 2112.0000 - false_positives: 1332.0000 - loss: 0.3209\n",
            "Epoch 22/100\n",
            "1509/1509 - 4s - 2ms/step - false_negatives: 2091.0000 - false_positives: 1301.0000 - loss: 0.3194\n",
            "Epoch 23/100\n",
            "1509/1509 - 5s - 3ms/step - false_negatives: 2061.0000 - false_positives: 1312.0000 - loss: 0.3183\n",
            "Epoch 24/100\n",
            "1509/1509 - 3s - 2ms/step - false_negatives: 2079.0000 - false_positives: 1308.0000 - loss: 0.3170\n",
            "Epoch 25/100\n",
            "1509/1509 - 5s - 3ms/step - false_negatives: 2073.0000 - false_positives: 1272.0000 - loss: 0.3154\n",
            "Epoch 26/100\n",
            "1509/1509 - 6s - 4ms/step - false_negatives: 2020.0000 - false_positives: 1285.0000 - loss: 0.3144\n",
            "Epoch 27/100\n",
            "1509/1509 - 4s - 3ms/step - false_negatives: 2042.0000 - false_positives: 1316.0000 - loss: 0.3133\n",
            "Epoch 28/100\n",
            "1509/1509 - 6s - 4ms/step - false_negatives: 2039.0000 - false_positives: 1294.0000 - loss: 0.3128\n",
            "Epoch 29/100\n",
            "1509/1509 - 5s - 3ms/step - false_negatives: 1989.0000 - false_positives: 1268.0000 - loss: 0.3104\n",
            "Epoch 30/100\n",
            "1509/1509 - 3s - 2ms/step - false_negatives: 2024.0000 - false_positives: 1276.0000 - loss: 0.3104\n",
            "Epoch 31/100\n",
            "1509/1509 - 3s - 2ms/step - false_negatives: 2001.0000 - false_positives: 1279.0000 - loss: 0.3085\n",
            "Epoch 32/100\n",
            "1509/1509 - 3s - 2ms/step - false_negatives: 1980.0000 - false_positives: 1256.0000 - loss: 0.3077\n",
            "Epoch 33/100\n",
            "1509/1509 - 4s - 3ms/step - false_negatives: 2008.0000 - false_positives: 1253.0000 - loss: 0.3080\n",
            "Epoch 34/100\n",
            "1509/1509 - 5s - 3ms/step - false_negatives: 1961.0000 - false_positives: 1260.0000 - loss: 0.3059\n",
            "Epoch 35/100\n",
            "1509/1509 - 4s - 2ms/step - false_negatives: 1976.0000 - false_positives: 1264.0000 - loss: 0.3050\n",
            "Epoch 36/100\n",
            "1509/1509 - 4s - 3ms/step - false_negatives: 1919.0000 - false_positives: 1274.0000 - loss: 0.3040\n",
            "Epoch 37/100\n",
            "1509/1509 - 3s - 2ms/step - false_negatives: 1951.0000 - false_positives: 1265.0000 - loss: 0.3025\n",
            "Epoch 38/100\n",
            "1509/1509 - 6s - 4ms/step - false_negatives: 1969.0000 - false_positives: 1254.0000 - loss: 0.3049\n",
            "Epoch 39/100\n",
            "1509/1509 - 3s - 2ms/step - false_negatives: 1951.0000 - false_positives: 1243.0000 - loss: 0.3021\n",
            "Epoch 40/100\n",
            "1509/1509 - 5s - 3ms/step - false_negatives: 1902.0000 - false_positives: 1236.0000 - loss: 0.3001\n",
            "Epoch 41/100\n",
            "1509/1509 - 6s - 4ms/step - false_negatives: 1931.0000 - false_positives: 1240.0000 - loss: 0.2998\n",
            "Epoch 42/100\n",
            "1509/1509 - 4s - 3ms/step - false_negatives: 1947.0000 - false_positives: 1227.0000 - loss: 0.3013\n",
            "Epoch 43/100\n",
            "1509/1509 - 3s - 2ms/step - false_negatives: 1917.0000 - false_positives: 1236.0000 - loss: 0.2992\n",
            "Epoch 44/100\n",
            "1509/1509 - 3s - 2ms/step - false_negatives: 1935.0000 - false_positives: 1214.0000 - loss: 0.2987\n",
            "Epoch 45/100\n",
            "1509/1509 - 5s - 3ms/step - false_negatives: 1928.0000 - false_positives: 1254.0000 - loss: 0.2980\n",
            "Epoch 46/100\n",
            "1509/1509 - 5s - 3ms/step - false_negatives: 1884.0000 - false_positives: 1216.0000 - loss: 0.2978\n",
            "Epoch 47/100\n",
            "1509/1509 - 5s - 3ms/step - false_negatives: 1884.0000 - false_positives: 1193.0000 - loss: 0.2956\n",
            "Epoch 48/100\n",
            "1509/1509 - 3s - 2ms/step - false_negatives: 1877.0000 - false_positives: 1222.0000 - loss: 0.2960\n",
            "Epoch 49/100\n",
            "1509/1509 - 5s - 3ms/step - false_negatives: 1868.0000 - false_positives: 1207.0000 - loss: 0.2942\n",
            "Epoch 50/100\n",
            "1509/1509 - 5s - 3ms/step - false_negatives: 1885.0000 - false_positives: 1230.0000 - loss: 0.2942\n",
            "Epoch 51/100\n",
            "1509/1509 - 3s - 2ms/step - false_negatives: 1863.0000 - false_positives: 1232.0000 - loss: 0.2928\n",
            "Epoch 52/100\n",
            "1509/1509 - 6s - 4ms/step - false_negatives: 1865.0000 - false_positives: 1241.0000 - loss: 0.2930\n",
            "Epoch 53/100\n",
            "1509/1509 - 3s - 2ms/step - false_negatives: 1886.0000 - false_positives: 1228.0000 - loss: 0.2930\n",
            "Epoch 54/100\n",
            "1509/1509 - 5s - 3ms/step - false_negatives: 1883.0000 - false_positives: 1206.0000 - loss: 0.2917\n",
            "Epoch 55/100\n",
            "1509/1509 - 3s - 2ms/step - false_negatives: 1833.0000 - false_positives: 1222.0000 - loss: 0.2905\n",
            "Epoch 56/100\n",
            "1509/1509 - 5s - 3ms/step - false_negatives: 1811.0000 - false_positives: 1215.0000 - loss: 0.2895\n",
            "Epoch 57/100\n",
            "1509/1509 - 5s - 3ms/step - false_negatives: 1851.0000 - false_positives: 1179.0000 - loss: 0.2890\n",
            "Epoch 58/100\n",
            "1509/1509 - 5s - 4ms/step - false_negatives: 1815.0000 - false_positives: 1211.0000 - loss: 0.2881\n",
            "Epoch 59/100\n",
            "1509/1509 - 5s - 3ms/step - false_negatives: 1849.0000 - false_positives: 1240.0000 - loss: 0.2879\n",
            "Epoch 60/100\n",
            "1509/1509 - 3s - 2ms/step - false_negatives: 1817.0000 - false_positives: 1213.0000 - loss: 0.2869\n",
            "Epoch 61/100\n",
            "1509/1509 - 5s - 3ms/step - false_negatives: 1807.0000 - false_positives: 1207.0000 - loss: 0.2868\n",
            "Epoch 62/100\n",
            "1509/1509 - 3s - 2ms/step - false_negatives: 1791.0000 - false_positives: 1183.0000 - loss: 0.2865\n",
            "Epoch 63/100\n",
            "1509/1509 - 5s - 4ms/step - false_negatives: 1783.0000 - false_positives: 1229.0000 - loss: 0.2852\n",
            "Epoch 64/100\n",
            "1509/1509 - 3s - 2ms/step - false_negatives: 1783.0000 - false_positives: 1210.0000 - loss: 0.2849\n",
            "Epoch 65/100\n",
            "1509/1509 - 3s - 2ms/step - false_negatives: 1789.0000 - false_positives: 1230.0000 - loss: 0.2849\n",
            "Epoch 66/100\n",
            "1509/1509 - 3s - 2ms/step - false_negatives: 1802.0000 - false_positives: 1229.0000 - loss: 0.2852\n",
            "Epoch 67/100\n",
            "1509/1509 - 3s - 2ms/step - false_negatives: 1796.0000 - false_positives: 1199.0000 - loss: 0.2826\n",
            "Epoch 68/100\n",
            "1509/1509 - 3s - 2ms/step - false_negatives: 1791.0000 - false_positives: 1191.0000 - loss: 0.2828\n",
            "Epoch 69/100\n",
            "1509/1509 - 3s - 2ms/step - false_negatives: 1749.0000 - false_positives: 1206.0000 - loss: 0.2825\n",
            "Epoch 70/100\n",
            "1509/1509 - 3s - 2ms/step - false_negatives: 1787.0000 - false_positives: 1213.0000 - loss: 0.2810\n",
            "Epoch 71/100\n",
            "1509/1509 - 5s - 4ms/step - false_negatives: 1759.0000 - false_positives: 1196.0000 - loss: 0.2797\n",
            "Epoch 72/100\n",
            "1509/1509 - 5s - 3ms/step - false_negatives: 1763.0000 - false_positives: 1197.0000 - loss: 0.2800\n",
            "Epoch 73/100\n",
            "1509/1509 - 5s - 3ms/step - false_negatives: 1748.0000 - false_positives: 1189.0000 - loss: 0.2785\n",
            "Epoch 74/100\n",
            "1509/1509 - 5s - 4ms/step - false_negatives: 1771.0000 - false_positives: 1216.0000 - loss: 0.2790\n",
            "Epoch 75/100\n",
            "1509/1509 - 3s - 2ms/step - false_negatives: 1720.0000 - false_positives: 1231.0000 - loss: 0.2780\n",
            "Epoch 76/100\n",
            "1509/1509 - 3s - 2ms/step - false_negatives: 1749.0000 - false_positives: 1168.0000 - loss: 0.2775\n",
            "Epoch 77/100\n",
            "1509/1509 - 6s - 4ms/step - false_negatives: 1743.0000 - false_positives: 1202.0000 - loss: 0.2773\n",
            "Epoch 78/100\n",
            "1509/1509 - 4s - 3ms/step - false_negatives: 1697.0000 - false_positives: 1226.0000 - loss: 0.2758\n",
            "Epoch 79/100\n",
            "1509/1509 - 3s - 2ms/step - false_negatives: 1721.0000 - false_positives: 1189.0000 - loss: 0.2754\n",
            "Epoch 80/100\n",
            "1509/1509 - 6s - 4ms/step - false_negatives: 1708.0000 - false_positives: 1182.0000 - loss: 0.2743\n",
            "Epoch 81/100\n",
            "1509/1509 - 4s - 3ms/step - false_negatives: 1673.0000 - false_positives: 1216.0000 - loss: 0.2752\n",
            "Epoch 82/100\n",
            "1509/1509 - 3s - 2ms/step - false_negatives: 1725.0000 - false_positives: 1198.0000 - loss: 0.2743\n",
            "Epoch 83/100\n",
            "1509/1509 - 6s - 4ms/step - false_negatives: 1723.0000 - false_positives: 1190.0000 - loss: 0.2740\n",
            "Epoch 84/100\n",
            "1509/1509 - 4s - 3ms/step - false_negatives: 1675.0000 - false_positives: 1167.0000 - loss: 0.2723\n",
            "Epoch 85/100\n",
            "1509/1509 - 5s - 3ms/step - false_negatives: 1647.0000 - false_positives: 1208.0000 - loss: 0.2714\n",
            "Epoch 86/100\n",
            "1509/1509 - 3s - 2ms/step - false_negatives: 1696.0000 - false_positives: 1191.0000 - loss: 0.2723\n",
            "Epoch 87/100\n",
            "1509/1509 - 4s - 3ms/step - false_negatives: 1676.0000 - false_positives: 1180.0000 - loss: 0.2700\n",
            "Epoch 88/100\n",
            "1509/1509 - 3s - 2ms/step - false_negatives: 1666.0000 - false_positives: 1194.0000 - loss: 0.2698\n",
            "Epoch 89/100\n",
            "1509/1509 - 6s - 4ms/step - false_negatives: 1685.0000 - false_positives: 1185.0000 - loss: 0.2713\n",
            "Epoch 90/100\n",
            "1509/1509 - 3s - 2ms/step - false_negatives: 1730.0000 - false_positives: 1212.0000 - loss: 0.2695\n",
            "Epoch 91/100\n",
            "1509/1509 - 5s - 3ms/step - false_negatives: 1664.0000 - false_positives: 1189.0000 - loss: 0.2685\n",
            "Epoch 92/100\n",
            "1509/1509 - 5s - 4ms/step - false_negatives: 1623.0000 - false_positives: 1140.0000 - loss: 0.2679\n",
            "Epoch 93/100\n",
            "1509/1509 - 5s - 3ms/step - false_negatives: 1678.0000 - false_positives: 1190.0000 - loss: 0.2672\n",
            "Epoch 94/100\n",
            "1509/1509 - 6s - 4ms/step - false_negatives: 1664.0000 - false_positives: 1173.0000 - loss: 0.2672\n",
            "Epoch 95/100\n",
            "1509/1509 - 3s - 2ms/step - false_negatives: 1635.0000 - false_positives: 1197.0000 - loss: 0.2659\n",
            "Epoch 96/100\n",
            "1509/1509 - 5s - 3ms/step - false_negatives: 1649.0000 - false_positives: 1153.0000 - loss: 0.2652\n",
            "Epoch 97/100\n",
            "1509/1509 - 6s - 4ms/step - false_negatives: 1590.0000 - false_positives: 1173.0000 - loss: 0.2659\n",
            "Epoch 98/100\n",
            "1509/1509 - 4s - 3ms/step - false_negatives: 1634.0000 - false_positives: 1179.0000 - loss: 0.2648\n",
            "Epoch 99/100\n",
            "1509/1509 - 3s - 2ms/step - false_negatives: 1648.0000 - false_positives: 1162.0000 - loss: 0.2646\n",
            "Epoch 100/100\n",
            "1509/1509 - 3s - 2ms/step - false_negatives: 1625.0000 - false_positives: 1137.0000 - loss: 0.2624\n"
          ]
        }
      ]
    },
    {
      "cell_type": "code",
      "source": [
        "# Just like with the previous model, plot the loss value at the end of each epoch.\n",
        "autoencoder_losses = autoencoder_pipeline_callback.named_steps['income_predictor_model'].history_['loss']\n",
        "# This time, we ran the model over 100 epochs.\n",
        "loss_df = {'Epoch #': [i+1 for i in range (num_epochs * 5)], 'Loss Value': autoencoder_losses }\n",
        "seaborn.lineplot (data = pd.DataFrame (loss_df), x = 'Epoch #', y = 'Loss Value')"
      ],
      "metadata": {
        "id": "YJ57pKWtUuB-",
        "outputId": "6d08a5c3-842b-4021-ed06-f785ff219a3c",
        "colab": {
          "base_uri": "https://localhost:8080/",
          "height": 466
        }
      },
      "execution_count": 352,
      "outputs": [
        {
          "output_type": "execute_result",
          "data": {
            "text/plain": [
              "<Axes: xlabel='Epoch #', ylabel='Loss Value'>"
            ]
          },
          "metadata": {},
          "execution_count": 352
        },
        {
          "output_type": "display_data",
          "data": {
            "text/plain": [
              "<Figure size 640x480 with 1 Axes>"
            ],
            "image/png": "[encoded data removed]"
          },
          "metadata": {}
        }
      ]
    },
    {
      "cell_type": "code",
      "source": [
        "# Represent the number of false positives and false negatives per epoch in a linegraph.\n",
        "autoencoder_false_positives = autoencoder_pipeline_callback.named_steps['income_predictor_model'].history_['false_positives']\n",
        "autoencoder_false_negatives = autoencoder_pipeline_callback.named_steps['income_predictor_model'].history_['false_negatives']\n",
        "another_line_indicator = ['false positive' for i in range (num_epochs * 5)]\\\n",
        "  + ['false_negative' for i in range (num_epochs * 5)]\n",
        "autoencoder_false_values_df = {\\\n",
        "  'Epoch #': [i+1 for i in range (num_epochs * 5)] * 2,\\\n",
        "  'False Values': autoencoder_false_positives + autoencoder_false_negatives,\\\n",
        "  'Positive or Negative?': another_line_indicator\n",
        "}\n",
        "seaborn.lineplot (data = autoencoder_false_values_df,\\\n",
        "  x = 'Epoch #', y = 'False Values', hue = 'Positive or Negative?')"
      ],
      "metadata": {
        "id": "6kYPsr3GbgX4",
        "outputId": "39449d9f-c4d9-43d9-de11-7e1729361b6d",
        "colab": {
          "base_uri": "https://localhost:8080/",
          "height": 466
        }
      },
      "execution_count": 353,
      "outputs": [
        {
          "output_type": "execute_result",
          "data": {
            "text/plain": [
              "<Axes: xlabel='Epoch #', ylabel='False Values'>"
            ]
          },
          "metadata": {},
          "execution_count": 353
        },
        {
          "output_type": "display_data",
          "data": {
            "text/plain": [
              "<Figure size 640x480 with 1 Axes>"
            ],
            "image/png": "[encoded data removed]"
          },
          "metadata": {}
        }
      ]
    },
    {
      "cell_type": "markdown",
      "source": [
        "Even after 100 epochs, the number of false positives and false negatives continue to vascillate, but less and less towards the final epoch.  There is a gradual decrease in both even with the vascillations taken to account."
      ],
      "metadata": {
        "id": "BsKuI2JacS-s"
      }
    },
    {
      "cell_type": "code",
      "source": [
        "# Calculate the AUC score of your model on the test data.\n",
        "# Does the model predict better than random?\n",
        "predictions = autoencoder_pipeline.predict (features_test)\n",
        "roc_auc_score (target_test, predictions)"
      ],
      "metadata": {
        "id": "SLcNQGVqNYbB",
        "outputId": "b939183b-af97-422e-864c-b21828cb712f",
        "colab": {
          "base_uri": "https://localhost:8080/"
        }
      },
      "execution_count": 350,
      "outputs": [
        {
          "output_type": "stream",
          "name": "stdout",
          "text": [
            "503/503 - 1s - 1ms/step\n"
          ]
        },
        {
          "output_type": "execute_result",
          "data": {
            "text/plain": [
              "np.float64(0.7902314203759505)"
            ]
          },
          "metadata": {},
          "execution_count": 350
        }
      ]
    },
    {
      "cell_type": "markdown",
      "source": [
        "My autoencoder-inspired neural network performs with mixed results with AUC values ranging up to 0.81 with most (but not all) results yielding an AUC above 0.74.  My latest run yields an AUC of 0.79.  This is because it uses Stochastic Gradient Descent as its optimizer instead of Adam.  The fixed learning rate makes the model less consistent but with the potential to outperform Adam under the right circumstances."
      ],
      "metadata": {
        "id": "4U_V3k_xcr4G"
      }
    },
    {
      "cell_type": "code",
      "source": [
        "# Generate an ROC curve for your model.\n",
        "other_false_positive_rate, other_true_positive_rate, other_thresholds = roc_curve (target_test, predictions)\n",
        "draw_my_better_curve = RocCurveDisplay (\\\n",
        "  fpr = other_false_positive_rate,\\\n",
        "  tpr = other_true_positive_rate,\\\n",
        "  roc_auc = auc (other_false_positive_rate, other_true_positive_rate),\\\n",
        "  estimator_name = \"Adult Income Predictor ROC Curve\")\n",
        "draw_my_better_curve.plot()"
      ],
      "metadata": {
        "id": "prJG9pr7PYIc",
        "outputId": "0ff719a5-fa79-48bd-f0b7-080581e02e71",
        "colab": {
          "base_uri": "https://localhost:8080/",
          "height": 468
        }
      },
      "execution_count": 354,
      "outputs": [
        {
          "output_type": "execute_result",
          "data": {
            "text/plain": [
              "<sklearn.metrics._plot.roc_curve.RocCurveDisplay at 0x7a809489b010>"
            ]
          },
          "metadata": {},
          "execution_count": 354
        },
        {
          "output_type": "display_data",
          "data": {
            "text/plain": [
              "<Figure size 640x480 with 1 Axes>"
            ],
            "image/png": "[encoded data removed]"
          },
          "metadata": {}
        }
      ]
    },
    {
      "cell_type": "markdown",
      "source": [
        "The most surprising part of this project for me was how little the neural network topology impacted the effectiveness of the model.  My more complex neural network did not always outperform my simpler one, but even when it did, it was not by much.\n",
        "\n",
        "The choice of optimizer for my neural networks was difficult and made a huge difference in the results.  I noticed a difference of over 0.1 between 'adadelta' and 'adam' in the same network with the same number of epochs.  Knowing my chosen optimizer intuitively helped me make sense of the performance to each of my models.  ADAM fared better for my simpler model, but stochastic gradient descent made much of the AUC difference in my more complex one.\n",
        "\n",
        "Activation functions have their place, but cramming one in each layer of a network creates unnecessary noise in the training process and leads to less accurate models.  Meaningful placement of activation functions in key layers yields better AUC scores for each model, in my experience.\n",
        "\n",
        "Old rules of thumb do not apply like they used to, and knowing one's data is crucial to implementing a strong neural network for it.  The only best practice is, well, to practice: https://www.reddit.com/r/learnmachinelearning/comments/1fq6513/how_many_parameters_are_appropriate_for_a_neural/\n",
        "\n",
        "I look forward to my next challenge."
      ],
      "metadata": {
        "id": "th9DOj0hnwv7"
      }
    }
  ]
}