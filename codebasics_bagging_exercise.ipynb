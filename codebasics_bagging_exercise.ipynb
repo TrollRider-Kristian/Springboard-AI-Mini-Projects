{
  "nbformat": 4,
  "nbformat_minor": 0,
  "metadata": {
    "colab": {
      "provenance": [],
      "authorship_tag": "ABX9TyPb5S6ZF/Db/aelnorqCPc5",
      "include_colab_link": true
    },
    "kernelspec": {
      "name": "python3",
      "display_name": "Python 3"
    },
    "language_info": {
      "name": "python"
    }
  },
  "cells": [
    {
      "cell_type": "markdown",
      "metadata": {
        "id": "view-in-github",
        "colab_type": "text"
      },
      "source": [
        "<a href=\"https://colab.research.google.com/github/TrollRider-Kristian/Springboard-AI-Mini-Projects/blob/main/codebasics_bagging_exercise.ipynb\" target=\"_parent\"><img src=\"https://colab.research.google.com/assets/colab-badge.svg\" alt=\"Open In Colab\"/></a>"
      ]
    },
    {
      "cell_type": "code",
      "execution_count": 20,
      "metadata": {
        "colab": {
          "base_uri": "https://localhost:8080/"
        },
        "id": "-KSDQYEYqJ0A",
        "outputId": "d098e07f-3365-446c-efc7-f6372a6808a5"
      },
      "outputs": [
        {
          "output_type": "stream",
          "name": "stdout",
          "text": [
            "   Age Sex ChestPainType  RestingBP  Cholesterol  FastingBS RestingECG  MaxHR  \\\n",
            "0   40   M           ATA        140          289          0     Normal    172   \n",
            "1   49   F           NAP        160          180          0     Normal    156   \n",
            "2   37   M           ATA        130          283          0         ST     98   \n",
            "3   48   F           ASY        138          214          0     Normal    108   \n",
            "4   54   M           NAP        150          195          0     Normal    122   \n",
            "5   39   M           NAP        120          339          0     Normal    170   \n",
            "6   45   F           ATA        130          237          0     Normal    170   \n",
            "7   54   M           ATA        110          208          0     Normal    142   \n",
            "8   37   M           ASY        140          207          0     Normal    130   \n",
            "9   48   F           ATA        120          284          0     Normal    120   \n",
            "\n",
            "  ExerciseAngina  Oldpeak ST_Slope  HeartDisease  \n",
            "0              N      0.0       Up             0  \n",
            "1              N      1.0     Flat             1  \n",
            "2              N      0.0       Up             0  \n",
            "3              Y      1.5     Flat             1  \n",
            "4              N      0.0       Up             0  \n",
            "5              N      0.0       Up             0  \n",
            "6              N      0.0       Up             0  \n",
            "7              N      0.0       Up             0  \n",
            "8              Y      1.5     Flat             1  \n",
            "9              N      0.0       Up             0  \n"
          ]
        }
      ],
      "source": [
        "import pandas\n",
        "import seaborn\n",
        "from sklearn.ensemble import BaggingClassifier\n",
        "from sklearn.model_selection import cross_val_score, train_test_split\n",
        "from sklearn.preprocessing import OneHotEncoder, StandardScaler\n",
        "from sklearn.svm import SVC\n",
        "from sklearn.tree import DecisionTreeClassifier\n",
        "\n",
        "# Force Pandas to display ALL columns when I call the .head function\n",
        "# https://stackoverflow.com/questions/11361985/output-data-from-all-columns-in-a-dataframe-in-pandas\n",
        "pandas.set_option ('display.max_columns', None)\n",
        "heart_disease_raw = pandas.read_csv (\"heart-disease.csv\")\n",
        "print (heart_disease_raw.head(10))"
      ]
    },
    {
      "cell_type": "markdown",
      "source": [
        "Per the describe() call, all the quantifiable columns with means and standard deviations for which a Z-score exists are: Age, RestingBP, Cholesterol, FastingBS, MaxHR, and Oldpeak. We omit the target 'HeartDisease' column."
      ],
      "metadata": {
        "id": "njG0_qq8TThh"
      }
    },
    {
      "cell_type": "code",
      "source": [
        "heart_disease_raw.isnull().sum()"
      ],
      "metadata": {
        "colab": {
          "base_uri": "https://localhost:8080/",
          "height": 460
        },
        "id": "2n7WLc8J6ucJ",
        "outputId": "92061d87-b4d4-4735-b39b-b3cd759c94b4"
      },
      "execution_count": 2,
      "outputs": [
        {
          "output_type": "execute_result",
          "data": {
            "text/plain": [
              "Age               0\n",
              "Sex               0\n",
              "ChestPainType     0\n",
              "RestingBP         0\n",
              "Cholesterol       0\n",
              "FastingBS         0\n",
              "RestingECG        0\n",
              "MaxHR             0\n",
              "ExerciseAngina    0\n",
              "Oldpeak           0\n",
              "ST_Slope          0\n",
              "HeartDisease      0\n",
              "dtype: int64"
            ],
            "text/html": [
              "<div>\n",
              "<style scoped>\n",
              "    .dataframe tbody tr th:only-of-type {\n",
              "        vertical-align: middle;\n",
              "    }\n",
              "\n",
              "    .dataframe tbody tr th {\n",
              "        vertical-align: top;\n",
              "    }\n",
              "\n",
              "    .dataframe thead th {\n",
              "        text-align: right;\n",
              "    }\n",
              "</style>\n",
              "<table border=\"1\" class=\"dataframe\">\n",
              "  <thead>\n",
              "    <tr style=\"text-align: right;\">\n",
              "      <th></th>\n",
              "      <th>0</th>\n",
              "    </tr>\n",
              "  </thead>\n",
              "  <tbody>\n",
              "    <tr>\n",
              "      <th>Age</th>\n",
              "      <td>0</td>\n",
              "    </tr>\n",
              "    <tr>\n",
              "      <th>Sex</th>\n",
              "      <td>0</td>\n",
              "    </tr>\n",
              "    <tr>\n",
              "      <th>ChestPainType</th>\n",
              "      <td>0</td>\n",
              "    </tr>\n",
              "    <tr>\n",
              "      <th>RestingBP</th>\n",
              "      <td>0</td>\n",
              "    </tr>\n",
              "    <tr>\n",
              "      <th>Cholesterol</th>\n",
              "      <td>0</td>\n",
              "    </tr>\n",
              "    <tr>\n",
              "      <th>FastingBS</th>\n",
              "      <td>0</td>\n",
              "    </tr>\n",
              "    <tr>\n",
              "      <th>RestingECG</th>\n",
              "      <td>0</td>\n",
              "    </tr>\n",
              "    <tr>\n",
              "      <th>MaxHR</th>\n",
              "      <td>0</td>\n",
              "    </tr>\n",
              "    <tr>\n",
              "      <th>ExerciseAngina</th>\n",
              "      <td>0</td>\n",
              "    </tr>\n",
              "    <tr>\n",
              "      <th>Oldpeak</th>\n",
              "      <td>0</td>\n",
              "    </tr>\n",
              "    <tr>\n",
              "      <th>ST_Slope</th>\n",
              "      <td>0</td>\n",
              "    </tr>\n",
              "    <tr>\n",
              "      <th>HeartDisease</th>\n",
              "      <td>0</td>\n",
              "    </tr>\n",
              "  </tbody>\n",
              "</table>\n",
              "</div><br><label><b>dtype:</b> int64</label>"
            ]
          },
          "metadata": {},
          "execution_count": 2
        }
      ]
    },
    {
      "cell_type": "code",
      "source": [
        "heart_disease_raw.describe()"
      ],
      "metadata": {
        "colab": {
          "base_uri": "https://localhost:8080/",
          "height": 300
        },
        "id": "7N8jINGniyhW",
        "outputId": "8e281873-2745-4cd9-f06f-bb8832b8d3b6"
      },
      "execution_count": 3,
      "outputs": [
        {
          "output_type": "execute_result",
          "data": {
            "text/plain": [
              "              Age   RestingBP  Cholesterol   FastingBS       MaxHR  \\\n",
              "count  918.000000  918.000000   918.000000  918.000000  918.000000   \n",
              "mean    53.510893  132.396514   198.799564    0.233115  136.809368   \n",
              "std      9.432617   18.514154   109.384145    0.423046   25.460334   \n",
              "min     28.000000    0.000000     0.000000    0.000000   60.000000   \n",
              "25%     47.000000  120.000000   173.250000    0.000000  120.000000   \n",
              "50%     54.000000  130.000000   223.000000    0.000000  138.000000   \n",
              "75%     60.000000  140.000000   267.000000    0.000000  156.000000   \n",
              "max     77.000000  200.000000   603.000000    1.000000  202.000000   \n",
              "\n",
              "          Oldpeak  HeartDisease  \n",
              "count  918.000000    918.000000  \n",
              "mean     0.887364      0.553377  \n",
              "std      1.066570      0.497414  \n",
              "min     -2.600000      0.000000  \n",
              "25%      0.000000      0.000000  \n",
              "50%      0.600000      1.000000  \n",
              "75%      1.500000      1.000000  \n",
              "max      6.200000      1.000000  "
            ],
            "text/html": [
              "\n",
              "  <div id=\"df-b1bebc7f-ed90-4862-ab87-c49eaed1ab5d\" class=\"colab-df-container\">\n",
              "    <div>\n",
              "<style scoped>\n",
              "    .dataframe tbody tr th:only-of-type {\n",
              "        vertical-align: middle;\n",
              "    }\n",
              "\n",
              "    .dataframe tbody tr th {\n",
              "        vertical-align: top;\n",
              "    }\n",
              "\n",
              "    .dataframe thead th {\n",
              "        text-align: right;\n",
              "    }\n",
              "</style>\n",
              "<table border=\"1\" class=\"dataframe\">\n",
              "  <thead>\n",
              "    <tr style=\"text-align: right;\">\n",
              "      <th></th>\n",
              "      <th>Age</th>\n",
              "      <th>RestingBP</th>\n",
              "      <th>Cholesterol</th>\n",
              "      <th>FastingBS</th>\n",
              "      <th>MaxHR</th>\n",
              "      <th>Oldpeak</th>\n",
              "      <th>HeartDisease</th>\n",
              "    </tr>\n",
              "  </thead>\n",
              "  <tbody>\n",
              "    <tr>\n",
              "      <th>count</th>\n",
              "      <td>918.000000</td>\n",
              "      <td>918.000000</td>\n",
              "      <td>918.000000</td>\n",
              "      <td>918.000000</td>\n",
              "      <td>918.000000</td>\n",
              "      <td>918.000000</td>\n",
              "      <td>918.000000</td>\n",
              "    </tr>\n",
              "    <tr>\n",
              "      <th>mean</th>\n",
              "      <td>53.510893</td>\n",
              "      <td>132.396514</td>\n",
              "      <td>198.799564</td>\n",
              "      <td>0.233115</td>\n",
              "      <td>136.809368</td>\n",
              "      <td>0.887364</td>\n",
              "      <td>0.553377</td>\n",
              "    </tr>\n",
              "    <tr>\n",
              "      <th>std</th>\n",
              "      <td>9.432617</td>\n",
              "      <td>18.514154</td>\n",
              "      <td>109.384145</td>\n",
              "      <td>0.423046</td>\n",
              "      <td>25.460334</td>\n",
              "      <td>1.066570</td>\n",
              "      <td>0.497414</td>\n",
              "    </tr>\n",
              "    <tr>\n",
              "      <th>min</th>\n",
              "      <td>28.000000</td>\n",
              "      <td>0.000000</td>\n",
              "      <td>0.000000</td>\n",
              "      <td>0.000000</td>\n",
              "      <td>60.000000</td>\n",
              "      <td>-2.600000</td>\n",
              "      <td>0.000000</td>\n",
              "    </tr>\n",
              "    <tr>\n",
              "      <th>25%</th>\n",
              "      <td>47.000000</td>\n",
              "      <td>120.000000</td>\n",
              "      <td>173.250000</td>\n",
              "      <td>0.000000</td>\n",
              "      <td>120.000000</td>\n",
              "      <td>0.000000</td>\n",
              "      <td>0.000000</td>\n",
              "    </tr>\n",
              "    <tr>\n",
              "      <th>50%</th>\n",
              "      <td>54.000000</td>\n",
              "      <td>130.000000</td>\n",
              "      <td>223.000000</td>\n",
              "      <td>0.000000</td>\n",
              "      <td>138.000000</td>\n",
              "      <td>0.600000</td>\n",
              "      <td>1.000000</td>\n",
              "    </tr>\n",
              "    <tr>\n",
              "      <th>75%</th>\n",
              "      <td>60.000000</td>\n",
              "      <td>140.000000</td>\n",
              "      <td>267.000000</td>\n",
              "      <td>0.000000</td>\n",
              "      <td>156.000000</td>\n",
              "      <td>1.500000</td>\n",
              "      <td>1.000000</td>\n",
              "    </tr>\n",
              "    <tr>\n",
              "      <th>max</th>\n",
              "      <td>77.000000</td>\n",
              "      <td>200.000000</td>\n",
              "      <td>603.000000</td>\n",
              "      <td>1.000000</td>\n",
              "      <td>202.000000</td>\n",
              "      <td>6.200000</td>\n",
              "      <td>1.000000</td>\n",
              "    </tr>\n",
              "  </tbody>\n",
              "</table>\n",
              "</div>\n",
              "    <div class=\"colab-df-buttons\">\n",
              "\n",
              "  <div class=\"colab-df-container\">\n",
              "    <button class=\"colab-df-convert\" onclick=\"convertToInteractive('df-b1bebc7f-ed90-4862-ab87-c49eaed1ab5d')\"\n",
              "            title=\"Convert this dataframe to an interactive table.\"\n",
              "            style=\"display:none;\">\n",
              "\n",
              "  <svg xmlns=\"http://www.w3.org/2000/svg\" height=\"24px\" viewBox=\"0 -960 960 960\">\n",
              "    <path d=\"M120-120v-720h720v720H120Zm60-500h600v-160H180v160Zm220 220h160v-160H400v160Zm0 220h160v-160H400v160ZM180-400h160v-160H180v160Zm440 0h160v-160H620v160ZM180-180h160v-160H180v160Zm440 0h160v-160H620v160Z\"/>\n",
              "  </svg>\n",
              "    </button>\n",
              "\n",
              "  <style>\n",
              "    .colab-df-container {\n",
              "      display:flex;\n",
              "      gap: 12px;\n",
              "    }\n",
              "\n",
              "    .colab-df-convert {\n",
              "      background-color: #E8F0FE;\n",
              "      border: none;\n",
              "      border-radius: 50%;\n",
              "      cursor: pointer;\n",
              "      display: none;\n",
              "      fill: #1967D2;\n",
              "      height: 32px;\n",
              "      padding: 0 0 0 0;\n",
              "      width: 32px;\n",
              "    }\n",
              "\n",
              "    .colab-df-convert:hover {\n",
              "      background-color: #E2EBFA;\n",
              "      box-shadow: 0px 1px 2px rgba(60, 64, 67, 0.3), 0px 1px 3px 1px rgba(60, 64, 67, 0.15);\n",
              "      fill: #174EA6;\n",
              "    }\n",
              "\n",
              "    .colab-df-buttons div {\n",
              "      margin-bottom: 4px;\n",
              "    }\n",
              "\n",
              "    [theme=dark] .colab-df-convert {\n",
              "      background-color: #3B4455;\n",
              "      fill: #D2E3FC;\n",
              "    }\n",
              "\n",
              "    [theme=dark] .colab-df-convert:hover {\n",
              "      background-color: #434B5C;\n",
              "      box-shadow: 0px 1px 3px 1px rgba(0, 0, 0, 0.15);\n",
              "      filter: drop-shadow(0px 1px 2px rgba(0, 0, 0, 0.3));\n",
              "      fill: #FFFFFF;\n",
              "    }\n",
              "  </style>\n",
              "\n",
              "    <script>\n",
              "      const buttonEl =\n",
              "        document.querySelector('#df-b1bebc7f-ed90-4862-ab87-c49eaed1ab5d button.colab-df-convert');\n",
              "      buttonEl.style.display =\n",
              "        google.colab.kernel.accessAllowed ? 'block' : 'none';\n",
              "\n",
              "      async function convertToInteractive(key) {\n",
              "        const element = document.querySelector('#df-b1bebc7f-ed90-4862-ab87-c49eaed1ab5d');\n",
              "        const dataTable =\n",
              "          await google.colab.kernel.invokeFunction('convertToInteractive',\n",
              "                                                    [key], {});\n",
              "        if (!dataTable) return;\n",
              "\n",
              "        const docLinkHtml = 'Like what you see? Visit the ' +\n",
              "          '<a target=\"_blank\" href=https://colab.research.google.com/notebooks/data_table.ipynb>data table notebook</a>'\n",
              "          + ' to learn more about interactive tables.';\n",
              "        element.innerHTML = '';\n",
              "        dataTable['output_type'] = 'display_data';\n",
              "        await google.colab.output.renderOutput(dataTable, element);\n",
              "        const docLink = document.createElement('div');\n",
              "        docLink.innerHTML = docLinkHtml;\n",
              "        element.appendChild(docLink);\n",
              "      }\n",
              "    </script>\n",
              "  </div>\n",
              "\n",
              "\n",
              "<div id=\"df-2c4e3e1e-21c3-4435-8d85-e967fd4624c0\">\n",
              "  <button class=\"colab-df-quickchart\" onclick=\"quickchart('df-2c4e3e1e-21c3-4435-8d85-e967fd4624c0')\"\n",
              "            title=\"Suggest charts\"\n",
              "            style=\"display:none;\">\n",
              "\n",
              "<svg xmlns=\"http://www.w3.org/2000/svg\" height=\"24px\"viewBox=\"0 0 24 24\"\n",
              "     width=\"24px\">\n",
              "    <g>\n",
              "        <path d=\"M19 3H5c-1.1 0-2 .9-2 2v14c0 1.1.9 2 2 2h14c1.1 0 2-.9 2-2V5c0-1.1-.9-2-2-2zM9 17H7v-7h2v7zm4 0h-2V7h2v10zm4 0h-2v-4h2v4z\"/>\n",
              "    </g>\n",
              "</svg>\n",
              "  </button>\n",
              "\n",
              "<style>\n",
              "  .colab-df-quickchart {\n",
              "      --bg-color: #E8F0FE;\n",
              "      --fill-color: #1967D2;\n",
              "      --hover-bg-color: #E2EBFA;\n",
              "      --hover-fill-color: #174EA6;\n",
              "      --disabled-fill-color: #AAA;\n",
              "      --disabled-bg-color: #DDD;\n",
              "  }\n",
              "\n",
              "  [theme=dark] .colab-df-quickchart {\n",
              "      --bg-color: #3B4455;\n",
              "      --fill-color: #D2E3FC;\n",
              "      --hover-bg-color: #434B5C;\n",
              "      --hover-fill-color: #FFFFFF;\n",
              "      --disabled-bg-color: #3B4455;\n",
              "      --disabled-fill-color: #666;\n",
              "  }\n",
              "\n",
              "  .colab-df-quickchart {\n",
              "    background-color: var(--bg-color);\n",
              "    border: none;\n",
              "    border-radius: 50%;\n",
              "    cursor: pointer;\n",
              "    display: none;\n",
              "    fill: var(--fill-color);\n",
              "    height: 32px;\n",
              "    padding: 0;\n",
              "    width: 32px;\n",
              "  }\n",
              "\n",
              "  .colab-df-quickchart:hover {\n",
              "    background-color: var(--hover-bg-color);\n",
              "    box-shadow: 0 1px 2px rgba(60, 64, 67, 0.3), 0 1px 3px 1px rgba(60, 64, 67, 0.15);\n",
              "    fill: var(--button-hover-fill-color);\n",
              "  }\n",
              "\n",
              "  .colab-df-quickchart-complete:disabled,\n",
              "  .colab-df-quickchart-complete:disabled:hover {\n",
              "    background-color: var(--disabled-bg-color);\n",
              "    fill: var(--disabled-fill-color);\n",
              "    box-shadow: none;\n",
              "  }\n",
              "\n",
              "  .colab-df-spinner {\n",
              "    border: 2px solid var(--fill-color);\n",
              "    border-color: transparent;\n",
              "    border-bottom-color: var(--fill-color);\n",
              "    animation:\n",
              "      spin 1s steps(1) infinite;\n",
              "  }\n",
              "\n",
              "  @keyframes spin {\n",
              "    0% {\n",
              "      border-color: transparent;\n",
              "      border-bottom-color: var(--fill-color);\n",
              "      border-left-color: var(--fill-color);\n",
              "    }\n",
              "    20% {\n",
              "      border-color: transparent;\n",
              "      border-left-color: var(--fill-color);\n",
              "      border-top-color: var(--fill-color);\n",
              "    }\n",
              "    30% {\n",
              "      border-color: transparent;\n",
              "      border-left-color: var(--fill-color);\n",
              "      border-top-color: var(--fill-color);\n",
              "      border-right-color: var(--fill-color);\n",
              "    }\n",
              "    40% {\n",
              "      border-color: transparent;\n",
              "      border-right-color: var(--fill-color);\n",
              "      border-top-color: var(--fill-color);\n",
              "    }\n",
              "    60% {\n",
              "      border-color: transparent;\n",
              "      border-right-color: var(--fill-color);\n",
              "    }\n",
              "    80% {\n",
              "      border-color: transparent;\n",
              "      border-right-color: var(--fill-color);\n",
              "      border-bottom-color: var(--fill-color);\n",
              "    }\n",
              "    90% {\n",
              "      border-color: transparent;\n",
              "      border-bottom-color: var(--fill-color);\n",
              "    }\n",
              "  }\n",
              "</style>\n",
              "\n",
              "  <script>\n",
              "    async function quickchart(key) {\n",
              "      const quickchartButtonEl =\n",
              "        document.querySelector('#' + key + ' button');\n",
              "      quickchartButtonEl.disabled = true;  // To prevent multiple clicks.\n",
              "      quickchartButtonEl.classList.add('colab-df-spinner');\n",
              "      try {\n",
              "        const charts = await google.colab.kernel.invokeFunction(\n",
              "            'suggestCharts', [key], {});\n",
              "      } catch (error) {\n",
              "        console.error('Error during call to suggestCharts:', error);\n",
              "      }\n",
              "      quickchartButtonEl.classList.remove('colab-df-spinner');\n",
              "      quickchartButtonEl.classList.add('colab-df-quickchart-complete');\n",
              "    }\n",
              "    (() => {\n",
              "      let quickchartButtonEl =\n",
              "        document.querySelector('#df-2c4e3e1e-21c3-4435-8d85-e967fd4624c0 button');\n",
              "      quickchartButtonEl.style.display =\n",
              "        google.colab.kernel.accessAllowed ? 'block' : 'none';\n",
              "    })();\n",
              "  </script>\n",
              "</div>\n",
              "\n",
              "    </div>\n",
              "  </div>\n"
            ],
            "application/vnd.google.colaboratory.intrinsic+json": {
              "type": "dataframe",
              "summary": "{\n  \"name\": \"heart_disease_raw\",\n  \"rows\": 8,\n  \"fields\": [\n    {\n      \"column\": \"Age\",\n      \"properties\": {\n        \"dtype\": \"number\",\n        \"std\": 308.627347039806,\n        \"min\": 9.432616506732007,\n        \"max\": 918.0,\n        \"num_unique_values\": 8,\n        \"samples\": [\n          53.510893246187365,\n          54.0,\n          918.0\n        ],\n        \"semantic_type\": \"\",\n        \"description\": \"\"\n      }\n    },\n    {\n      \"column\": \"RestingBP\",\n      \"properties\": {\n        \"dtype\": \"number\",\n        \"std\": 294.5935541913639,\n        \"min\": 0.0,\n        \"max\": 918.0,\n        \"num_unique_values\": 8,\n        \"samples\": [\n          132.39651416122004,\n          130.0,\n          918.0\n        ],\n        \"semantic_type\": \"\",\n        \"description\": \"\"\n      }\n    },\n    {\n      \"column\": \"Cholesterol\",\n      \"properties\": {\n        \"dtype\": \"number\",\n        \"std\": 300.55294190735805,\n        \"min\": 0.0,\n        \"max\": 918.0,\n        \"num_unique_values\": 8,\n        \"samples\": [\n          198.7995642701525,\n          223.0,\n          918.0\n        ],\n        \"semantic_type\": \"\",\n        \"description\": \"\"\n      }\n    },\n    {\n      \"column\": \"FastingBS\",\n      \"properties\": {\n        \"dtype\": \"number\",\n        \"std\": 324.4785490336432,\n        \"min\": 0.0,\n        \"max\": 918.0,\n        \"num_unique_values\": 5,\n        \"samples\": [\n          0.23311546840958605,\n          1.0,\n          0.423045624739302\n        ],\n        \"semantic_type\": \"\",\n        \"description\": \"\"\n      }\n    },\n    {\n      \"column\": \"MaxHR\",\n      \"properties\": {\n        \"dtype\": \"number\",\n        \"std\": 287.52953225319146,\n        \"min\": 25.460334138250293,\n        \"max\": 918.0,\n        \"num_unique_values\": 8,\n        \"samples\": [\n          136.80936819172112,\n          138.0,\n          918.0\n        ],\n        \"semantic_type\": \"\",\n        \"description\": \"\"\n      }\n    },\n    {\n      \"column\": \"Oldpeak\",\n      \"properties\": {\n        \"dtype\": \"number\",\n        \"std\": 324.18454495166225,\n        \"min\": -2.6,\n        \"max\": 918.0,\n        \"num_unique_values\": 8,\n        \"samples\": [\n          0.8873638344226579,\n          0.6,\n          918.0\n        ],\n        \"semantic_type\": \"\",\n        \"description\": \"\"\n      }\n    },\n    {\n      \"column\": \"HeartDisease\",\n      \"properties\": {\n        \"dtype\": \"number\",\n        \"std\": 324.35768309524013,\n        \"min\": 0.0,\n        \"max\": 918.0,\n        \"num_unique_values\": 5,\n        \"samples\": [\n          0.5533769063180828,\n          1.0,\n          0.4974137382845986\n        ],\n        \"semantic_type\": \"\",\n        \"description\": \"\"\n      }\n    }\n  ]\n}"
            }
          },
          "metadata": {},
          "execution_count": 3
        }
      ]
    },
    {
      "cell_type": "code",
      "source": [
        "# Feature names with mean and standard deviation from the dataset\n",
        "quantifiable_feature_list = ['Age', 'RestingBP', 'Cholesterol', 'FastingBS', 'MaxHR', 'Oldpeak']\n",
        "\n",
        "# The Z-score, also called the Standard Score: https://en.wikipedia.org/wiki/Standard_score\n",
        "# I was advised to remove outliers with a Z-score < -3 or > 3, as in any row with a value\n",
        "# more than 3 standard deviations away from the mean.\n",
        "\n",
        "def calculate_z_score (dataset, column_name):\n",
        "  get_column = dataset [column_name]\n",
        "  return (get_column - get_column.mean()) / get_column.std()\n",
        "\n",
        "# Uncomment to test the addition of new columns for the z-score of each row of each feature.\n",
        "# for feature_name in quantifiable_feature_list:\n",
        "#   heart_disease_raw [feature_name + '-Z-score'] = calculate_z_score (heart_disease_raw, feature_name)\n",
        "# print (heart_disease_raw.head(10))"
      ],
      "metadata": {
        "id": "u3lo4jkBYncQ"
      },
      "execution_count": 4,
      "outputs": []
    },
    {
      "cell_type": "code",
      "source": [
        "def is_outlier_in_given_column (dataset, column_name):\n",
        "  return abs (calculate_z_score (dataset, column_name)) > 3\n",
        "\n",
        "def is_outlier (dataset, column_list):\n",
        "  is_outlier = is_outlier_in_given_column (dataset, column_list[0])\n",
        "  for column_name in column_list[1:]:\n",
        "    is_outlier = is_outlier | is_outlier_in_given_column (dataset, column_name)\n",
        "  return is_outlier"
      ],
      "metadata": {
        "id": "gTephUdrfLhX"
      },
      "execution_count": 5,
      "outputs": []
    },
    {
      "cell_type": "code",
      "source": [
        "heart_disease_raw ['is_outlier'] = is_outlier (heart_disease_raw, quantifiable_feature_list)\n",
        "print (heart_disease_raw ['is_outlier'].value_counts())\n",
        "\n",
        "# A bit tricky to use the drop method on rows by condition, rather than specific indices, but it can be done.\n",
        "# Docs on index method: https://pandas.pydata.org/docs/reference/api/pandas.DataFrame.index.html\n",
        "# KRISTIAN_NOTE - I have a feeling I'll be using this method more in the future.\n",
        "heart_disease_raw.drop (heart_disease_raw[heart_disease_raw ['is_outlier'] == True].index, inplace = True)\n",
        "print (heart_disease_raw['is_outlier'].value_counts())\n",
        "heart_disease_raw.drop (columns = 'is_outlier', inplace = True) # Drop the outliers column once we've removed outliers."
      ],
      "metadata": {
        "id": "RWd7k07zRLjY",
        "colab": {
          "base_uri": "https://localhost:8080/"
        },
        "outputId": "627efa57-ec14-4f43-e838-36866eb73e95"
      },
      "execution_count": 6,
      "outputs": [
        {
          "output_type": "stream",
          "name": "stdout",
          "text": [
            "is_outlier\n",
            "False    899\n",
            "True      19\n",
            "Name: count, dtype: int64\n",
            "is_outlier\n",
            "False    899\n",
            "Name: count, dtype: int64\n"
          ]
        }
      ]
    },
    {
      "cell_type": "markdown",
      "source": [
        "There are five columns that require one-hot encoding before I can train models with this dataset:\n",
        "1. Sex ['F', 'M']\n",
        "2. ChestPainType ['ASY', 'ATA', 'NAP', 'TA']\n",
        "3. RestingECG ['LVH', 'Normal', 'ST']\n",
        "4. ExerciseAngina ['N', 'Y']\n",
        "5. ST_Slope ['Down', 'Flat', 'Up']\n",
        "\n",
        "This should yield 14 total bits with 1's indicating the applicable categories for each row.  For example, the following row:\n",
        "{Sex: 'F', ChestPainType: 'ATA', RestingECG: 'Normal', Exerciseangina: 'N', ST_Slope: 'Up'}\n",
        "\n",
        "will yield the following encoding:\n",
        "[1, 0, 0, 1, 0, 0, 0, 1, 0, 1, 0, 0, 0, 1]"
      ],
      "metadata": {
        "id": "wHRCUlNuJ8mD"
      }
    },
    {
      "cell_type": "code",
      "source": [
        "# One-Hot Encoding works with a number of bits equal to the total number of categories (eg. Male: [1, 0]; Female: [0, 1]),\n",
        "# but it can also work with multiple categories at a time.\n",
        "heart_disease_category_names = ['Sex', 'ChestPainType', 'RestingECG', 'ExerciseAngina', 'ST_Slope']\n",
        "\n",
        "# See documentation: https://scikit-learn.org/stable/modules/generated/sklearn.preprocessing.OneHotEncoder.html\n",
        "# See Wikipedia article: https://en.wikipedia.org/wiki/One-hot\n",
        "one_hot = OneHotEncoder (handle_unknown = 'warn')\n",
        "one_hot.fit (heart_disease_raw[heart_disease_category_names])\n",
        "print (one_hot.categories_)"
      ],
      "metadata": {
        "colab": {
          "base_uri": "https://localhost:8080/"
        },
        "id": "dr3KHcQXIpmi",
        "outputId": "e4d32631-43ea-4f57-b5bd-e2735cf79cca"
      },
      "execution_count": 7,
      "outputs": [
        {
          "output_type": "stream",
          "name": "stdout",
          "text": [
            "[array(['F', 'M'], dtype=object), array(['ASY', 'ATA', 'NAP', 'TA'], dtype=object), array(['LVH', 'Normal', 'ST'], dtype=object), array(['N', 'Y'], dtype=object), array(['Down', 'Flat', 'Up'], dtype=object)]\n"
          ]
        }
      ]
    },
    {
      "cell_type": "code",
      "source": [
        "encoded_categories = one_hot.transform (heart_disease_raw[heart_disease_category_names]).toarray().tolist()\n",
        "# print (encoded_categories[0:3]) # Uncomment to check if categories correctly encoded.\n",
        "\n",
        "one_hot_encoded_columns = pandas.DataFrame (encoded_categories, columns = one_hot.get_feature_names_out())\n",
        "print (one_hot_encoded_columns.shape)"
      ],
      "metadata": {
        "colab": {
          "base_uri": "https://localhost:8080/"
        },
        "id": "R-M5c4QtCBvq",
        "outputId": "93ec60fe-e175-493a-9681-fbc1c7d02346"
      },
      "execution_count": 8,
      "outputs": [
        {
          "output_type": "stream",
          "name": "stdout",
          "text": [
            "(899, 14)\n"
          ]
        }
      ]
    },
    {
      "cell_type": "code",
      "source": [
        "# When the index numbers between the rows on a pair of DataFrames does not align perfectly,\n",
        "# it creates extra rows populated with NaN values for several features.  Even if both\n",
        "# DataFrames have the exact same number of rows, one can accidentally concat them\n",
        "# together into a DataFrame with more rows than the pair used to create it.\n",
        "# The easiest workaround is to simply remove the indices from each DataFrame before merging\n",
        "# as this workaround suggests:\n",
        "# https://stackoverflow.com/questions/45963799/pandas-concat-resulting-in-nan-rows\n",
        "# KRISTIAN_NOTE - This workaround is acceptable for this project because we don't care about\n",
        "# the indices for this particular dataset.\n",
        "heart_disease_raw.reset_index (drop = True, inplace = True)\n",
        "one_hot_encoded_columns.reset_index (drop = True, inplace = True)\n",
        "encoded_heart_disease_df = pandas.concat (\\\n",
        "  [heart_disease_raw, one_hot_encoded_columns],\\\n",
        "  axis = 'columns'\\\n",
        ")\n",
        "print (encoded_heart_disease_df.shape)"
      ],
      "metadata": {
        "colab": {
          "base_uri": "https://localhost:8080/"
        },
        "id": "SeOyJUHDEydp",
        "outputId": "1d2ef680-f2c2-4ab1-aa1c-4403a4fdd7bf"
      },
      "execution_count": 9,
      "outputs": [
        {
          "output_type": "stream",
          "name": "stdout",
          "text": [
            "(899, 26)\n"
          ]
        }
      ]
    },
    {
      "cell_type": "code",
      "source": [
        "encoded_heart_disease_df.drop (columns = heart_disease_category_names, inplace = True)\n",
        "print (encoded_heart_disease_df.head(10))"
      ],
      "metadata": {
        "colab": {
          "base_uri": "https://localhost:8080/"
        },
        "id": "-LNizGdBE3Tp",
        "outputId": "733883ee-4aaa-49c2-f18d-5f9371ab7e8c"
      },
      "execution_count": 10,
      "outputs": [
        {
          "output_type": "stream",
          "name": "stdout",
          "text": [
            "   Age  RestingBP  Cholesterol  FastingBS  MaxHR  Oldpeak  HeartDisease  \\\n",
            "0   40        140          289          0    172      0.0             0   \n",
            "1   49        160          180          0    156      1.0             1   \n",
            "2   37        130          283          0     98      0.0             0   \n",
            "3   48        138          214          0    108      1.5             1   \n",
            "4   54        150          195          0    122      0.0             0   \n",
            "5   39        120          339          0    170      0.0             0   \n",
            "6   45        130          237          0    170      0.0             0   \n",
            "7   54        110          208          0    142      0.0             0   \n",
            "8   37        140          207          0    130      1.5             1   \n",
            "9   48        120          284          0    120      0.0             0   \n",
            "\n",
            "   Sex_F  Sex_M  ChestPainType_ASY  ChestPainType_ATA  ChestPainType_NAP  \\\n",
            "0    0.0    1.0                0.0                1.0                0.0   \n",
            "1    1.0    0.0                0.0                0.0                1.0   \n",
            "2    0.0    1.0                0.0                1.0                0.0   \n",
            "3    1.0    0.0                1.0                0.0                0.0   \n",
            "4    0.0    1.0                0.0                0.0                1.0   \n",
            "5    0.0    1.0                0.0                0.0                1.0   \n",
            "6    1.0    0.0                0.0                1.0                0.0   \n",
            "7    0.0    1.0                0.0                1.0                0.0   \n",
            "8    0.0    1.0                1.0                0.0                0.0   \n",
            "9    1.0    0.0                0.0                1.0                0.0   \n",
            "\n",
            "   ChestPainType_TA  RestingECG_LVH  RestingECG_Normal  RestingECG_ST  \\\n",
            "0               0.0             0.0                1.0            0.0   \n",
            "1               0.0             0.0                1.0            0.0   \n",
            "2               0.0             0.0                0.0            1.0   \n",
            "3               0.0             0.0                1.0            0.0   \n",
            "4               0.0             0.0                1.0            0.0   \n",
            "5               0.0             0.0                1.0            0.0   \n",
            "6               0.0             0.0                1.0            0.0   \n",
            "7               0.0             0.0                1.0            0.0   \n",
            "8               0.0             0.0                1.0            0.0   \n",
            "9               0.0             0.0                1.0            0.0   \n",
            "\n",
            "   ExerciseAngina_N  ExerciseAngina_Y  ST_Slope_Down  ST_Slope_Flat  \\\n",
            "0               1.0               0.0            0.0            0.0   \n",
            "1               1.0               0.0            0.0            1.0   \n",
            "2               1.0               0.0            0.0            0.0   \n",
            "3               0.0               1.0            0.0            1.0   \n",
            "4               1.0               0.0            0.0            0.0   \n",
            "5               1.0               0.0            0.0            0.0   \n",
            "6               1.0               0.0            0.0            0.0   \n",
            "7               1.0               0.0            0.0            0.0   \n",
            "8               0.0               1.0            0.0            1.0   \n",
            "9               1.0               0.0            0.0            0.0   \n",
            "\n",
            "   ST_Slope_Up  \n",
            "0          1.0  \n",
            "1          0.0  \n",
            "2          1.0  \n",
            "3          0.0  \n",
            "4          1.0  \n",
            "5          1.0  \n",
            "6          1.0  \n",
            "7          1.0  \n",
            "8          0.0  \n",
            "9          1.0  \n"
          ]
        }
      ]
    },
    {
      "cell_type": "code",
      "source": [
        "print (encoded_heart_disease_df.isnull().sum())"
      ],
      "metadata": {
        "colab": {
          "base_uri": "https://localhost:8080/"
        },
        "id": "7NUS54GWFLRB",
        "outputId": "3b78f3a7-347b-42a5-bb90-6d26ed4a1d78"
      },
      "execution_count": 11,
      "outputs": [
        {
          "output_type": "stream",
          "name": "stdout",
          "text": [
            "Age                  0\n",
            "RestingBP            0\n",
            "Cholesterol          0\n",
            "FastingBS            0\n",
            "MaxHR                0\n",
            "Oldpeak              0\n",
            "HeartDisease         0\n",
            "Sex_F                0\n",
            "Sex_M                0\n",
            "ChestPainType_ASY    0\n",
            "ChestPainType_ATA    0\n",
            "ChestPainType_NAP    0\n",
            "ChestPainType_TA     0\n",
            "RestingECG_LVH       0\n",
            "RestingECG_Normal    0\n",
            "RestingECG_ST        0\n",
            "ExerciseAngina_N     0\n",
            "ExerciseAngina_Y     0\n",
            "ST_Slope_Down        0\n",
            "ST_Slope_Flat        0\n",
            "ST_Slope_Up          0\n",
            "dtype: int64\n"
          ]
        }
      ]
    },
    {
      "cell_type": "code",
      "source": [
        "# At last, we split the dataset by dropping the 'HeartDisease' column and saving it as the target vector.\n",
        "heart_disease_features = encoded_heart_disease_df.drop (columns = 'HeartDisease')\n",
        "heart_disease_target = encoded_heart_disease_df['HeartDisease']\n",
        "print (heart_disease_features.head())\n",
        "print (heart_disease_target.head())"
      ],
      "metadata": {
        "id": "ya5Y8wHWDzQd",
        "colab": {
          "base_uri": "https://localhost:8080/"
        },
        "outputId": "324fee06-81f8-4832-9353-31ac36db4370"
      },
      "execution_count": 12,
      "outputs": [
        {
          "output_type": "stream",
          "name": "stdout",
          "text": [
            "   Age  RestingBP  Cholesterol  FastingBS  MaxHR  Oldpeak  Sex_F  Sex_M  \\\n",
            "0   40        140          289          0    172      0.0    0.0    1.0   \n",
            "1   49        160          180          0    156      1.0    1.0    0.0   \n",
            "2   37        130          283          0     98      0.0    0.0    1.0   \n",
            "3   48        138          214          0    108      1.5    1.0    0.0   \n",
            "4   54        150          195          0    122      0.0    0.0    1.0   \n",
            "\n",
            "   ChestPainType_ASY  ChestPainType_ATA  ChestPainType_NAP  ChestPainType_TA  \\\n",
            "0                0.0                1.0                0.0               0.0   \n",
            "1                0.0                0.0                1.0               0.0   \n",
            "2                0.0                1.0                0.0               0.0   \n",
            "3                1.0                0.0                0.0               0.0   \n",
            "4                0.0                0.0                1.0               0.0   \n",
            "\n",
            "   RestingECG_LVH  RestingECG_Normal  RestingECG_ST  ExerciseAngina_N  \\\n",
            "0             0.0                1.0            0.0               1.0   \n",
            "1             0.0                1.0            0.0               1.0   \n",
            "2             0.0                0.0            1.0               1.0   \n",
            "3             0.0                1.0            0.0               0.0   \n",
            "4             0.0                1.0            0.0               1.0   \n",
            "\n",
            "   ExerciseAngina_Y  ST_Slope_Down  ST_Slope_Flat  ST_Slope_Up  \n",
            "0               0.0            0.0            0.0          1.0  \n",
            "1               0.0            0.0            1.0          0.0  \n",
            "2               0.0            0.0            0.0          1.0  \n",
            "3               1.0            0.0            1.0          0.0  \n",
            "4               0.0            0.0            0.0          1.0  \n",
            "0    0\n",
            "1    1\n",
            "2    0\n",
            "3    1\n",
            "4    0\n",
            "Name: HeartDisease, dtype: int64\n"
          ]
        }
      ]
    },
    {
      "cell_type": "code",
      "source": [
        "# KRISTIAN_NOTE - Looks pretty evenly split between people with heart disease and people without.\n",
        "print (heart_disease_target.value_counts())"
      ],
      "metadata": {
        "colab": {
          "base_uri": "https://localhost:8080/"
        },
        "id": "SF2CO7CohyFL",
        "outputId": "725e0341-f9f6-447a-c20a-b55a037af442"
      },
      "execution_count": 13,
      "outputs": [
        {
          "output_type": "stream",
          "name": "stdout",
          "text": [
            "HeartDisease\n",
            "1    492\n",
            "0    407\n",
            "Name: count, dtype: int64\n"
          ]
        }
      ]
    },
    {
      "cell_type": "code",
      "source": [
        "# Same as logistic regression project, scale each column by the standard deviation of its features\n",
        "scaler = StandardScaler (with_std = True)\n",
        "\n",
        "# But in this case, codebasics scales ALL the features, as opposed to scaling both the training and test sets by the\n",
        "# standard deviation of only the training set after a train/test split.  Let's only scale the columns that aren't one-hot encoded.\n",
        "scaled_features = scaler.fit_transform (heart_disease_features[quantifiable_feature_list])"
      ],
      "metadata": {
        "id": "YsL5GjvNTzg5"
      },
      "execution_count": 14,
      "outputs": []
    },
    {
      "cell_type": "code",
      "source": [
        "# Because the outcomes are almost evenly split between 0 and 1 for heart disease,\n",
        "# I don't think 'stratify = heart_disease_target' will be necessary.\n",
        "features_train, features_test, targets_train, targets_test = train_test_split(\\\n",
        "  scaled_features, heart_disease_target, random_state = 8\\\n",
        ")"
      ],
      "metadata": {
        "id": "g-CA4NOVcWcg"
      },
      "execution_count": 15,
      "outputs": []
    },
    {
      "cell_type": "code",
      "source": [
        "svc_model = SVC (random_state = 8)\n",
        "svc_model.fit (features_train, targets_train)\n",
        "print (svc_model.score (features_test, targets_test))"
      ],
      "metadata": {
        "colab": {
          "base_uri": "https://localhost:8080/"
        },
        "id": "gn7EP-OM3Lmm",
        "outputId": "dcbb2784-5131-495c-9687-563116811c56"
      },
      "execution_count": 16,
      "outputs": [
        {
          "output_type": "stream",
          "name": "stdout",
          "text": [
            "0.7244444444444444\n"
          ]
        }
      ]
    },
    {
      "cell_type": "code",
      "source": [
        "bagging_svc_model = BaggingClassifier (\\\n",
        "  estimator = SVC(),\\\n",
        "  n_estimators = 40,\\\n",
        "  max_features = 0.8,\\\n",
        "  bootstrap = True,\\\n",
        "  oob_score = True,\\\n",
        "  random_state = 8\\\n",
        ")\n",
        "bagging_svc_model.fit (features_train, targets_train)\n",
        "print (bagging_svc_model.score (features_test, targets_test))\n",
        "print (bagging_svc_model.oob_score_)"
      ],
      "metadata": {
        "colab": {
          "base_uri": "https://localhost:8080/"
        },
        "id": "aFXewwYPHros",
        "outputId": "53b3c577-1dcf-4d87-c905-75c8beb7a0f6"
      },
      "execution_count": 17,
      "outputs": [
        {
          "output_type": "stream",
          "name": "stdout",
          "text": [
            "0.7511111111111111\n",
            "0.7759643916913946\n"
          ]
        }
      ]
    },
    {
      "cell_type": "code",
      "source": [
        "decision_tree_model = DecisionTreeClassifier (criterion = 'gini', random_state = 8)\n",
        "decision_tree_model.fit (features_train, targets_train)\n",
        "print (decision_tree_model.score (features_test, targets_test))"
      ],
      "metadata": {
        "colab": {
          "base_uri": "https://localhost:8080/"
        },
        "id": "qUQ-ZwvoIxiY",
        "outputId": "a675f342-3a4a-4236-9876-9aa1afe3d829"
      },
      "execution_count": 18,
      "outputs": [
        {
          "output_type": "stream",
          "name": "stdout",
          "text": [
            "0.6755555555555556\n"
          ]
        }
      ]
    },
    {
      "cell_type": "code",
      "source": [
        "bagging_tree_model = BaggingClassifier (\\\n",
        "  estimator = DecisionTreeClassifier(),\\\n",
        "  n_estimators = 40,\\\n",
        "  max_features = 0.8,\\\n",
        "  bootstrap = True,\\\n",
        "  oob_score = True,\\\n",
        "  random_state = 8\\\n",
        ")\n",
        "bagging_tree_model.fit (features_train, targets_train)\n",
        "print (bagging_tree_model.score (features_test, targets_test))\n",
        "print (bagging_tree_model.oob_score_)"
      ],
      "metadata": {
        "colab": {
          "base_uri": "https://localhost:8080/"
        },
        "id": "uny-hgvJJb2l",
        "outputId": "7a4d8718-a3b6-45f9-996f-d36e4a3e116e"
      },
      "execution_count": 19,
      "outputs": [
        {
          "output_type": "stream",
          "name": "stdout",
          "text": [
            "0.7155555555555555\n",
            "0.7418397626112759\n"
          ]
        }
      ]
    },
    {
      "cell_type": "code",
      "source": [
        "random_svc_model = SVC()\n",
        "\n",
        "random_bagging_svc_model = BaggingClassifier(\\\n",
        "  estimator = SVC(),\\\n",
        "  n_estimators = 100,\\\n",
        "  max_features = 0.8,\\\n",
        "  bootstrap = True,\\\n",
        ")\n",
        "\n",
        "random_decision_tree_model = DecisionTreeClassifier (criterion = 'gini')\n",
        "\n",
        "random_bagging_tree_model = BaggingClassifier (\\\n",
        "  estimator = DecisionTreeClassifier(),\\\n",
        "  n_estimators = 100,\\\n",
        "  max_features = 0.8,\\\n",
        "  bootstrap = True,\\\n",
        ")\n",
        "\n",
        "# How to show four different models in the same boxplot?\n",
        "svc_scores = cross_val_score (random_svc_model, scaled_features, heart_disease_target, cv = 10)\n",
        "seaborn.boxplot (data = svc_scores)"
      ],
      "metadata": {
        "colab": {
          "base_uri": "https://localhost:8080/",
          "height": 428
        },
        "id": "HLQlnH8PTNgU",
        "outputId": "02036fa2-a4b9-4f1b-dcaf-2877ddfa832f"
      },
      "execution_count": 23,
      "outputs": [
        {
          "output_type": "execute_result",
          "data": {
            "text/plain": [
              "<Axes: >"
            ]
          },
          "metadata": {},
          "execution_count": 23
        },
        {
          "output_type": "display_data",
          "data": {
            "text/plain": [
              "<Figure size 640x480 with 1 Axes>"
            ],
            "image/png": "[encoded data removed]"
          },
          "metadata": {}
        }
      ]
    }
  ]
}